{
  "cells": [
    {
      "cell_type": "markdown",
      "metadata": {
        "id": "view-in-github",
        "colab_type": "text"
      },
      "source": [
        "<a href=\"https://colab.research.google.com/github/LucasMirandaVS/estudos_python/blob/main/V1_Forecast_Rest_(Beta).ipynb\" target=\"_parent\"><img src=\"https://colab.research.google.com/assets/colab-badge.svg\" alt=\"Open In Colab\"/></a>"
      ]
    },
    {
      "cell_type": "code",
      "execution_count": null,
      "metadata": {
        "colab": {
          "base_uri": "https://localhost:8080/"
        },
        "id": "C6_1e4jkn_qh",
        "outputId": "1b01034a-b2c1-4f99-c2df-76dab8b85480"
      },
      "outputs": [
        {
          "output_type": "stream",
          "name": "stdout",
          "text": [
            "Sem dados suficientes para treinar para o tier: nan\n"
          ]
        }
      ],
      "source": [
        "import numpy as np\n",
        "import pandas as pd\n",
        "from sklearn.ensemble import GradientBoostingRegressor\n",
        "from sklearn.pipeline import Pipeline\n",
        "from sklearn.preprocessing import StandardScaler, OneHotEncoder\n",
        "from sklearn.compose import ColumnTransformer\n",
        "from sklearn.model_selection import train_test_split\n",
        "from datetime import datetime, timedelta\n",
        "\n",
        "# Carregar os dados\n",
        "path = '/content/Result_1.csv'\n",
        "df = pd.read_csv(path)\n",
        "\n",
        "# Converter a coluna 'DAY' para o tipo datetime\n",
        "df['DAY'] = pd.to_datetime(df['DAY'])\n",
        "\n",
        "# Criar características a partir da coluna de data\n",
        "df['year'] = df['DAY'].dt.year\n",
        "df['month'] = df['DAY'].dt.month\n",
        "df['day'] = df['DAY'].dt.day\n",
        "df['dayofweek'] = df['DAY'].dt.dayofweek\n",
        "df['weekofyear'] = df['DAY'].dt.isocalendar().week\n",
        "df['is_weekend'] = df['DAY'].dt.dayofweek >= 5\n",
        "\n",
        "# Adicionar variável de feriado (exemplo)\n",
        "feriados = pd.to_datetime(['2024-01-01', '2024-04-21', '2024-05-01', '2024-06-15', '2024-08-11','2024-09-07', '2024-10-12', '2024-11-02', '2024-11-15', '2024-12-25'])\n",
        "df['is_holiday'] = df['DAY'].isin(feriados)\n",
        "\n",
        "# Seleção de características (X) e variável alvo (y)\n",
        "X = df[['year', 'month', 'day', 'dayofweek', 'weekofyear', 'is_weekend', 'is_holiday', 'TIER']]\n",
        "y = df['ORDERS']\n",
        "\n",
        "# Função para treinar modelo por tier\n",
        "def train_model(tier, X, y):\n",
        "    X_tier = X[X['TIER'] == tier]\n",
        "    y_tier = y[X['TIER'] == tier]\n",
        "\n",
        "    if X_tier.shape[0] == 0:\n",
        "        print(f\"Sem dados suficientes para treinar para o tier: {tier}\")\n",
        "        return None\n",
        "\n",
        "    X_train, X_test, y_train, y_test = train_test_split(X_tier, y_tier, test_size=0.2, random_state=42)\n",
        "\n",
        "    numeric_features = ['year', 'month', 'day', 'dayofweek', 'weekofyear']\n",
        "    categorical_features = ['is_weekend', 'is_holiday']\n",
        "\n",
        "    numeric_transformer = StandardScaler()\n",
        "    categorical_transformer = OneHotEncoder(drop='first')\n",
        "\n",
        "    preprocessor = ColumnTransformer(\n",
        "        transformers=[\n",
        "            ('num', numeric_transformer, numeric_features),\n",
        "            ('cat', categorical_transformer, categorical_features)\n",
        "        ])\n",
        "\n",
        "    pipeline = Pipeline(steps=[\n",
        "        ('preprocessor', preprocessor),\n",
        "        ('regressor', GradientBoostingRegressor(random_state=42))\n",
        "    ])\n",
        "\n",
        "    pipeline.fit(X_train, y_train)\n",
        "\n",
        "    return pipeline\n",
        "\n",
        "# Treinar modelos para cada tier\n",
        "tiers = X['TIER'].unique()\n",
        "models = {}\n",
        "\n",
        "for tier in tiers:\n",
        "    model = train_model(tier, X, y)\n",
        "    if model is not None:\n",
        "        models[tier] = model\n",
        "\n",
        "# Função para fazer previsões para os próximos 365 dias\n",
        "def predict_next_365_days(models, tiers, start_date):\n",
        "    predictions = []\n",
        "\n",
        "    for tier in tiers:\n",
        "        if tier not in models:\n",
        "            continue\n",
        "\n",
        "        model = models[tier]\n",
        "        next_day = start_date.date()  # Converter para objeto date\n",
        "\n",
        "        for i in range(365):\n",
        "            next_day_data = {\n",
        "                'year': next_day.year,\n",
        "                'month': next_day.month,\n",
        "                'day': next_day.day,\n",
        "                'dayofweek': next_day.weekday(),  # Usar weekday() para obter o dia da semana\n",
        "                'weekofyear': next_day.isocalendar()[1],\n",
        "                'is_weekend': next_day.weekday() >= 5,\n",
        "                'is_holiday': next_day in feriados,\n",
        "                'TIER': tier\n",
        "            }\n",
        "            X_pred = pd.DataFrame(next_day_data, index=[0])\n",
        "            predicted_orders = model.predict(X_pred)[0]\n",
        "            predictions.append({\n",
        "                'DAY': next_day.strftime('%Y-%m-%d'),\n",
        "                'TIER': tier,\n",
        "                'ORDERS': predicted_orders\n",
        "            })\n",
        "            next_day += timedelta(days=1)\n",
        "\n",
        "    return pd.DataFrame(predictions)\n",
        "\n",
        "# Definir a data de início para as previsões (1 de julho de 2024)\n",
        "start_date = datetime(2024, 7, 1)\n",
        "\n",
        "# Prever os próximos 365 dias para cada vertical a partir de start_date\n",
        "predictions_next_365_days = predict_next_365_days(models, tiers, start_date)\n",
        "\n",
        "# Definir o nome do arquivo de saída com a data atual\n",
        "output_date = datetime.now().strftime('%d_%m_%Y')\n",
        "output_path = fr'predictions_next_365_days({output_date}).csv'\n",
        "\n",
        "# Salvar os resultados em um arquivo CSV no caminho especificado\n",
        "predictions_next_365_days.to_csv(output_path, index=False)\n"
      ]
    }
  ],
  "metadata": {
    "colab": {
      "provenance": [],
      "include_colab_link": true
    },
    "kernelspec": {
      "display_name": "Python 3",
      "name": "python3"
    },
    "language_info": {
      "name": "python"
    }
  },
  "nbformat": 4,
  "nbformat_minor": 0
}