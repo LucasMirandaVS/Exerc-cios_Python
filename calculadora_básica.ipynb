{
 "cells": [
  {
   "cell_type": "markdown",
   "metadata": {},
   "source": [
    "Fazendo uma calculadora básica em python com as funções base."
   ]
  },
  {
   "cell_type": "code",
   "execution_count": 11,
   "metadata": {},
   "outputs": [
    {
     "name": "stdout",
     "output_type": "stream",
     "text": [
      "soma\n"
     ]
    }
   ],
   "source": [
    "# Função pedindo os números do input:\n",
    "operador = input(\"Digite uma opção(soma, subtração, multiplicação ou divisão): \")\n",
    "print(operador)"
   ]
  },
  {
   "cell_type": "code",
   "execution_count": 12,
   "metadata": {},
   "outputs": [
    {
     "name": "stdout",
     "output_type": "stream",
     "text": [
      "o primeiro número é: 8.0\n",
      "o segundo número é: 9.0\n",
      "e o resultado da soma é é: 17.0\n"
     ]
    }
   ],
   "source": [
    "#Definindo os numeros a serem digitados e as funções das operações matemáticas:\n",
    "primNum = float(input('Digite o primeiro número: '))\n",
    "segNum = float(input('Digite o segundo número: '))\n",
    "\n",
    "if operador == 'soma':\n",
    "    res = (primNum + segNum)\n",
    "    print(f'o primeiro número é: {primNum}')\n",
    "    print(f'o segundo número é: {segNum}')\n",
    "    print(f'e o resultado da soma é é: {res}')\n",
    "elif operador == 'subtração':\n",
    "    res = (primNum - segNum)\n",
    "    print(f'O primeiro número é: {primNum}')\n",
    "    print(f'o segunda número é: {segNum}')\n",
    "    print(f'E o resultado da subtração é: {res}')\n",
    "elif operador == 'multiplicação':\n",
    "    res = (primNum * segNum)\n",
    "    print(f'O primeiro número é: {primNum}')\n",
    "    print(f'o segunda número : {segNum}')\n",
    "    print(f'E o resultado da multiplicação é: {res}')\n",
    "elif operador == 'divisão':\n",
    "    res = (primNum/segNum)\n",
    "    print(f'O primeiro número é: {primNum}')\n",
    "    print(f'o segunda número : {segNum}')\n",
    "    print(f'E o resultado da divisão é: {res}')\n",
    "else:\n",
    "    print('Formato inválido')"
   ]
  }
 ],
 "metadata": {
  "interpreter": {
   "hash": "f47a5ab19bc45083382657f6f2388be666e731531973f00c5e26ff8c66213130"
  },
  "kernelspec": {
   "display_name": "Python 3.9.6 64-bit",
   "language": "python",
   "name": "python3"
  },
  "language_info": {
   "codemirror_mode": {
    "name": "ipython",
    "version": 3
   },
   "file_extension": ".py",
   "mimetype": "text/x-python",
   "name": "python",
   "nbconvert_exporter": "python",
   "pygments_lexer": "ipython3",
   "version": "3.9.6"
  },
  "orig_nbformat": 4
 },
 "nbformat": 4,
 "nbformat_minor": 2
}
