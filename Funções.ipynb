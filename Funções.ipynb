{
  "nbformat": 4,
  "nbformat_minor": 0,
  "metadata": {
    "colab": {
      "name": "Funções.ipynb",
      "provenance": [],
      "collapsed_sections": []
    },
    "kernelspec": {
      "name": "python3",
      "display_name": "Python 3"
    },
    "language_info": {
      "name": "python"
    }
  },
  "cells": [
    {
      "cell_type": "markdown",
      "source": [
        "\n",
        "1) CRIE UMA FUNÇÃO QUE ACEITA DOIS ARGUMENTOS (NOME E IDADE) E IMPRIMIR SEU VALOR"
      ],
      "metadata": {
        "id": "DO7cYinMZBf2"
      }
    },
    {
      "cell_type": "code",
      "execution_count": null,
      "metadata": {
        "id": "VYD8SWCkY63i"
      },
      "outputs": [],
      "source": [
        "def nom_id(nome, idade):\n",
        "  return(f\"O nome é {nome} e a idade é {idade}\")"
      ]
    },
    {
      "cell_type": "code",
      "source": [
        "nom_id(\"Lucas\", 27)"
      ],
      "metadata": {
        "colab": {
          "base_uri": "https://localhost:8080/",
          "height": 35
        },
        "id": "H3mzJwwhoE8L",
        "outputId": "e4290b6d-e697-49cc-bf69-9cdb879e8c12"
      },
      "execution_count": null,
      "outputs": [
        {
          "output_type": "execute_result",
          "data": {
            "text/plain": [
              "'O nome é Lucas e a idade é 27'"
            ],
            "application/vnd.google.colaboratory.intrinsic+json": {
              "type": "string"
            }
          },
          "metadata": {},
          "execution_count": 6
        }
      ]
    },
    {
      "cell_type": "markdown",
      "source": [
        "2) ESCREVA UMA FUNÇÃO DE FORMA QUE ELA POSSA ACEITAR UM TAMANHO VARIÁVEL DE\n",
        "ARGUMENTO E IMPRIMIR TODOS OS VALORES DOS ARGUMENTOS."
      ],
      "metadata": {
        "id": "Uiv705WjZBVn"
      }
    },
    {
      "cell_type": "code",
      "source": [
        "def inf_par(*args):\n",
        "  for i in args:\n",
        "    print(i)"
      ],
      "metadata": {
        "id": "dIYRaPi0ZL3g"
      },
      "execution_count": null,
      "outputs": []
    },
    {
      "cell_type": "code",
      "source": [
        "inf_par(80,78,90)"
      ],
      "metadata": {
        "colab": {
          "base_uri": "https://localhost:8080/"
        },
        "id": "OOzEzwqwpxKQ",
        "outputId": "7b02808d-1f8c-4963-f0e8-40535e73b928"
      },
      "execution_count": null,
      "outputs": [
        {
          "output_type": "stream",
          "name": "stdout",
          "text": [
            "80\n",
            "78\n",
            "90\n"
          ]
        }
      ]
    },
    {
      "cell_type": "markdown",
      "source": [
        "3) ESCREVA UMA FUNÇÃO () QUE POSSA ACEITE DUAS VARIÁVEIS E CALCULE A ADIÇÃO E\n",
        "SUBTRAÇÃO DELAS. E TAMBÉM DEVE RETORNAR ADIÇÃO E SUBTRAÇÃO EM UMA ÚNICA\n",
        "CHAMADA DE RETORNO"
      ],
      "metadata": {
        "id": "QPJfxZPFZOjz"
      }
    },
    {
      "cell_type": "code",
      "source": [
        "def calc(x, y):\n",
        "  soma = x + y\n",
        "  sub = x - y\n",
        "  return soma, sub\n"
      ],
      "metadata": {
        "id": "eUCeWQsGZQK7"
      },
      "execution_count": null,
      "outputs": []
    },
    {
      "cell_type": "code",
      "source": [
        "calc(3,4)"
      ],
      "metadata": {
        "colab": {
          "base_uri": "https://localhost:8080/"
        },
        "id": "aBMG7cHLqe4G",
        "outputId": "1d63c91b-07f1-4245-b86d-43ecffb7583f"
      },
      "execution_count": null,
      "outputs": [
        {
          "output_type": "execute_result",
          "data": {
            "text/plain": [
              "(7, -1)"
            ]
          },
          "metadata": {},
          "execution_count": 12
        }
      ]
    },
    {
      "cell_type": "code",
      "source": [
        "soma, sub = calc(3,4)\n",
        "print(soma)\n",
        "print(sub)"
      ],
      "metadata": {
        "colab": {
          "base_uri": "https://localhost:8080/"
        },
        "id": "dQYPCndSrA96",
        "outputId": "595f47a0-266c-477c-ab43-cf39c576f604"
      },
      "execution_count": null,
      "outputs": [
        {
          "output_type": "stream",
          "name": "stdout",
          "text": [
            "7\n",
            "-1\n"
          ]
        }
      ]
    },
    {
      "cell_type": "markdown",
      "source": [
        "4) CRIE UMA FUNÇÃO QUE ACEI TE O NOME DO FUNCIONÁRIO E SEU SALÁRIO E EXIBA AMBOS. SE O SALÁRIO ESTIVER FALTANDO NA CHAMADA DE FUNÇÃO, ATRIBUA O VALOR PADRÃO 1000 AO\n",
        "SALÁRIO."
      ],
      "metadata": {
        "id": "1hAXINhfZQlM"
      }
    },
    {
      "cell_type": "code",
      "source": [
        "def sal(nome, salario = 100):\n",
        "  return (nome, salario)"
      ],
      "metadata": {
        "id": "SYJqEPyeZVvY"
      },
      "execution_count": null,
      "outputs": []
    },
    {
      "cell_type": "code",
      "source": [
        "nome, salario = sal(\"Lucas\")\n",
        "print(nome)\n",
        "print(salario)"
      ],
      "metadata": {
        "colab": {
          "base_uri": "https://localhost:8080/"
        },
        "id": "264cuVgorzQn",
        "outputId": "e95b2476-2858-4b17-9d8d-09293832099c"
      },
      "execution_count": null,
      "outputs": [
        {
          "output_type": "stream",
          "name": "stdout",
          "text": [
            "Lucas\n",
            "100\n"
          ]
        }
      ]
    },
    {
      "cell_type": "markdown",
      "source": [
        "5) ESCREVA UMA FUNÇÃO RECURSIVA PARA CALCULAR A SOMA DOS NÚMEROS DE 0 A 10"
      ],
      "metadata": {
        "id": "033yZ_7DZWYx"
      }
    },
    {
      "cell_type": "code",
      "source": [
        "def soma(num):\n",
        "  if (num):\n",
        "    return num + soma(num - 1)\n",
        "  else:\n",
        "    return 0"
      ],
      "metadata": {
        "id": "xTR4ve6gZahH"
      },
      "execution_count": null,
      "outputs": []
    },
    {
      "cell_type": "code",
      "source": [
        "soma(10)"
      ],
      "metadata": {
        "colab": {
          "base_uri": "https://localhost:8080/"
        },
        "id": "QVjk0nsmsx4o",
        "outputId": "11c692cf-fc24-487a-84a0-7b604456a7f3"
      },
      "execution_count": null,
      "outputs": [
        {
          "output_type": "execute_result",
          "data": {
            "text/plain": [
              "55"
            ]
          },
          "metadata": {},
          "execution_count": 26
        }
      ]
    },
    {
      "cell_type": "markdown",
      "source": [
        "6) ESCREVA UMA FUNÇÃO E QUANDO FOR USÁ- LA CHAME POR UM NOVO NOME."
      ],
      "metadata": {
        "id": "jkVXjiN_ZbIA"
      }
    },
    {
      "cell_type": "code",
      "source": [
        "def mostra(nome, idade):\n",
        "  return nome, idade"
      ],
      "metadata": {
        "id": "91EgIc4pZdKC"
      },
      "execution_count": null,
      "outputs": []
    },
    {
      "cell_type": "code",
      "source": [
        "mostra_n = mostra"
      ],
      "metadata": {
        "id": "o9jNDWAztb2z"
      },
      "execution_count": null,
      "outputs": []
    },
    {
      "cell_type": "code",
      "source": [
        "mostra_n(\"Lucas\", 27)"
      ],
      "metadata": {
        "colab": {
          "base_uri": "https://localhost:8080/"
        },
        "id": "2bIxq4kRtgqj",
        "outputId": "0567f77f-d7fb-4513-a1d0-f498f87c5a73"
      },
      "execution_count": null,
      "outputs": [
        {
          "output_type": "execute_result",
          "data": {
            "text/plain": [
              "('Lucas', 27)"
            ]
          },
          "metadata": {},
          "execution_count": 34
        }
      ]
    },
    {
      "cell_type": "markdown",
      "source": [
        "7) CRIE UMA FUNÇÃO QUE RECEBE COMO PARÂMETRO UM NÚMERO INTEIRO E DEVOLVE O SEU\n",
        "DOBRO.\n"
      ],
      "metadata": {
        "id": "88AmHAoJZd6g"
      }
    },
    {
      "cell_type": "code",
      "source": [
        "def dobro(entrada):\n",
        "  return 2 * entrada"
      ],
      "metadata": {
        "id": "ELABlVjAZhL5"
      },
      "execution_count": null,
      "outputs": []
    },
    {
      "cell_type": "code",
      "source": [
        "receb_dobro = dobro(10)\n",
        "print(receb_dobro)"
      ],
      "metadata": {
        "colab": {
          "base_uri": "https://localhost:8080/"
        },
        "id": "CMTsRt8LuX1f",
        "outputId": "5c26db6a-2a95-416f-c78c-b6b0b19a9923"
      },
      "execution_count": null,
      "outputs": [
        {
          "output_type": "stream",
          "name": "stdout",
          "text": [
            "20\n"
          ]
        }
      ]
    },
    {
      "cell_type": "markdown",
      "source": [
        "8) FAÇA UMA FUNÇÃO PARA VERI F ICAR SE UM NÚMERO É POSITIVO OU NEGATIVO. SENDO QUE O VALOR DE RETORNO SERA 1 SE POSITIVO, -1 SE NEGATIVO E 0 SE FOR IGUAL A 0"
      ],
      "metadata": {
        "id": "2wFfuiTtZjQK"
      }
    },
    {
      "cell_type": "code",
      "source": [
        "def verif(x):\n",
        "  if ( x > 0):\n",
        "    return 1\n",
        "  elif ( x < 0):\n",
        "    return -1\n",
        "  else:\n",
        "    return \"Igual a 0\""
      ],
      "metadata": {
        "id": "tffAHs3AZmh-"
      },
      "execution_count": null,
      "outputs": []
    },
    {
      "cell_type": "code",
      "source": [
        "verif(10)"
      ],
      "metadata": {
        "colab": {
          "base_uri": "https://localhost:8080/"
        },
        "id": "jTByySsQux4y",
        "outputId": "1058339e-1779-4a9a-a532-205897c3e101"
      },
      "execution_count": null,
      "outputs": [
        {
          "output_type": "execute_result",
          "data": {
            "text/plain": [
              "1"
            ]
          },
          "metadata": {},
          "execution_count": 39
        }
      ]
    },
    {
      "cell_type": "markdown",
      "source": [
        "9) FAÇA UMA FUNÇÃO QUE RECEBA DOIS NÚMEROS E RETORNE QUAL DELES É O MAIOR"
      ],
      "metadata": {
        "id": "aA5NlzrMZsZA"
      }
    },
    {
      "cell_type": "code",
      "source": [
        "def mai(val1, val2):\n",
        "  if ( val1 > val2):\n",
        "    return val1\n",
        "  elif (val2 > val1):\n",
        "     return val2\n",
        "  else:\n",
        "    \"São iguais\""
      ],
      "metadata": {
        "id": "4YgrGo91Zs_9"
      },
      "execution_count": null,
      "outputs": []
    },
    {
      "cell_type": "code",
      "source": [
        "mai(9,4)"
      ],
      "metadata": {
        "colab": {
          "base_uri": "https://localhost:8080/"
        },
        "id": "YBqmNjKRvtnf",
        "outputId": "466a8a1c-a725-43f2-89dc-7e3abbc01d1e"
      },
      "execution_count": null,
      "outputs": [
        {
          "output_type": "execute_result",
          "data": {
            "text/plain": [
              "9"
            ]
          },
          "metadata": {},
          "execution_count": 46
        }
      ]
    },
    {
      "cell_type": "markdown",
      "source": [
        "10) ELABORE UMA FUNÇÃOO QUE RECEBA TRÊS NOTAS DE UM ALUNO COMO PARÂMETROS E UMA\n",
        "LETRA. SE A LETRA FOR A, A FUNÇÃO DEVERÁ CALCULAR A MÉDIA ARITMÉTICA DAS NOTAS DO ALUNO; SE FOR P, DEVERÁ CALCULAR A MÉDIA PONDERADA, COM PESOS 5, 3 E 2"
      ],
      "metadata": {
        "id": "LQ828iSfZujM"
      }
    },
    {
      "cell_type": "code",
      "source": [
        "def nota(nota1, nota2, nota3, letra):\n",
        "  if ( letra == \"A\"):\n",
        "    media = (nota1 + nota2 + nota3)/3\n",
        "    return (f\"a média é {media}\")\n",
        "  elif (letra == \"P\"):\n",
        "    mediap = (nota1 * 5 + nota2 * 3 + nota3 * 2)/10\n",
        "    return (f\"a média é {mediap}\")\n",
        "  else:\n",
        "    return \"Letra invalida\""
      ],
      "metadata": {
        "id": "b15tHlZjZw7N"
      },
      "execution_count": null,
      "outputs": []
    },
    {
      "cell_type": "code",
      "source": [
        "nota(5,6,7,\"P\")"
      ],
      "metadata": {
        "colab": {
          "base_uri": "https://localhost:8080/",
          "height": 35
        },
        "id": "cV7Iu2naxFBG",
        "outputId": "3a4c0d90-0027-40d4-edaa-363c20bc3f15"
      },
      "execution_count": null,
      "outputs": [
        {
          "output_type": "execute_result",
          "data": {
            "text/plain": [
              "'a média é 5.7'"
            ],
            "application/vnd.google.colaboratory.intrinsic+json": {
              "type": "string"
            }
          },
          "metadata": {},
          "execution_count": 49
        }
      ]
    },
    {
      "cell_type": "markdown",
      "source": [
        "11) FAÇA UMA FUNÇÃO QUE RECEBA DOIS NÚMEROS INTEIROS POSI T IVOS POR PARÂMETRO E\n",
        "RETORNE A SOMA DOS N NUMEROS INTEIROS EXISTENTES ENTRE ELES."
      ],
      "metadata": {
        "id": "G061XS5au3MV"
      }
    },
    {
      "cell_type": "code",
      "source": [
        "def soma_int(valA, valB):\n",
        "  soma = 0\n",
        "  for i in range(valA, valB + 1, 1):\n",
        "   soma += i\n",
        "  return soma "
      ],
      "metadata": {
        "id": "G7Syt61ou5Tl"
      },
      "execution_count": null,
      "outputs": []
    },
    {
      "cell_type": "code",
      "source": [
        "soma_int(2,4)"
      ],
      "metadata": {
        "colab": {
          "base_uri": "https://localhost:8080/"
        },
        "id": "GKuomRP9yXLL",
        "outputId": "a52ab10d-ad92-4008-b7c4-8601de94b99e"
      },
      "execution_count": null,
      "outputs": [
        {
          "output_type": "execute_result",
          "data": {
            "text/plain": [
              "9"
            ]
          },
          "metadata": {},
          "execution_count": 52
        }
      ]
    },
    {
      "cell_type": "markdown",
      "source": [
        "12) FAÇA UMA FUNÇÃO QUE RECEBA A ALTURA E O RAIO DE UM CILINDRO CIRCULAR E \n",
        "RETORNE O VOLUME DO CILINDRO. O VOLUME DE UM CILINDRO CIRCULAR E CALCULADO POR MEIO DA SEGUINTE FÓRMULA: V = Π ∗ RAIO2 ∗ AL TURA, ONDE Π = 3.141592."
      ],
      "metadata": {
        "id": "a_gO3KV7yjtr"
      }
    },
    {
      "cell_type": "code",
      "source": [
        "def volume_c(altura, raio):\n",
        "  pi = 3.141592\n",
        "  volume = pi * (raio*raio) * altura\n",
        "  return volume\n"
      ],
      "metadata": {
        "id": "AE5jJFRhymij"
      },
      "execution_count": null,
      "outputs": []
    },
    {
      "cell_type": "code",
      "source": [
        "volume_c(2, 5)"
      ],
      "metadata": {
        "colab": {
          "base_uri": "https://localhost:8080/"
        },
        "id": "SBLMd6F6y6IV",
        "outputId": "5fbc1aa2-9207-4e87-ce5c-5ae3f899a81a"
      },
      "execution_count": null,
      "outputs": [
        {
          "output_type": "execute_result",
          "data": {
            "text/plain": [
              "157.0796"
            ]
          },
          "metadata": {},
          "execution_count": 55
        }
      ]
    },
    {
      "cell_type": "markdown",
      "source": [
        "13) ESCREVA UMA FUNÇÃO QUE RECEBE UM NÚMERO REAL COMO ARGUMENTO E RETORNA O\n",
        "VALOR ABSOLUTO DESSE NÚMERO."
      ],
      "metadata": {
        "id": "zAIjgnY6zPBl"
      }
    },
    {
      "cell_type": "code",
      "source": [
        "def real(x):\n",
        "  if ( x < 0 ):\n",
        "    return x *(-1)\n",
        "  else:\n",
        "    return x"
      ],
      "metadata": {
        "id": "ZU27ZX92zRKl"
      },
      "execution_count": null,
      "outputs": []
    },
    {
      "cell_type": "code",
      "source": [
        "real(-4)"
      ],
      "metadata": {
        "colab": {
          "base_uri": "https://localhost:8080/"
        },
        "id": "DrTmm4LczkBr",
        "outputId": "ccb49c49-d75a-4b9d-f3b0-62d0e581a572"
      },
      "execution_count": null,
      "outputs": [
        {
          "output_type": "execute_result",
          "data": {
            "text/plain": [
              "4"
            ]
          },
          "metadata": {},
          "execution_count": 57
        }
      ]
    },
    {
      "cell_type": "markdown",
      "source": [
        "14) ESCREVA UMA FUNÇÃO PARA SOMAR TODOS OS NÚMEROS EM UMA LISTA"
      ],
      "metadata": {
        "id": "pb0iy2bczmNn"
      }
    },
    {
      "cell_type": "code",
      "source": [
        "lista = [1,2,3,4,5]"
      ],
      "metadata": {
        "id": "CWohD1zjzpEb"
      },
      "execution_count": null,
      "outputs": []
    },
    {
      "cell_type": "code",
      "source": [
        "def soma_lista(lista):\n",
        "  soma = 0\n",
        "  for i in lista:\n",
        "    soma += i\n",
        "  return soma "
      ],
      "metadata": {
        "id": "gsYpsPAP0bb-"
      },
      "execution_count": null,
      "outputs": []
    },
    {
      "cell_type": "code",
      "source": [
        "soma_lista(lista)"
      ],
      "metadata": {
        "colab": {
          "base_uri": "https://localhost:8080/"
        },
        "id": "3tZ0gWaJ0kgC",
        "outputId": "62b0c564-fb1d-4f8f-bc05-d93e3dc70234"
      },
      "execution_count": null,
      "outputs": [
        {
          "output_type": "execute_result",
          "data": {
            "text/plain": [
              "15"
            ]
          },
          "metadata": {},
          "execution_count": 66
        }
      ]
    },
    {
      "cell_type": "markdown",
      "source": [
        "15) ESCREVA UMA FUNÇÃO PARA MULTIPLICAR TODOS OS NÚMEROS EM UMA LISTA"
      ],
      "metadata": {
        "id": "mpc3eX_u05FH"
      }
    },
    {
      "cell_type": "code",
      "source": [
        "def mul_list(lista):\n",
        "  mult = 1\n",
        "  for i in lista:\n",
        "    mult *= i\n",
        "  return mult"
      ],
      "metadata": {
        "id": "i6fYHnVE08YC"
      },
      "execution_count": null,
      "outputs": []
    },
    {
      "cell_type": "code",
      "source": [
        "mul_list(lista)"
      ],
      "metadata": {
        "colab": {
          "base_uri": "https://localhost:8080/"
        },
        "id": "_PyGwLJt1ULr",
        "outputId": "bd51c569-84bc-486d-9b5d-e5984d51be40"
      },
      "execution_count": null,
      "outputs": [
        {
          "output_type": "execute_result",
          "data": {
            "text/plain": [
              "120"
            ]
          },
          "metadata": {},
          "execution_count": 71
        }
      ]
    },
    {
      "cell_type": "markdown",
      "source": [
        "16) ESCREVA UMA FUNÇÃO PARA VERIFICAR SE UM NÚMERO ESTÁ EM UM DETERMINADO\n",
        "INTERVALO."
      ],
      "metadata": {
        "id": "5vYGUxmJ1d61"
      }
    },
    {
      "cell_type": "code",
      "source": [
        "def def_int(a,b,verificar):\n",
        "  for i in range (a, b + 1, 1):\n",
        "    if (i == verificar):\n",
        "      print(\"Está no intervalo\")\n",
        "    else:\n",
        "      print(\"Não está no intervalo\")\n",
        "      "
      ],
      "metadata": {
        "id": "twD_HRSE1iSB"
      },
      "execution_count": null,
      "outputs": []
    },
    {
      "cell_type": "code",
      "source": [
        "def_int(1,10,8)"
      ],
      "metadata": {
        "colab": {
          "base_uri": "https://localhost:8080/"
        },
        "id": "EAmBgGSW2IRN",
        "outputId": "52c94e89-a4d9-479a-ee85-6a72621dc40d"
      },
      "execution_count": null,
      "outputs": [
        {
          "output_type": "stream",
          "name": "stdout",
          "text": [
            "Não está no intervalo\n",
            "Não está no intervalo\n",
            "Não está no intervalo\n",
            "Não está no intervalo\n",
            "Não está no intervalo\n",
            "Não está no intervalo\n",
            "Não está no intervalo\n",
            "Está no intervalo\n",
            "Não está no intervalo\n",
            "Não está no intervalo\n"
          ]
        }
      ]
    },
    {
      "cell_type": "markdown",
      "source": [
        "17) ESCREVA UM PROGRAMA PARA IMPRIMIR OS NÚMEROS PARES DE UMA DETERMINADA LISTA."
      ],
      "metadata": {
        "id": "EdjtuV3F2NR5"
      }
    },
    {
      "cell_type": "code",
      "source": [
        "def det_par(lista3):\n",
        "  lista_par = []\n",
        "  for i in lista3:\n",
        "    if ( i % 2 == 0):\n",
        "      lista_par.append(i)\n",
        "  return lista_par"
      ],
      "metadata": {
        "id": "GteUMQSk2QXx"
      },
      "execution_count": null,
      "outputs": []
    },
    {
      "cell_type": "code",
      "source": [
        "lista3 = [10,21,34,56,76]"
      ],
      "metadata": {
        "id": "lgkTCIM63KlI"
      },
      "execution_count": null,
      "outputs": []
    },
    {
      "cell_type": "code",
      "source": [
        "det_par(lista3)"
      ],
      "metadata": {
        "colab": {
          "base_uri": "https://localhost:8080/"
        },
        "id": "lBc-woRe3OpP",
        "outputId": "8734f6dd-09b8-4b81-f782-2b3ed316c6e6"
      },
      "execution_count": null,
      "outputs": [
        {
          "output_type": "execute_result",
          "data": {
            "text/plain": [
              "[10, 34, 56, 76]"
            ]
          },
          "metadata": {},
          "execution_count": 91
        }
      ]
    },
    {
      "cell_type": "markdown",
      "source": [
        "18) ESCREVA UMA FUNÇÃO PARA CRIAR E IMPRIMIR UMA LISTA ONDE OS VALORES SÃO\n",
        "QUADRADOS DE NÚMEROS ENTRE 1 E 30 (AMBOS INCLUÍDOS)."
      ],
      "metadata": {
        "id": "iX4OuMxQ34I1"
      }
    },
    {
      "cell_type": "code",
      "source": [
        "def listaquad():\n",
        "  lisq = []\n",
        "  for i in range(1, 31, 1):\n",
        "    lisq.append(i * i)\n",
        "  return lisq"
      ],
      "metadata": {
        "id": "s032g9DX369y"
      },
      "execution_count": null,
      "outputs": []
    },
    {
      "cell_type": "code",
      "source": [
        "listaquad()"
      ],
      "metadata": {
        "colab": {
          "base_uri": "https://localhost:8080/"
        },
        "id": "fsWPeb-Z4Fwd",
        "outputId": "1f6ef1f9-e302-41fe-df10-79a5b23871bb"
      },
      "execution_count": null,
      "outputs": [
        {
          "output_type": "execute_result",
          "data": {
            "text/plain": [
              "[1,\n",
              " 4,\n",
              " 9,\n",
              " 16,\n",
              " 25,\n",
              " 36,\n",
              " 49,\n",
              " 64,\n",
              " 81,\n",
              " 100,\n",
              " 121,\n",
              " 144,\n",
              " 169,\n",
              " 196,\n",
              " 225,\n",
              " 256,\n",
              " 289,\n",
              " 324,\n",
              " 361,\n",
              " 400,\n",
              " 441,\n",
              " 484,\n",
              " 529,\n",
              " 576,\n",
              " 625,\n",
              " 676,\n",
              " 729,\n",
              " 784,\n",
              " 841,\n",
              " 900]"
            ]
          },
          "metadata": {},
          "execution_count": 98
        }
      ]
    },
    {
      "cell_type": "markdown",
      "source": [
        "19) ESCREVA UM PROGRAMA PARA DETECTAR O NÚMERO DE VARIÁVEIS LOCAIS DECLARADAS EM UMA FUNÇÃO"
      ],
      "metadata": {
        "id": "4PvceN2c4Hyh"
      }
    },
    {
      "cell_type": "code",
      "source": [
        "def qualq():\n",
        "  pass"
      ],
      "metadata": {
        "id": "ZMW_IDms4L_x"
      },
      "execution_count": null,
      "outputs": []
    },
    {
      "cell_type": "code",
      "source": [
        "print(qualq.__code__.co_nlocals)"
      ],
      "metadata": {
        "colab": {
          "base_uri": "https://localhost:8080/"
        },
        "id": "-ttCEtNP5zGu",
        "outputId": "91c8dbde-941f-460b-90e2-bbe9762393c5"
      },
      "execution_count": null,
      "outputs": [
        {
          "output_type": "stream",
          "name": "stdout",
          "text": [
            "0\n"
          ]
        }
      ]
    },
    {
      "cell_type": "code",
      "source": [
        "def teste():\n",
        "  a, b, c = 12,22,33\n",
        "  nome = \"Lucas\"\n",
        "print(teste.__code__.co_nlocals)"
      ],
      "metadata": {
        "colab": {
          "base_uri": "https://localhost:8080/"
        },
        "id": "hYtuVSba594T",
        "outputId": "1d7797c1-4756-40b0-fe68-c0ebb2aa0913"
      },
      "execution_count": null,
      "outputs": [
        {
          "output_type": "stream",
          "name": "stdout",
          "text": [
            "4\n"
          ]
        }
      ]
    }
  ]
}