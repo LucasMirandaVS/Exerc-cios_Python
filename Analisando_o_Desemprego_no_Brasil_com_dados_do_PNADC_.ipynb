{
  "nbformat": 4,
  "nbformat_minor": 0,
  "metadata": {
    "colab": {
      "name": "Analisando o Desemprego no Brasil com dados do PNADC .ipynb",
      "provenance": [],
      "authorship_tag": "ABX9TyMgeo0EBINOI8Db8TK3IH1K",
      "include_colab_link": true
    },
    "kernelspec": {
      "name": "python3",
      "display_name": "Python 3"
    },
    "language_info": {
      "name": "python"
    }
  },
  "cells": [
    {
      "cell_type": "markdown",
      "metadata": {
        "id": "view-in-github",
        "colab_type": "text"
      },
      "source": [
        "<a href=\"https://colab.research.google.com/github/LucasMirandaVS/Exerc-cios_Python/blob/main/Analisando_o_Desemprego_no_Brasil_com_dados_do_PNADC_.ipynb\" target=\"_parent\"><img src=\"https://colab.research.google.com/assets/colab-badge.svg\" alt=\"Open In Colab\"/></a>"
      ]
    },
    {
      "cell_type": "code",
      "execution_count": 1,
      "metadata": {
        "id": "4EN44yN1RR2b"
      },
      "outputs": [],
      "source": [
        "import pandas as pd\n",
        "import numpy as np\n",
        "import matplotlib.pyplot as plt"
      ]
    },
    {
      "cell_type": "markdown",
      "source": [
        "Importando os dados de desemprego do csv baixado no portal do PNADC"
      ],
      "metadata": {
        "id": "2-TjC7E0R5RW"
      }
    },
    {
      "cell_type": "code",
      "source": [
        "desemprego = pd.read_csv('STP-20220317102940796.csv', encoding = 'latin1', sep = ';')"
      ],
      "metadata": {
        "id": "M2EBEl8rR-4q"
      },
      "execution_count": 2,
      "outputs": []
    },
    {
      "cell_type": "code",
      "source": [
        "desemprego.head()"
      ],
      "metadata": {
        "colab": {
          "base_uri": "https://localhost:8080/",
          "height": 302
        },
        "id": "NJqZ7vLmSS_Q",
        "outputId": "f1cb42d5-747f-48cf-9a13-538570f237f4"
      },
      "execution_count": 3,
      "outputs": [
        {
          "output_type": "execute_result",
          "data": {
            "text/plain": [
              "      Data 24369 - Taxa de desocupação - PNADC - %  \\\n",
              "0  03/2012                                    8,0    \n",
              "1  04/2012                                    7,8    \n",
              "2  05/2012                                    7,7    \n",
              "3  06/2012                                    7,6    \n",
              "4  07/2012                                    7,5    \n",
              "\n",
              "  24371 - Empregados no setor privado e público - PNADC - Unidades (mil)  \\\n",
              "0                                            62.105                        \n",
              "1                                            62.586                        \n",
              "2                                            62.927                        \n",
              "3                                            63.299                        \n",
              "4                                            63.523                        \n",
              "\n",
              "  24372 - Empregados no setor público - PNADC - Unidades (mil)  \\\n",
              "0                                            10.767              \n",
              "1                                            10.884              \n",
              "2                                            10.925              \n",
              "3                                            11.031              \n",
              "4                                            11.119              \n",
              "\n",
              "  24373 - Empregado por conta própria - PNADC - Unidades (mil)  \\\n",
              "0                                            20.174              \n",
              "1                                            20.205              \n",
              "2                                            20.165              \n",
              "3                                            19.930              \n",
              "4                                            19.843              \n",
              "\n",
              "  24375 - Empregados no setor privado - Com carteira - PNADC - Unidades (mil)  \\\n",
              "0                                            34.262                             \n",
              "1                                            34.574                             \n",
              "2                                            34.759                             \n",
              "3                                            35.004                             \n",
              "4                                            35.120                             \n",
              "\n",
              "  24376 - Empregados no setor privado - Sem Carteira - PNADC - Unidades (mil)  \\\n",
              "0                                            11.122                             \n",
              "1                                            11.180                             \n",
              "2                                            11.244                             \n",
              "3                                            11.265                             \n",
              "4                                            11.293                             \n",
              "\n",
              "  24377 - Empregados no setor privado - Total - PNADC - Unidades (mil)  \n",
              "0                                             45.384                    \n",
              "1                                             45.754                    \n",
              "2                                             46.003                    \n",
              "3                                             46.269                    \n",
              "4                                             46.413                    "
            ],
            "text/html": [
              "\n",
              "  <div id=\"df-737607f0-64fe-434c-8ee4-864da6734a0e\">\n",
              "    <div class=\"colab-df-container\">\n",
              "      <div>\n",
              "<style scoped>\n",
              "    .dataframe tbody tr th:only-of-type {\n",
              "        vertical-align: middle;\n",
              "    }\n",
              "\n",
              "    .dataframe tbody tr th {\n",
              "        vertical-align: top;\n",
              "    }\n",
              "\n",
              "    .dataframe thead th {\n",
              "        text-align: right;\n",
              "    }\n",
              "</style>\n",
              "<table border=\"1\" class=\"dataframe\">\n",
              "  <thead>\n",
              "    <tr style=\"text-align: right;\">\n",
              "      <th></th>\n",
              "      <th>Data</th>\n",
              "      <th>24369 - Taxa de desocupação - PNADC - %</th>\n",
              "      <th>24371 - Empregados no setor privado e público - PNADC - Unidades (mil)</th>\n",
              "      <th>24372 - Empregados no setor público - PNADC - Unidades (mil)</th>\n",
              "      <th>24373 - Empregado por conta própria - PNADC - Unidades (mil)</th>\n",
              "      <th>24375 - Empregados no setor privado - Com carteira - PNADC - Unidades (mil)</th>\n",
              "      <th>24376 - Empregados no setor privado - Sem Carteira - PNADC - Unidades (mil)</th>\n",
              "      <th>24377 - Empregados no setor privado - Total - PNADC - Unidades (mil)</th>\n",
              "    </tr>\n",
              "  </thead>\n",
              "  <tbody>\n",
              "    <tr>\n",
              "      <th>0</th>\n",
              "      <td>03/2012</td>\n",
              "      <td>8,0</td>\n",
              "      <td>62.105</td>\n",
              "      <td>10.767</td>\n",
              "      <td>20.174</td>\n",
              "      <td>34.262</td>\n",
              "      <td>11.122</td>\n",
              "      <td>45.384</td>\n",
              "    </tr>\n",
              "    <tr>\n",
              "      <th>1</th>\n",
              "      <td>04/2012</td>\n",
              "      <td>7,8</td>\n",
              "      <td>62.586</td>\n",
              "      <td>10.884</td>\n",
              "      <td>20.205</td>\n",
              "      <td>34.574</td>\n",
              "      <td>11.180</td>\n",
              "      <td>45.754</td>\n",
              "    </tr>\n",
              "    <tr>\n",
              "      <th>2</th>\n",
              "      <td>05/2012</td>\n",
              "      <td>7,7</td>\n",
              "      <td>62.927</td>\n",
              "      <td>10.925</td>\n",
              "      <td>20.165</td>\n",
              "      <td>34.759</td>\n",
              "      <td>11.244</td>\n",
              "      <td>46.003</td>\n",
              "    </tr>\n",
              "    <tr>\n",
              "      <th>3</th>\n",
              "      <td>06/2012</td>\n",
              "      <td>7,6</td>\n",
              "      <td>63.299</td>\n",
              "      <td>11.031</td>\n",
              "      <td>19.930</td>\n",
              "      <td>35.004</td>\n",
              "      <td>11.265</td>\n",
              "      <td>46.269</td>\n",
              "    </tr>\n",
              "    <tr>\n",
              "      <th>4</th>\n",
              "      <td>07/2012</td>\n",
              "      <td>7,5</td>\n",
              "      <td>63.523</td>\n",
              "      <td>11.119</td>\n",
              "      <td>19.843</td>\n",
              "      <td>35.120</td>\n",
              "      <td>11.293</td>\n",
              "      <td>46.413</td>\n",
              "    </tr>\n",
              "  </tbody>\n",
              "</table>\n",
              "</div>\n",
              "      <button class=\"colab-df-convert\" onclick=\"convertToInteractive('df-737607f0-64fe-434c-8ee4-864da6734a0e')\"\n",
              "              title=\"Convert this dataframe to an interactive table.\"\n",
              "              style=\"display:none;\">\n",
              "        \n",
              "  <svg xmlns=\"http://www.w3.org/2000/svg\" height=\"24px\"viewBox=\"0 0 24 24\"\n",
              "       width=\"24px\">\n",
              "    <path d=\"M0 0h24v24H0V0z\" fill=\"none\"/>\n",
              "    <path d=\"M18.56 5.44l.94 2.06.94-2.06 2.06-.94-2.06-.94-.94-2.06-.94 2.06-2.06.94zm-11 1L8.5 8.5l.94-2.06 2.06-.94-2.06-.94L8.5 2.5l-.94 2.06-2.06.94zm10 10l.94 2.06.94-2.06 2.06-.94-2.06-.94-.94-2.06-.94 2.06-2.06.94z\"/><path d=\"M17.41 7.96l-1.37-1.37c-.4-.4-.92-.59-1.43-.59-.52 0-1.04.2-1.43.59L10.3 9.45l-7.72 7.72c-.78.78-.78 2.05 0 2.83L4 21.41c.39.39.9.59 1.41.59.51 0 1.02-.2 1.41-.59l7.78-7.78 2.81-2.81c.8-.78.8-2.07 0-2.86zM5.41 20L4 18.59l7.72-7.72 1.47 1.35L5.41 20z\"/>\n",
              "  </svg>\n",
              "      </button>\n",
              "      \n",
              "  <style>\n",
              "    .colab-df-container {\n",
              "      display:flex;\n",
              "      flex-wrap:wrap;\n",
              "      gap: 12px;\n",
              "    }\n",
              "\n",
              "    .colab-df-convert {\n",
              "      background-color: #E8F0FE;\n",
              "      border: none;\n",
              "      border-radius: 50%;\n",
              "      cursor: pointer;\n",
              "      display: none;\n",
              "      fill: #1967D2;\n",
              "      height: 32px;\n",
              "      padding: 0 0 0 0;\n",
              "      width: 32px;\n",
              "    }\n",
              "\n",
              "    .colab-df-convert:hover {\n",
              "      background-color: #E2EBFA;\n",
              "      box-shadow: 0px 1px 2px rgba(60, 64, 67, 0.3), 0px 1px 3px 1px rgba(60, 64, 67, 0.15);\n",
              "      fill: #174EA6;\n",
              "    }\n",
              "\n",
              "    [theme=dark] .colab-df-convert {\n",
              "      background-color: #3B4455;\n",
              "      fill: #D2E3FC;\n",
              "    }\n",
              "\n",
              "    [theme=dark] .colab-df-convert:hover {\n",
              "      background-color: #434B5C;\n",
              "      box-shadow: 0px 1px 3px 1px rgba(0, 0, 0, 0.15);\n",
              "      filter: drop-shadow(0px 1px 2px rgba(0, 0, 0, 0.3));\n",
              "      fill: #FFFFFF;\n",
              "    }\n",
              "  </style>\n",
              "\n",
              "      <script>\n",
              "        const buttonEl =\n",
              "          document.querySelector('#df-737607f0-64fe-434c-8ee4-864da6734a0e button.colab-df-convert');\n",
              "        buttonEl.style.display =\n",
              "          google.colab.kernel.accessAllowed ? 'block' : 'none';\n",
              "\n",
              "        async function convertToInteractive(key) {\n",
              "          const element = document.querySelector('#df-737607f0-64fe-434c-8ee4-864da6734a0e');\n",
              "          const dataTable =\n",
              "            await google.colab.kernel.invokeFunction('convertToInteractive',\n",
              "                                                     [key], {});\n",
              "          if (!dataTable) return;\n",
              "\n",
              "          const docLinkHtml = 'Like what you see? Visit the ' +\n",
              "            '<a target=\"_blank\" href=https://colab.research.google.com/notebooks/data_table.ipynb>data table notebook</a>'\n",
              "            + ' to learn more about interactive tables.';\n",
              "          element.innerHTML = '';\n",
              "          dataTable['output_type'] = 'display_data';\n",
              "          await google.colab.output.renderOutput(dataTable, element);\n",
              "          const docLink = document.createElement('div');\n",
              "          docLink.innerHTML = docLinkHtml;\n",
              "          element.appendChild(docLink);\n",
              "        }\n",
              "      </script>\n",
              "    </div>\n",
              "  </div>\n",
              "  "
            ]
          },
          "metadata": {},
          "execution_count": 3
        }
      ]
    },
    {
      "cell_type": "code",
      "source": [
        "desemprego.dtypes"
      ],
      "metadata": {
        "colab": {
          "base_uri": "https://localhost:8080/"
        },
        "id": "zrzeY5kmSXRF",
        "outputId": "3c19b5bb-880b-4537-ab21-c89b9a4cc00c"
      },
      "execution_count": 4,
      "outputs": [
        {
          "output_type": "execute_result",
          "data": {
            "text/plain": [
              "Data                                                                           object\n",
              "24369 - Taxa de desocupação - PNADC - %                                        object\n",
              "24371 - Empregados no setor privado e público - PNADC - Unidades (mil)         object\n",
              "24372 - Empregados no setor público - PNADC - Unidades (mil)                   object\n",
              "24373 - Empregado por conta própria - PNADC - Unidades (mil)                   object\n",
              "24375 - Empregados no setor privado - Com carteira - PNADC - Unidades (mil)    object\n",
              "24376 - Empregados no setor privado - Sem Carteira - PNADC - Unidades (mil)    object\n",
              "24377 - Empregados no setor privado - Total - PNADC - Unidades (mil)           object\n",
              "dtype: object"
            ]
          },
          "metadata": {},
          "execution_count": 4
        }
      ]
    },
    {
      "cell_type": "code",
      "source": [
        "# Esses nomes de coluna estão muito feios, vou dar uma diminuida\n",
        "desemprego.columns.tolist()"
      ],
      "metadata": {
        "colab": {
          "base_uri": "https://localhost:8080/"
        },
        "id": "2O67Sk2dSbol",
        "outputId": "bb73ec29-c04c-4c2b-d7e4-863f127832f9"
      },
      "execution_count": 5,
      "outputs": [
        {
          "output_type": "execute_result",
          "data": {
            "text/plain": [
              "['Data',\n",
              " '24369 - Taxa de desocupação - PNADC - %',\n",
              " '24371 - Empregados no setor privado e público - PNADC - Unidades (mil)',\n",
              " '24372 - Empregados no setor público - PNADC - Unidades (mil)',\n",
              " '24373 - Empregado por conta própria - PNADC - Unidades (mil)',\n",
              " '24375 - Empregados no setor privado - Com carteira - PNADC - Unidades (mil)',\n",
              " '24376 - Empregados no setor privado - Sem Carteira - PNADC - Unidades (mil)',\n",
              " '24377 - Empregados no setor privado - Total - PNADC - Unidades (mil)']"
            ]
          },
          "metadata": {},
          "execution_count": 5
        }
      ]
    },
    {
      "cell_type": "code",
      "source": [
        "columns = desemprego.columns.tolist()\n",
        "desemprego.rename(\n",
        "columns = {\n",
        "    columns[1]: 'Taxa de desocupação',\n",
        "    columns[2]: 'Empregados no setor privado e público',\n",
        "    columns[3]: 'Empregados no setor público',\n",
        "    columns[4]: 'Empregado por conta própria',\n",
        "    columns[5]: 'Empregados no setor privado - com carteira',\n",
        "    columns[6]: 'Empregados no setor privado - sem Carteira',\n",
        "    columns[7]: 'Empregados no setor privado - total'\n",
        "},\n",
        "inplace = True\n",
        ")\n"
      ],
      "metadata": {
        "id": "ffNaVSjKSfNo"
      },
      "execution_count": 7,
      "outputs": []
    },
    {
      "cell_type": "code",
      "source": [
        "desemprego.tail()"
      ],
      "metadata": {
        "colab": {
          "base_uri": "https://localhost:8080/",
          "height": 268
        },
        "id": "zBoRMErRSsC2",
        "outputId": "be920605-31d8-4578-f6d7-6c944cc0ba85"
      },
      "execution_count": 8,
      "outputs": [
        {
          "output_type": "execute_result",
          "data": {
            "text/plain": [
              "        Data Taxa de desocupação Empregados no setor privado e público  \\\n",
              "114  09/2021               12,6                                61.724    \n",
              "115  10/2021               12,1                                62.497    \n",
              "116  11/2021               11,6                                63.287    \n",
              "117  12/2021               11,1                                64.010    \n",
              "118    Fonte                IBGE                                  IBGE   \n",
              "\n",
              "    Empregados no setor público Empregado por conta própria  \\\n",
              "114                     11.168                      25.461    \n",
              "115                     11.152                      25.638    \n",
              "116                     11.275                      25.841    \n",
              "117                     11.375                      25.944    \n",
              "118                        IBGE                        IBGE   \n",
              "\n",
              "    Empregados no setor privado - com carteira  \\\n",
              "114                                    33.508    \n",
              "115                                    33.876    \n",
              "116                                    34.224    \n",
              "117                                    34.495    \n",
              "118                                       IBGE   \n",
              "\n",
              "    Empregados no setor privado - sem Carteira  \\\n",
              "114                                    11.691    \n",
              "115                                    11.956    \n",
              "116                                    12.179    \n",
              "117                                    12.443    \n",
              "118                                       IBGE   \n",
              "\n",
              "    Empregados no setor privado - total  \n",
              "114                              45.199  \n",
              "115                              45.832  \n",
              "116                              46.403  \n",
              "117                              46.938  \n",
              "118                                IBGE  "
            ],
            "text/html": [
              "\n",
              "  <div id=\"df-100fd3b3-4a6d-4b1d-a146-b97d07d351cd\">\n",
              "    <div class=\"colab-df-container\">\n",
              "      <div>\n",
              "<style scoped>\n",
              "    .dataframe tbody tr th:only-of-type {\n",
              "        vertical-align: middle;\n",
              "    }\n",
              "\n",
              "    .dataframe tbody tr th {\n",
              "        vertical-align: top;\n",
              "    }\n",
              "\n",
              "    .dataframe thead th {\n",
              "        text-align: right;\n",
              "    }\n",
              "</style>\n",
              "<table border=\"1\" class=\"dataframe\">\n",
              "  <thead>\n",
              "    <tr style=\"text-align: right;\">\n",
              "      <th></th>\n",
              "      <th>Data</th>\n",
              "      <th>Taxa de desocupação</th>\n",
              "      <th>Empregados no setor privado e público</th>\n",
              "      <th>Empregados no setor público</th>\n",
              "      <th>Empregado por conta própria</th>\n",
              "      <th>Empregados no setor privado - com carteira</th>\n",
              "      <th>Empregados no setor privado - sem Carteira</th>\n",
              "      <th>Empregados no setor privado - total</th>\n",
              "    </tr>\n",
              "  </thead>\n",
              "  <tbody>\n",
              "    <tr>\n",
              "      <th>114</th>\n",
              "      <td>09/2021</td>\n",
              "      <td>12,6</td>\n",
              "      <td>61.724</td>\n",
              "      <td>11.168</td>\n",
              "      <td>25.461</td>\n",
              "      <td>33.508</td>\n",
              "      <td>11.691</td>\n",
              "      <td>45.199</td>\n",
              "    </tr>\n",
              "    <tr>\n",
              "      <th>115</th>\n",
              "      <td>10/2021</td>\n",
              "      <td>12,1</td>\n",
              "      <td>62.497</td>\n",
              "      <td>11.152</td>\n",
              "      <td>25.638</td>\n",
              "      <td>33.876</td>\n",
              "      <td>11.956</td>\n",
              "      <td>45.832</td>\n",
              "    </tr>\n",
              "    <tr>\n",
              "      <th>116</th>\n",
              "      <td>11/2021</td>\n",
              "      <td>11,6</td>\n",
              "      <td>63.287</td>\n",
              "      <td>11.275</td>\n",
              "      <td>25.841</td>\n",
              "      <td>34.224</td>\n",
              "      <td>12.179</td>\n",
              "      <td>46.403</td>\n",
              "    </tr>\n",
              "    <tr>\n",
              "      <th>117</th>\n",
              "      <td>12/2021</td>\n",
              "      <td>11,1</td>\n",
              "      <td>64.010</td>\n",
              "      <td>11.375</td>\n",
              "      <td>25.944</td>\n",
              "      <td>34.495</td>\n",
              "      <td>12.443</td>\n",
              "      <td>46.938</td>\n",
              "    </tr>\n",
              "    <tr>\n",
              "      <th>118</th>\n",
              "      <td>Fonte</td>\n",
              "      <td>IBGE</td>\n",
              "      <td>IBGE</td>\n",
              "      <td>IBGE</td>\n",
              "      <td>IBGE</td>\n",
              "      <td>IBGE</td>\n",
              "      <td>IBGE</td>\n",
              "      <td>IBGE</td>\n",
              "    </tr>\n",
              "  </tbody>\n",
              "</table>\n",
              "</div>\n",
              "      <button class=\"colab-df-convert\" onclick=\"convertToInteractive('df-100fd3b3-4a6d-4b1d-a146-b97d07d351cd')\"\n",
              "              title=\"Convert this dataframe to an interactive table.\"\n",
              "              style=\"display:none;\">\n",
              "        \n",
              "  <svg xmlns=\"http://www.w3.org/2000/svg\" height=\"24px\"viewBox=\"0 0 24 24\"\n",
              "       width=\"24px\">\n",
              "    <path d=\"M0 0h24v24H0V0z\" fill=\"none\"/>\n",
              "    <path d=\"M18.56 5.44l.94 2.06.94-2.06 2.06-.94-2.06-.94-.94-2.06-.94 2.06-2.06.94zm-11 1L8.5 8.5l.94-2.06 2.06-.94-2.06-.94L8.5 2.5l-.94 2.06-2.06.94zm10 10l.94 2.06.94-2.06 2.06-.94-2.06-.94-.94-2.06-.94 2.06-2.06.94z\"/><path d=\"M17.41 7.96l-1.37-1.37c-.4-.4-.92-.59-1.43-.59-.52 0-1.04.2-1.43.59L10.3 9.45l-7.72 7.72c-.78.78-.78 2.05 0 2.83L4 21.41c.39.39.9.59 1.41.59.51 0 1.02-.2 1.41-.59l7.78-7.78 2.81-2.81c.8-.78.8-2.07 0-2.86zM5.41 20L4 18.59l7.72-7.72 1.47 1.35L5.41 20z\"/>\n",
              "  </svg>\n",
              "      </button>\n",
              "      \n",
              "  <style>\n",
              "    .colab-df-container {\n",
              "      display:flex;\n",
              "      flex-wrap:wrap;\n",
              "      gap: 12px;\n",
              "    }\n",
              "\n",
              "    .colab-df-convert {\n",
              "      background-color: #E8F0FE;\n",
              "      border: none;\n",
              "      border-radius: 50%;\n",
              "      cursor: pointer;\n",
              "      display: none;\n",
              "      fill: #1967D2;\n",
              "      height: 32px;\n",
              "      padding: 0 0 0 0;\n",
              "      width: 32px;\n",
              "    }\n",
              "\n",
              "    .colab-df-convert:hover {\n",
              "      background-color: #E2EBFA;\n",
              "      box-shadow: 0px 1px 2px rgba(60, 64, 67, 0.3), 0px 1px 3px 1px rgba(60, 64, 67, 0.15);\n",
              "      fill: #174EA6;\n",
              "    }\n",
              "\n",
              "    [theme=dark] .colab-df-convert {\n",
              "      background-color: #3B4455;\n",
              "      fill: #D2E3FC;\n",
              "    }\n",
              "\n",
              "    [theme=dark] .colab-df-convert:hover {\n",
              "      background-color: #434B5C;\n",
              "      box-shadow: 0px 1px 3px 1px rgba(0, 0, 0, 0.15);\n",
              "      filter: drop-shadow(0px 1px 2px rgba(0, 0, 0, 0.3));\n",
              "      fill: #FFFFFF;\n",
              "    }\n",
              "  </style>\n",
              "\n",
              "      <script>\n",
              "        const buttonEl =\n",
              "          document.querySelector('#df-100fd3b3-4a6d-4b1d-a146-b97d07d351cd button.colab-df-convert');\n",
              "        buttonEl.style.display =\n",
              "          google.colab.kernel.accessAllowed ? 'block' : 'none';\n",
              "\n",
              "        async function convertToInteractive(key) {\n",
              "          const element = document.querySelector('#df-100fd3b3-4a6d-4b1d-a146-b97d07d351cd');\n",
              "          const dataTable =\n",
              "            await google.colab.kernel.invokeFunction('convertToInteractive',\n",
              "                                                     [key], {});\n",
              "          if (!dataTable) return;\n",
              "\n",
              "          const docLinkHtml = 'Like what you see? Visit the ' +\n",
              "            '<a target=\"_blank\" href=https://colab.research.google.com/notebooks/data_table.ipynb>data table notebook</a>'\n",
              "            + ' to learn more about interactive tables.';\n",
              "          element.innerHTML = '';\n",
              "          dataTable['output_type'] = 'display_data';\n",
              "          await google.colab.output.renderOutput(dataTable, element);\n",
              "          const docLink = document.createElement('div');\n",
              "          docLink.innerHTML = docLinkHtml;\n",
              "          element.appendChild(docLink);\n",
              "        }\n",
              "      </script>\n",
              "    </div>\n",
              "  </div>\n",
              "  "
            ]
          },
          "metadata": {},
          "execution_count": 8
        }
      ]
    },
    {
      "cell_type": "code",
      "source": [
        "desemprego.query('Data == \"Fonte\"').index"
      ],
      "metadata": {
        "colab": {
          "base_uri": "https://localhost:8080/"
        },
        "id": "yEhiydb4SuFG",
        "outputId": "3bbae77b-8c72-4a58-dfb0-9cb6fc4f39c1"
      },
      "execution_count": 9,
      "outputs": [
        {
          "output_type": "execute_result",
          "data": {
            "text/plain": [
              "Int64Index([118], dtype='int64')"
            ]
          },
          "metadata": {},
          "execution_count": 9
        }
      ]
    },
    {
      "cell_type": "code",
      "source": [
        "# Dropando a última linha com nome errado\n",
        "desemprego.drop(desemprego.query('Data == \"Fonte\"').index, inplace = True)"
      ],
      "metadata": {
        "id": "KZR-bOLQSyA3"
      },
      "execution_count": 10,
      "outputs": []
    },
    {
      "cell_type": "code",
      "source": [
        "desemprego"
      ],
      "metadata": {
        "colab": {
          "base_uri": "https://localhost:8080/",
          "height": 485
        },
        "id": "5OS1rUgiS4ym",
        "outputId": "f602ee30-20e2-480f-c673-3b0ac6256613"
      },
      "execution_count": 11,
      "outputs": [
        {
          "output_type": "execute_result",
          "data": {
            "text/plain": [
              "        Data Taxa de desocupação Empregados no setor privado e público  \\\n",
              "0    03/2012                8,0                                62.105    \n",
              "1    04/2012                7,8                                62.586    \n",
              "2    05/2012                7,7                                62.927    \n",
              "3    06/2012                7,6                                63.299    \n",
              "4    07/2012                7,5                                63.523    \n",
              "..       ...                 ...                                   ...   \n",
              "113  08/2021               13,1                                60.760    \n",
              "114  09/2021               12,6                                61.724    \n",
              "115  10/2021               12,1                                62.497    \n",
              "116  11/2021               11,6                                63.287    \n",
              "117  12/2021               11,1                                64.010    \n",
              "\n",
              "    Empregados no setor público Empregado por conta própria  \\\n",
              "0                       10.767                      20.174    \n",
              "1                       10.884                      20.205    \n",
              "2                       10.925                      20.165    \n",
              "3                       11.031                      19.930    \n",
              "4                       11.119                      19.843    \n",
              "..                          ...                         ...   \n",
              "113                     11.230                      25.253    \n",
              "114                     11.168                      25.461    \n",
              "115                     11.152                      25.638    \n",
              "116                     11.275                      25.841    \n",
              "117                     11.375                      25.944    \n",
              "\n",
              "    Empregados no setor privado - com carteira  \\\n",
              "0                                      34.262    \n",
              "1                                      34.574    \n",
              "2                                      34.759    \n",
              "3                                      35.004    \n",
              "4                                      35.120    \n",
              "..                                         ...   \n",
              "113                                    32.894    \n",
              "114                                    33.508    \n",
              "115                                    33.876    \n",
              "116                                    34.224    \n",
              "117                                    34.495    \n",
              "\n",
              "    Empregados no setor privado - sem Carteira  \\\n",
              "0                                      11.122    \n",
              "1                                      11.180    \n",
              "2                                      11.244    \n",
              "3                                      11.265    \n",
              "4                                      11.293    \n",
              "..                                         ...   \n",
              "113                                    11.342    \n",
              "114                                    11.691    \n",
              "115                                    11.956    \n",
              "116                                    12.179    \n",
              "117                                    12.443    \n",
              "\n",
              "    Empregados no setor privado - total  \n",
              "0                                45.384  \n",
              "1                                45.754  \n",
              "2                                46.003  \n",
              "3                                46.269  \n",
              "4                                46.413  \n",
              "..                                  ...  \n",
              "113                              44.236  \n",
              "114                              45.199  \n",
              "115                              45.832  \n",
              "116                              46.403  \n",
              "117                              46.938  \n",
              "\n",
              "[118 rows x 8 columns]"
            ],
            "text/html": [
              "\n",
              "  <div id=\"df-69ac361c-74b0-4e11-b3c5-18e76951d406\">\n",
              "    <div class=\"colab-df-container\">\n",
              "      <div>\n",
              "<style scoped>\n",
              "    .dataframe tbody tr th:only-of-type {\n",
              "        vertical-align: middle;\n",
              "    }\n",
              "\n",
              "    .dataframe tbody tr th {\n",
              "        vertical-align: top;\n",
              "    }\n",
              "\n",
              "    .dataframe thead th {\n",
              "        text-align: right;\n",
              "    }\n",
              "</style>\n",
              "<table border=\"1\" class=\"dataframe\">\n",
              "  <thead>\n",
              "    <tr style=\"text-align: right;\">\n",
              "      <th></th>\n",
              "      <th>Data</th>\n",
              "      <th>Taxa de desocupação</th>\n",
              "      <th>Empregados no setor privado e público</th>\n",
              "      <th>Empregados no setor público</th>\n",
              "      <th>Empregado por conta própria</th>\n",
              "      <th>Empregados no setor privado - com carteira</th>\n",
              "      <th>Empregados no setor privado - sem Carteira</th>\n",
              "      <th>Empregados no setor privado - total</th>\n",
              "    </tr>\n",
              "  </thead>\n",
              "  <tbody>\n",
              "    <tr>\n",
              "      <th>0</th>\n",
              "      <td>03/2012</td>\n",
              "      <td>8,0</td>\n",
              "      <td>62.105</td>\n",
              "      <td>10.767</td>\n",
              "      <td>20.174</td>\n",
              "      <td>34.262</td>\n",
              "      <td>11.122</td>\n",
              "      <td>45.384</td>\n",
              "    </tr>\n",
              "    <tr>\n",
              "      <th>1</th>\n",
              "      <td>04/2012</td>\n",
              "      <td>7,8</td>\n",
              "      <td>62.586</td>\n",
              "      <td>10.884</td>\n",
              "      <td>20.205</td>\n",
              "      <td>34.574</td>\n",
              "      <td>11.180</td>\n",
              "      <td>45.754</td>\n",
              "    </tr>\n",
              "    <tr>\n",
              "      <th>2</th>\n",
              "      <td>05/2012</td>\n",
              "      <td>7,7</td>\n",
              "      <td>62.927</td>\n",
              "      <td>10.925</td>\n",
              "      <td>20.165</td>\n",
              "      <td>34.759</td>\n",
              "      <td>11.244</td>\n",
              "      <td>46.003</td>\n",
              "    </tr>\n",
              "    <tr>\n",
              "      <th>3</th>\n",
              "      <td>06/2012</td>\n",
              "      <td>7,6</td>\n",
              "      <td>63.299</td>\n",
              "      <td>11.031</td>\n",
              "      <td>19.930</td>\n",
              "      <td>35.004</td>\n",
              "      <td>11.265</td>\n",
              "      <td>46.269</td>\n",
              "    </tr>\n",
              "    <tr>\n",
              "      <th>4</th>\n",
              "      <td>07/2012</td>\n",
              "      <td>7,5</td>\n",
              "      <td>63.523</td>\n",
              "      <td>11.119</td>\n",
              "      <td>19.843</td>\n",
              "      <td>35.120</td>\n",
              "      <td>11.293</td>\n",
              "      <td>46.413</td>\n",
              "    </tr>\n",
              "    <tr>\n",
              "      <th>...</th>\n",
              "      <td>...</td>\n",
              "      <td>...</td>\n",
              "      <td>...</td>\n",
              "      <td>...</td>\n",
              "      <td>...</td>\n",
              "      <td>...</td>\n",
              "      <td>...</td>\n",
              "      <td>...</td>\n",
              "    </tr>\n",
              "    <tr>\n",
              "      <th>113</th>\n",
              "      <td>08/2021</td>\n",
              "      <td>13,1</td>\n",
              "      <td>60.760</td>\n",
              "      <td>11.230</td>\n",
              "      <td>25.253</td>\n",
              "      <td>32.894</td>\n",
              "      <td>11.342</td>\n",
              "      <td>44.236</td>\n",
              "    </tr>\n",
              "    <tr>\n",
              "      <th>114</th>\n",
              "      <td>09/2021</td>\n",
              "      <td>12,6</td>\n",
              "      <td>61.724</td>\n",
              "      <td>11.168</td>\n",
              "      <td>25.461</td>\n",
              "      <td>33.508</td>\n",
              "      <td>11.691</td>\n",
              "      <td>45.199</td>\n",
              "    </tr>\n",
              "    <tr>\n",
              "      <th>115</th>\n",
              "      <td>10/2021</td>\n",
              "      <td>12,1</td>\n",
              "      <td>62.497</td>\n",
              "      <td>11.152</td>\n",
              "      <td>25.638</td>\n",
              "      <td>33.876</td>\n",
              "      <td>11.956</td>\n",
              "      <td>45.832</td>\n",
              "    </tr>\n",
              "    <tr>\n",
              "      <th>116</th>\n",
              "      <td>11/2021</td>\n",
              "      <td>11,6</td>\n",
              "      <td>63.287</td>\n",
              "      <td>11.275</td>\n",
              "      <td>25.841</td>\n",
              "      <td>34.224</td>\n",
              "      <td>12.179</td>\n",
              "      <td>46.403</td>\n",
              "    </tr>\n",
              "    <tr>\n",
              "      <th>117</th>\n",
              "      <td>12/2021</td>\n",
              "      <td>11,1</td>\n",
              "      <td>64.010</td>\n",
              "      <td>11.375</td>\n",
              "      <td>25.944</td>\n",
              "      <td>34.495</td>\n",
              "      <td>12.443</td>\n",
              "      <td>46.938</td>\n",
              "    </tr>\n",
              "  </tbody>\n",
              "</table>\n",
              "<p>118 rows × 8 columns</p>\n",
              "</div>\n",
              "      <button class=\"colab-df-convert\" onclick=\"convertToInteractive('df-69ac361c-74b0-4e11-b3c5-18e76951d406')\"\n",
              "              title=\"Convert this dataframe to an interactive table.\"\n",
              "              style=\"display:none;\">\n",
              "        \n",
              "  <svg xmlns=\"http://www.w3.org/2000/svg\" height=\"24px\"viewBox=\"0 0 24 24\"\n",
              "       width=\"24px\">\n",
              "    <path d=\"M0 0h24v24H0V0z\" fill=\"none\"/>\n",
              "    <path d=\"M18.56 5.44l.94 2.06.94-2.06 2.06-.94-2.06-.94-.94-2.06-.94 2.06-2.06.94zm-11 1L8.5 8.5l.94-2.06 2.06-.94-2.06-.94L8.5 2.5l-.94 2.06-2.06.94zm10 10l.94 2.06.94-2.06 2.06-.94-2.06-.94-.94-2.06-.94 2.06-2.06.94z\"/><path d=\"M17.41 7.96l-1.37-1.37c-.4-.4-.92-.59-1.43-.59-.52 0-1.04.2-1.43.59L10.3 9.45l-7.72 7.72c-.78.78-.78 2.05 0 2.83L4 21.41c.39.39.9.59 1.41.59.51 0 1.02-.2 1.41-.59l7.78-7.78 2.81-2.81c.8-.78.8-2.07 0-2.86zM5.41 20L4 18.59l7.72-7.72 1.47 1.35L5.41 20z\"/>\n",
              "  </svg>\n",
              "      </button>\n",
              "      \n",
              "  <style>\n",
              "    .colab-df-container {\n",
              "      display:flex;\n",
              "      flex-wrap:wrap;\n",
              "      gap: 12px;\n",
              "    }\n",
              "\n",
              "    .colab-df-convert {\n",
              "      background-color: #E8F0FE;\n",
              "      border: none;\n",
              "      border-radius: 50%;\n",
              "      cursor: pointer;\n",
              "      display: none;\n",
              "      fill: #1967D2;\n",
              "      height: 32px;\n",
              "      padding: 0 0 0 0;\n",
              "      width: 32px;\n",
              "    }\n",
              "\n",
              "    .colab-df-convert:hover {\n",
              "      background-color: #E2EBFA;\n",
              "      box-shadow: 0px 1px 2px rgba(60, 64, 67, 0.3), 0px 1px 3px 1px rgba(60, 64, 67, 0.15);\n",
              "      fill: #174EA6;\n",
              "    }\n",
              "\n",
              "    [theme=dark] .colab-df-convert {\n",
              "      background-color: #3B4455;\n",
              "      fill: #D2E3FC;\n",
              "    }\n",
              "\n",
              "    [theme=dark] .colab-df-convert:hover {\n",
              "      background-color: #434B5C;\n",
              "      box-shadow: 0px 1px 3px 1px rgba(0, 0, 0, 0.15);\n",
              "      filter: drop-shadow(0px 1px 2px rgba(0, 0, 0, 0.3));\n",
              "      fill: #FFFFFF;\n",
              "    }\n",
              "  </style>\n",
              "\n",
              "      <script>\n",
              "        const buttonEl =\n",
              "          document.querySelector('#df-69ac361c-74b0-4e11-b3c5-18e76951d406 button.colab-df-convert');\n",
              "        buttonEl.style.display =\n",
              "          google.colab.kernel.accessAllowed ? 'block' : 'none';\n",
              "\n",
              "        async function convertToInteractive(key) {\n",
              "          const element = document.querySelector('#df-69ac361c-74b0-4e11-b3c5-18e76951d406');\n",
              "          const dataTable =\n",
              "            await google.colab.kernel.invokeFunction('convertToInteractive',\n",
              "                                                     [key], {});\n",
              "          if (!dataTable) return;\n",
              "\n",
              "          const docLinkHtml = 'Like what you see? Visit the ' +\n",
              "            '<a target=\"_blank\" href=https://colab.research.google.com/notebooks/data_table.ipynb>data table notebook</a>'\n",
              "            + ' to learn more about interactive tables.';\n",
              "          element.innerHTML = '';\n",
              "          dataTable['output_type'] = 'display_data';\n",
              "          await google.colab.output.renderOutput(dataTable, element);\n",
              "          const docLink = document.createElement('div');\n",
              "          docLink.innerHTML = docLinkHtml;\n",
              "          element.appendChild(docLink);\n",
              "        }\n",
              "      </script>\n",
              "    </div>\n",
              "  </div>\n",
              "  "
            ]
          },
          "metadata": {},
          "execution_count": 11
        }
      ]
    },
    {
      "cell_type": "code",
      "source": [
        "desemprego.dtypes"
      ],
      "metadata": {
        "colab": {
          "base_uri": "https://localhost:8080/"
        },
        "id": "TjC8G9UxS7tU",
        "outputId": "5264e09b-556d-4bbd-9944-b74863606b3e"
      },
      "execution_count": 12,
      "outputs": [
        {
          "output_type": "execute_result",
          "data": {
            "text/plain": [
              "Data                                          object\n",
              "Taxa de desocupação                           object\n",
              "Empregados no setor privado e público         object\n",
              "Empregados no setor público                   object\n",
              "Empregado por conta própria                   object\n",
              "Empregados no setor privado - com carteira    object\n",
              "Empregados no setor privado - sem Carteira    object\n",
              "Empregados no setor privado - total           object\n",
              "dtype: object"
            ]
          },
          "metadata": {},
          "execution_count": 12
        }
      ]
    },
    {
      "cell_type": "code",
      "source": [
        "# Para analisar como série temporal\n",
        "desemprego.Data = pd.to_datetime(desemprego.Data, format = '%m/%Y')"
      ],
      "metadata": {
        "id": "tCELdhwnS--6"
      },
      "execution_count": 13,
      "outputs": []
    },
    {
      "cell_type": "code",
      "source": [
        "desemprego.dtypes"
      ],
      "metadata": {
        "colab": {
          "base_uri": "https://localhost:8080/"
        },
        "id": "cc5qYkh9TE_P",
        "outputId": "7955bad7-03a2-4d31-e329-a37aa9efcb0d"
      },
      "execution_count": 14,
      "outputs": [
        {
          "output_type": "execute_result",
          "data": {
            "text/plain": [
              "Data                                          datetime64[ns]\n",
              "Taxa de desocupação                                   object\n",
              "Empregados no setor privado e público                 object\n",
              "Empregados no setor público                           object\n",
              "Empregado por conta própria                           object\n",
              "Empregados no setor privado - com carteira            object\n",
              "Empregados no setor privado - sem Carteira            object\n",
              "Empregados no setor privado - total                   object\n",
              "dtype: object"
            ]
          },
          "metadata": {},
          "execution_count": 14
        }
      ]
    },
    {
      "cell_type": "code",
      "source": [
        "desemprego.head()"
      ],
      "metadata": {
        "colab": {
          "base_uri": "https://localhost:8080/",
          "height": 354
        },
        "id": "xL4g6vFuT3ys",
        "outputId": "a7f7ba4b-f8b6-4be4-bb3b-8f5a9478af8f"
      },
      "execution_count": 15,
      "outputs": [
        {
          "output_type": "execute_result",
          "data": {
            "text/plain": [
              "        Data Taxa de desocupação Empregados no setor privado e público  \\\n",
              "0 2012-03-01                8,0                                62.105    \n",
              "1 2012-04-01                7,8                                62.586    \n",
              "2 2012-05-01                7,7                                62.927    \n",
              "3 2012-06-01                7,6                                63.299    \n",
              "4 2012-07-01                7,5                                63.523    \n",
              "\n",
              "  Empregados no setor público Empregado por conta própria  \\\n",
              "0                     10.767                      20.174    \n",
              "1                     10.884                      20.205    \n",
              "2                     10.925                      20.165    \n",
              "3                     11.031                      19.930    \n",
              "4                     11.119                      19.843    \n",
              "\n",
              "  Empregados no setor privado - com carteira  \\\n",
              "0                                    34.262    \n",
              "1                                    34.574    \n",
              "2                                    34.759    \n",
              "3                                    35.004    \n",
              "4                                    35.120    \n",
              "\n",
              "  Empregados no setor privado - sem Carteira  \\\n",
              "0                                    11.122    \n",
              "1                                    11.180    \n",
              "2                                    11.244    \n",
              "3                                    11.265    \n",
              "4                                    11.293    \n",
              "\n",
              "  Empregados no setor privado - total  \n",
              "0                              45.384  \n",
              "1                              45.754  \n",
              "2                              46.003  \n",
              "3                              46.269  \n",
              "4                              46.413  "
            ],
            "text/html": [
              "\n",
              "  <div id=\"df-b8a412bd-5ccc-4041-9309-b8e92f215510\">\n",
              "    <div class=\"colab-df-container\">\n",
              "      <div>\n",
              "<style scoped>\n",
              "    .dataframe tbody tr th:only-of-type {\n",
              "        vertical-align: middle;\n",
              "    }\n",
              "\n",
              "    .dataframe tbody tr th {\n",
              "        vertical-align: top;\n",
              "    }\n",
              "\n",
              "    .dataframe thead th {\n",
              "        text-align: right;\n",
              "    }\n",
              "</style>\n",
              "<table border=\"1\" class=\"dataframe\">\n",
              "  <thead>\n",
              "    <tr style=\"text-align: right;\">\n",
              "      <th></th>\n",
              "      <th>Data</th>\n",
              "      <th>Taxa de desocupação</th>\n",
              "      <th>Empregados no setor privado e público</th>\n",
              "      <th>Empregados no setor público</th>\n",
              "      <th>Empregado por conta própria</th>\n",
              "      <th>Empregados no setor privado - com carteira</th>\n",
              "      <th>Empregados no setor privado - sem Carteira</th>\n",
              "      <th>Empregados no setor privado - total</th>\n",
              "    </tr>\n",
              "  </thead>\n",
              "  <tbody>\n",
              "    <tr>\n",
              "      <th>0</th>\n",
              "      <td>2012-03-01</td>\n",
              "      <td>8,0</td>\n",
              "      <td>62.105</td>\n",
              "      <td>10.767</td>\n",
              "      <td>20.174</td>\n",
              "      <td>34.262</td>\n",
              "      <td>11.122</td>\n",
              "      <td>45.384</td>\n",
              "    </tr>\n",
              "    <tr>\n",
              "      <th>1</th>\n",
              "      <td>2012-04-01</td>\n",
              "      <td>7,8</td>\n",
              "      <td>62.586</td>\n",
              "      <td>10.884</td>\n",
              "      <td>20.205</td>\n",
              "      <td>34.574</td>\n",
              "      <td>11.180</td>\n",
              "      <td>45.754</td>\n",
              "    </tr>\n",
              "    <tr>\n",
              "      <th>2</th>\n",
              "      <td>2012-05-01</td>\n",
              "      <td>7,7</td>\n",
              "      <td>62.927</td>\n",
              "      <td>10.925</td>\n",
              "      <td>20.165</td>\n",
              "      <td>34.759</td>\n",
              "      <td>11.244</td>\n",
              "      <td>46.003</td>\n",
              "    </tr>\n",
              "    <tr>\n",
              "      <th>3</th>\n",
              "      <td>2012-06-01</td>\n",
              "      <td>7,6</td>\n",
              "      <td>63.299</td>\n",
              "      <td>11.031</td>\n",
              "      <td>19.930</td>\n",
              "      <td>35.004</td>\n",
              "      <td>11.265</td>\n",
              "      <td>46.269</td>\n",
              "    </tr>\n",
              "    <tr>\n",
              "      <th>4</th>\n",
              "      <td>2012-07-01</td>\n",
              "      <td>7,5</td>\n",
              "      <td>63.523</td>\n",
              "      <td>11.119</td>\n",
              "      <td>19.843</td>\n",
              "      <td>35.120</td>\n",
              "      <td>11.293</td>\n",
              "      <td>46.413</td>\n",
              "    </tr>\n",
              "  </tbody>\n",
              "</table>\n",
              "</div>\n",
              "      <button class=\"colab-df-convert\" onclick=\"convertToInteractive('df-b8a412bd-5ccc-4041-9309-b8e92f215510')\"\n",
              "              title=\"Convert this dataframe to an interactive table.\"\n",
              "              style=\"display:none;\">\n",
              "        \n",
              "  <svg xmlns=\"http://www.w3.org/2000/svg\" height=\"24px\"viewBox=\"0 0 24 24\"\n",
              "       width=\"24px\">\n",
              "    <path d=\"M0 0h24v24H0V0z\" fill=\"none\"/>\n",
              "    <path d=\"M18.56 5.44l.94 2.06.94-2.06 2.06-.94-2.06-.94-.94-2.06-.94 2.06-2.06.94zm-11 1L8.5 8.5l.94-2.06 2.06-.94-2.06-.94L8.5 2.5l-.94 2.06-2.06.94zm10 10l.94 2.06.94-2.06 2.06-.94-2.06-.94-.94-2.06-.94 2.06-2.06.94z\"/><path d=\"M17.41 7.96l-1.37-1.37c-.4-.4-.92-.59-1.43-.59-.52 0-1.04.2-1.43.59L10.3 9.45l-7.72 7.72c-.78.78-.78 2.05 0 2.83L4 21.41c.39.39.9.59 1.41.59.51 0 1.02-.2 1.41-.59l7.78-7.78 2.81-2.81c.8-.78.8-2.07 0-2.86zM5.41 20L4 18.59l7.72-7.72 1.47 1.35L5.41 20z\"/>\n",
              "  </svg>\n",
              "      </button>\n",
              "      \n",
              "  <style>\n",
              "    .colab-df-container {\n",
              "      display:flex;\n",
              "      flex-wrap:wrap;\n",
              "      gap: 12px;\n",
              "    }\n",
              "\n",
              "    .colab-df-convert {\n",
              "      background-color: #E8F0FE;\n",
              "      border: none;\n",
              "      border-radius: 50%;\n",
              "      cursor: pointer;\n",
              "      display: none;\n",
              "      fill: #1967D2;\n",
              "      height: 32px;\n",
              "      padding: 0 0 0 0;\n",
              "      width: 32px;\n",
              "    }\n",
              "\n",
              "    .colab-df-convert:hover {\n",
              "      background-color: #E2EBFA;\n",
              "      box-shadow: 0px 1px 2px rgba(60, 64, 67, 0.3), 0px 1px 3px 1px rgba(60, 64, 67, 0.15);\n",
              "      fill: #174EA6;\n",
              "    }\n",
              "\n",
              "    [theme=dark] .colab-df-convert {\n",
              "      background-color: #3B4455;\n",
              "      fill: #D2E3FC;\n",
              "    }\n",
              "\n",
              "    [theme=dark] .colab-df-convert:hover {\n",
              "      background-color: #434B5C;\n",
              "      box-shadow: 0px 1px 3px 1px rgba(0, 0, 0, 0.15);\n",
              "      filter: drop-shadow(0px 1px 2px rgba(0, 0, 0, 0.3));\n",
              "      fill: #FFFFFF;\n",
              "    }\n",
              "  </style>\n",
              "\n",
              "      <script>\n",
              "        const buttonEl =\n",
              "          document.querySelector('#df-b8a412bd-5ccc-4041-9309-b8e92f215510 button.colab-df-convert');\n",
              "        buttonEl.style.display =\n",
              "          google.colab.kernel.accessAllowed ? 'block' : 'none';\n",
              "\n",
              "        async function convertToInteractive(key) {\n",
              "          const element = document.querySelector('#df-b8a412bd-5ccc-4041-9309-b8e92f215510');\n",
              "          const dataTable =\n",
              "            await google.colab.kernel.invokeFunction('convertToInteractive',\n",
              "                                                     [key], {});\n",
              "          if (!dataTable) return;\n",
              "\n",
              "          const docLinkHtml = 'Like what you see? Visit the ' +\n",
              "            '<a target=\"_blank\" href=https://colab.research.google.com/notebooks/data_table.ipynb>data table notebook</a>'\n",
              "            + ' to learn more about interactive tables.';\n",
              "          element.innerHTML = '';\n",
              "          dataTable['output_type'] = 'display_data';\n",
              "          await google.colab.output.renderOutput(dataTable, element);\n",
              "          const docLink = document.createElement('div');\n",
              "          docLink.innerHTML = docLinkHtml;\n",
              "          element.appendChild(docLink);\n",
              "        }\n",
              "      </script>\n",
              "    </div>\n",
              "  </div>\n",
              "  "
            ]
          },
          "metadata": {},
          "execution_count": 15
        }
      ]
    },
    {
      "cell_type": "code",
      "source": [
        "for coluna in desemprego.select_dtypes(object):\n",
        "    print(coluna)"
      ],
      "metadata": {
        "colab": {
          "base_uri": "https://localhost:8080/"
        },
        "id": "LJ-YnkktT66m",
        "outputId": "c05d0e6b-145b-4fc6-a1e7-81449cf841ee"
      },
      "execution_count": 16,
      "outputs": [
        {
          "output_type": "stream",
          "name": "stdout",
          "text": [
            "Taxa de desocupação\n",
            "Empregados no setor privado e público\n",
            "Empregados no setor público\n",
            "Empregado por conta própria\n",
            "Empregados no setor privado - com carteira\n",
            "Empregados no setor privado - sem Carteira\n",
            "Empregados no setor privado - total\n"
          ]
        }
      ]
    },
    {
      "cell_type": "code",
      "source": [
        "desemprego['Taxa de desocupação'].str.replace(',', '.')"
      ],
      "metadata": {
        "colab": {
          "base_uri": "https://localhost:8080/"
        },
        "id": "og0Xqqt2UBBU",
        "outputId": "b3ef8569-097f-4201-f8be-65903edce63a"
      },
      "execution_count": 17,
      "outputs": [
        {
          "output_type": "execute_result",
          "data": {
            "text/plain": [
              "0       8.0 \n",
              "1       7.8 \n",
              "2       7.7 \n",
              "3       7.6 \n",
              "4       7.5 \n",
              "       ...  \n",
              "113    13.1 \n",
              "114    12.6 \n",
              "115    12.1 \n",
              "116    11.6 \n",
              "117    11.1 \n",
              "Name: Taxa de desocupação, Length: 118, dtype: object"
            ]
          },
          "metadata": {},
          "execution_count": 17
        }
      ]
    },
    {
      "cell_type": "code",
      "source": [
        "for column in desemprego.select_dtypes(object):\n",
        "    if column == 'Taxa de desocupação':\n",
        "        desemprego[column] = desemprego[column].str.replace(',', '.').astype(float)\n",
        "    else:\n",
        "        desemprego[column] = desemprego[column].astype(float)"
      ],
      "metadata": {
        "id": "-3QCpSgLUEnH"
      },
      "execution_count": 18,
      "outputs": []
    },
    {
      "cell_type": "code",
      "source": [
        "desemprego.dtypes"
      ],
      "metadata": {
        "colab": {
          "base_uri": "https://localhost:8080/"
        },
        "id": "TCATtowmUHy8",
        "outputId": "ae4c588b-9df3-4a44-aa99-c304e74ea01d"
      },
      "execution_count": 19,
      "outputs": [
        {
          "output_type": "execute_result",
          "data": {
            "text/plain": [
              "Data                                          datetime64[ns]\n",
              "Taxa de desocupação                                  float64\n",
              "Empregados no setor privado e público                float64\n",
              "Empregados no setor público                          float64\n",
              "Empregado por conta própria                          float64\n",
              "Empregados no setor privado - com carteira           float64\n",
              "Empregados no setor privado - sem Carteira           float64\n",
              "Empregados no setor privado - total                  float64\n",
              "dtype: object"
            ]
          },
          "metadata": {},
          "execution_count": 19
        }
      ]
    },
    {
      "cell_type": "code",
      "source": [
        "desemprego.set_index('Data', inplace = True)"
      ],
      "metadata": {
        "id": "A9uwFVhTUKXo"
      },
      "execution_count": 20,
      "outputs": []
    },
    {
      "cell_type": "code",
      "source": [
        "desemprego['Taxa de desocupação'].plot();"
      ],
      "metadata": {
        "colab": {
          "base_uri": "https://localhost:8080/",
          "height": 279
        },
        "id": "pAbM-97ZUNsT",
        "outputId": "4a85b07a-ee01-4702-dd9f-38034ce71eea"
      },
      "execution_count": 21,
      "outputs": [
        {
          "output_type": "display_data",
          "data": {
            "text/plain": [
              "<Figure size 432x288 with 1 Axes>"
            ],
            "image/png": "[encoded data removed]"
          },
          "metadata": {
            "needs_background": "light"
          }
        }
      ]
    },
    {
      "cell_type": "code",
      "source": [
        "desemprego['Taxa de desocupação'].resample('Y').agg(np.mean).plot();"
      ],
      "metadata": {
        "colab": {
          "base_uri": "https://localhost:8080/",
          "height": 279
        },
        "id": "xaO445-1URCQ",
        "outputId": "6b056a90-e6f4-4759-9d08-f0a0cb137df1"
      },
      "execution_count": 22,
      "outputs": [
        {
          "output_type": "display_data",
          "data": {
            "text/plain": [
              "<Figure size 432x288 with 1 Axes>"
            ],
            "image/png": "[encoded data removed]"
          },
          "metadata": {
            "needs_background": "light"
          }
        }
      ]
    },
    {
      "cell_type": "code",
      "source": [
        "desemprego['Empregados no setor privado - total'].plot()"
      ],
      "metadata": {
        "colab": {
          "base_uri": "https://localhost:8080/",
          "height": 296
        },
        "id": "Uw84UULoUT5m",
        "outputId": "7aaf4839-b547-4f46-f5de-12ef8acef8e6"
      },
      "execution_count": 23,
      "outputs": [
        {
          "output_type": "execute_result",
          "data": {
            "text/plain": [
              "<matplotlib.axes._subplots.AxesSubplot at 0x7fad6c0854d0>"
            ]
          },
          "metadata": {},
          "execution_count": 23
        },
        {
          "output_type": "display_data",
          "data": {
            "text/plain": [
              "<Figure size 432x288 with 1 Axes>"
            ],
            "image/png": "[encoded data removed]"
          },
          "metadata": {
            "needs_background": "light"
          }
        }
      ]
    },
    {
      "cell_type": "code",
      "source": [
        "# Agora observando os componentes de sazonalidade \n",
        "from statsmodels.tsa.seasonal import seasonal_decompose"
      ],
      "metadata": {
        "colab": {
          "base_uri": "https://localhost:8080/"
        },
        "id": "JgrBLmoyUYXv",
        "outputId": "275aeb44-a2b5-4ce9-89d3-bb6aa6eea8a0"
      },
      "execution_count": 24,
      "outputs": [
        {
          "output_type": "stream",
          "name": "stderr",
          "text": [
            "/usr/local/lib/python3.7/dist-packages/statsmodels/tools/_testing.py:19: FutureWarning: pandas.util.testing is deprecated. Use the functions in the public API at pandas.testing instead.\n",
            "  import pandas.util.testing as tm\n"
          ]
        }
      ]
    },
    {
      "cell_type": "code",
      "source": [
        "ts_decompose = seasonal_decompose(desemprego['Empregados no setor privado - total'])"
      ],
      "metadata": {
        "id": "S7J8N536UZo6"
      },
      "execution_count": 25,
      "outputs": []
    },
    {
      "cell_type": "code",
      "source": [
        "ts_decompose.plot();"
      ],
      "metadata": {
        "colab": {
          "base_uri": "https://localhost:8080/",
          "height": 298
        },
        "id": "JiCzdIoLUi1p",
        "outputId": "ab64ab39-c321-47f3-b334-69bc92080b9c"
      },
      "execution_count": 26,
      "outputs": [
        {
          "output_type": "display_data",
          "data": {
            "text/plain": [
              "<Figure size 432x288 with 4 Axes>"
            ],
            "image/png": "[encoded data removed]"
          },
          "metadata": {
            "needs_background": "light"
          }
        }
      ]
    },
    {
      "cell_type": "code",
      "source": [
        "desemprego['Empregados no setor privado - total'].pct_change()"
      ],
      "metadata": {
        "colab": {
          "base_uri": "https://localhost:8080/"
        },
        "id": "TiO1QMvnUjaw",
        "outputId": "0a425408-1a99-47cb-e803-6f1c447a6a85"
      },
      "execution_count": 27,
      "outputs": [
        {
          "output_type": "execute_result",
          "data": {
            "text/plain": [
              "Data\n",
              "2012-03-01         NaN\n",
              "2012-04-01    0.008153\n",
              "2012-05-01    0.005442\n",
              "2012-06-01    0.005782\n",
              "2012-07-01    0.003112\n",
              "                ...   \n",
              "2021-08-01    0.017621\n",
              "2021-09-01    0.021770\n",
              "2021-10-01    0.014005\n",
              "2021-11-01    0.012459\n",
              "2021-12-01    0.011529\n",
              "Name: Empregados no setor privado - total, Length: 118, dtype: float64"
            ]
          },
          "metadata": {},
          "execution_count": 27
        }
      ]
    },
    {
      "cell_type": "code",
      "source": [
        "(desemprego['Empregados no setor privado - total'].pct_change().fillna(0)*100).plot();"
      ],
      "metadata": {
        "colab": {
          "base_uri": "https://localhost:8080/",
          "height": 279
        },
        "id": "G-cgGI17UoDS",
        "outputId": "323aedd7-4c27-433d-849a-8526af8b37dd"
      },
      "execution_count": 28,
      "outputs": [
        {
          "output_type": "display_data",
          "data": {
            "text/plain": [
              "<Figure size 432x288 with 1 Axes>"
            ],
            "image/png": "[encoded data removed]"
          },
          "metadata": {
            "needs_background": "light"
          }
        }
      ]
    }
  ]
}