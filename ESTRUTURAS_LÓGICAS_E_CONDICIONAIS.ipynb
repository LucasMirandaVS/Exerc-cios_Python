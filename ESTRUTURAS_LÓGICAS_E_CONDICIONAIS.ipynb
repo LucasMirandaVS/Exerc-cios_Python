{
  "nbformat": 4,
  "nbformat_minor": 0,
  "metadata": {
    "colab": {
      "name": " ESTRUTURAS LÓGICAS E CONDICIONAIS",
      "provenance": [],
      "collapsed_sections": []
    },
    "kernelspec": {
      "name": "python3",
      "display_name": "Python 3"
    },
    "language_info": {
      "name": "python"
    }
  },
  "cells": [
    {
      "cell_type": "markdown",
      "source": [
        "1) FAÇA UM PROGRAMA QUE RECEBA DOIS NUMEROS E MOSTRE QUAL DELES É O MAIOR"
      ],
      "metadata": {
        "id": "FttsxePfxC-W"
      }
    },
    {
      "cell_type": "code",
      "source": [
        "numero1 = int(input(\"Diga um número: \"))\n",
        "numero2 = int(input(\"Agora fala outro: \"))\n",
        "if numero1 > numero2:\n",
        "  print(f\"O maior numeral é: {numero1}\")\n",
        "else:\n",
        "  print(f\"O maior numeral é: {numero2}\")\n",
        "\n"
      ],
      "metadata": {
        "colab": {
          "base_uri": "https://localhost:8080/"
        },
        "id": "LWQ8_E_jxFGn",
        "outputId": "e0a17471-c1e6-4811-fa8d-defa40fb8f8e"
      },
      "execution_count": null,
      "outputs": [
        {
          "output_type": "stream",
          "name": "stdout",
          "text": [
            "Diga um número: 6\n",
            "Agora fala outro: 2\n",
            "O maior numeral é: 6\n"
          ]
        }
      ]
    },
    {
      "cell_type": "markdown",
      "source": [
        "2) LEIA UM NUMERO FORNECIDO PELO USUÁRIO. SE ESSE NÚMERO FOR POSITIVO, CALCULE A RAIZ QUADRADA DO NÚMERO. SE O NÚMERO FOR NEGATIVO, MOSTRE UMA MENSAGEM DIZENDO QUE O NÚMERO É INVÁLIDO."
      ],
      "metadata": {
        "id": "ktg0-2RUy_Hi"
      }
    },
    {
      "cell_type": "code",
      "source": [
        "import math\n",
        "numUsuario = float(input(\"Digite um número positivo: \"))\n",
        "if (numUsuario >= 0):\n",
        "  raiz = math.sqrt(numUsuario)\n",
        "  print(f\"A sua raiz quadrada é : {raiz}\")\n",
        "else:\n",
        "  print(\"Número inválido, por favor digite um número positivo!\")"
      ],
      "metadata": {
        "colab": {
          "base_uri": "https://localhost:8080/"
        },
        "id": "OEx2cnfgzGEb",
        "outputId": "56e5bf28-c663-485e-9117-4287d93b4aaf"
      },
      "execution_count": null,
      "outputs": [
        {
          "output_type": "stream",
          "name": "stdout",
          "text": [
            "Digite um número positivo: -3\n",
            "Número inválido, por favor digite um número positivo!\n"
          ]
        }
      ]
    },
    {
      "cell_type": "markdown",
      "source": [
        "3) LEIA UM NÚMERO REAL . SE O NÚMERO FOR POSITIVO IMPRIMA A RAIZ QUADRADA. DO\n",
        "CONTRÁRIO, IMPRIMA O NÚMERO AO QUADRADO.\n"
      ],
      "metadata": {
        "id": "VW1epShV0_iK"
      }
    },
    {
      "cell_type": "code",
      "source": [
        "entrada = float(input(\"Digite um número real: \"))\n",
        "if (entrada >= 0 ):\n",
        "  raiz = math.sqrt(entrada)\n",
        "  print(f\"Sua raiz é: {raiz}\")\n",
        "else:\n",
        "  quadrado = entrada*entrada\n",
        "  print(f\"A sua raiz quadrada é: {quadrado}\")"
      ],
      "metadata": {
        "colab": {
          "base_uri": "https://localhost:8080/"
        },
        "id": "Y3dWJHj91EBi",
        "outputId": "824303f2-f210-405f-95a1-0c3af0dec3b8"
      },
      "execution_count": null,
      "outputs": [
        {
          "output_type": "stream",
          "name": "stdout",
          "text": [
            "Digite um número real: -9\n",
            "A sua raiz quadrada é: 81.0\n"
          ]
        }
      ]
    },
    {
      "cell_type": "markdown",
      "source": [
        "4) FAÇA UM PROGRAMA QUE RECEBA UM NÚMERO INTEIRO E VERIFIQUE SE ESTE NÚMERO É PAR OU ÍMPAR"
      ],
      "metadata": {
        "id": "2Y6w9NGk1nk8"
      }
    },
    {
      "cell_type": "code",
      "source": [
        "num = int(input(\"fala a porra de um numero: \"))\n",
        "if (num%2 == 0):\n",
        "  print(\"Seu número é par\")\n",
        "elif(num%2 == 1):\n",
        "  print(\"Seu número é impar\")\n"
      ],
      "metadata": {
        "colab": {
          "base_uri": "https://localhost:8080/"
        },
        "id": "9ATAupBu1sdW",
        "outputId": "6e105ff0-8529-4a7d-e03b-3be56089e376"
      },
      "execution_count": null,
      "outputs": [
        {
          "output_type": "stream",
          "name": "stdout",
          "text": [
            "fala a porra de um numero: 9\n",
            "Seu número é impar\n"
          ]
        }
      ]
    },
    {
      "cell_type": "markdown",
      "source": [
        "5) FAÇA UM PROGRAMA QUE RECEBA DOIS NUMEROS E MOSTRE O MAIOR. SE POR ACASO, OS\n",
        "DOIS NÚMEROS FOREM IGUAIS, IMPRIMA A MENSAGEM NÚMEROS IGUAIS."
      ],
      "metadata": {
        "id": "aQ2UFyqG3GMG"
      }
    },
    {
      "cell_type": "code",
      "source": [
        "num1 = float(input(\"Digite o primeiro número: \"))\n",
        "num2 = float(input(\"Digite o segundo: \"))\n",
        "if (num1 > num2):\n",
        "  print(f\"O maior é o {num1}\")\n",
        "elif (num2 > num1):\n",
        "  print(f\"O maior é o {num2}\")\n",
        "else :\n",
        "  print(\"São iguais, por favor digite diferentes\")"
      ],
      "metadata": {
        "colab": {
          "base_uri": "https://localhost:8080/"
        },
        "id": "BHDdlUVK3Iao",
        "outputId": "f59bd221-2483-4246-f237-35eba1599f57"
      },
      "execution_count": null,
      "outputs": [
        {
          "output_type": "stream",
          "name": "stdout",
          "text": [
            "Digite o primeiro número: 9\n",
            "Digite o segundo: 9\n",
            "São iguais, por favor digite diferentes\n"
          ]
        }
      ]
    },
    {
      "cell_type": "markdown",
      "source": [
        "6) LEIA O SALÁRIO DE UM TRABALHADOR E O VALOR DA PRESTAÇÃO DE UM EMPRÉSTIMO. SE A PRESTAÇÃO FOR MAIOR QUE 20% DO SALÁRIO IMPRIMA: EMPRÉSTIMO NÃO CONCEDIDO, CASO CONTRARIO IMPRIMA: EMPRÉSTIMO CONCEDIDO."
      ],
      "metadata": {
        "id": "A_ltyWAv4AfQ"
      }
    },
    {
      "cell_type": "code",
      "source": [
        "salario = float(input(\"Digite seu rendimento: \"))\n",
        "emprestimo = float(input(\"Digite o quanto vc quer de empréstimo: \"))\n",
        "quota = (salario*0.20)\n",
        "if (emprestimo >= quota):\n",
        "  print(\"Você não pode pegar esse valor\")\n",
        "else:\n",
        "  print(\"Empréstimo concedido\")"
      ],
      "metadata": {
        "colab": {
          "base_uri": "https://localhost:8080/"
        },
        "id": "jklFhXZE4NFQ",
        "outputId": "7e093c8c-8a66-470f-8729-296985edfca7"
      },
      "execution_count": null,
      "outputs": [
        {
          "output_type": "stream",
          "name": "stdout",
          "text": [
            "Digite seu rendimento: 100\n",
            "Digite o quanto vc quer de empréstimo: 25\n",
            "Você não pode pegar esse valor\n"
          ]
        }
      ]
    },
    {
      "cell_type": "markdown",
      "source": [
        "7) LEIA O SALÁRIO DE UM TRABALHADOR E O PERCENTUAL DE IMPOSTO PAGO EM FOLHA. SE O VALOR FOR FOR MAIOR QUE R$ 200 IMPRIMA:  ACIMA D E  R$200,00, CASO CONTRARIO IMPRIMA: ABAIXO DE R$200,00"
      ],
      "metadata": {
        "id": "hTsGB4lB5Dh7"
      }
    },
    {
      "cell_type": "code",
      "source": [
        "sal = float(input(\"Digite o seu salario: \"))\n",
        "imposto = float(input(\"Entre com o imposto pago: \"))\n",
        "percentual = sal * (imposto/100)\n",
        "if (percentual >= 200):\n",
        "  print(\"Acima de 200\")\n",
        "else:\n",
        "  print(\"Abaixo de 200\")"
      ],
      "metadata": {
        "colab": {
          "base_uri": "https://localhost:8080/"
        },
        "id": "oC6uVTwl5I7s",
        "outputId": "5027f976-b003-4970-bd03-20f42ed05553"
      },
      "execution_count": null,
      "outputs": [
        {
          "output_type": "stream",
          "name": "stdout",
          "text": [
            "Digite o seu salario: 5000\n",
            "Entre com o imposto pago: 350\n",
            "Acima de 200\n"
          ]
        }
      ]
    },
    {
      "cell_type": "markdown",
      "source": [
        "8) LER UM NUMERO INTEIRO. SE O NÚMERO LIDO FOR NEGATIVO, ESCREVA A MENSAGEM\n",
        "“NÚMERO INVÁLIDO”. SE O NÚMERO FOR POSITIVO, CALCULAR O LOGARITMO DESTE NUMERO."
      ],
      "metadata": {
        "id": "hKYWAeIA6HRg"
      }
    },
    {
      "cell_type": "code",
      "source": [
        "import math\n",
        "valor = int(input(\"Digite um numero: \"))\n",
        "if (valor >= 0):\n",
        "  conta = math.log(valor)\n",
        "  print(f\"Seu logaritmo natural é: {conta}\")\n",
        "else: \n",
        "  print(\"Número invalido\")"
      ],
      "metadata": {
        "colab": {
          "base_uri": "https://localhost:8080/"
        },
        "id": "uJMt8Re66Ot7",
        "outputId": "39f9bb01-d1d9-4eb5-a906-5989da9b4acd"
      },
      "execution_count": null,
      "outputs": [
        {
          "output_type": "stream",
          "name": "stdout",
          "text": [
            "Digite um numero: 9\n",
            "Seu logaritmo natural é: 2.1972245773362196\n"
          ]
        }
      ]
    },
    {
      "cell_type": "markdown",
      "source": [
        "9) FAÇA UM PROGRAMA QUE LEIA 2 NOTAS DE UM ALUNO, VERIFIQUE SE AS NOTAS SAO\n",
        "VÁLIDAS E EXIBA NA TELA A MÉDIA DESTAS NOTAS. UMA NOTA VÁLIDA DEVE SER,\n",
        "OBRIGATORIAMENTE, UM VALOR ENTRE 0.0 E 10.0, ONDE CASO A NOTA NAO POSSUA UM VALOR VÁLIDO, ESTE FATO DEVE SER INFORMADO AO USUÁRIO E O PROGRAMA TERMINA"
      ],
      "metadata": {
        "id": "nnXgvnoM62Et"
      }
    },
    {
      "cell_type": "code",
      "source": [
        "nota1 = float(input(\"Digite a primeiro nota: \"))\n",
        "nota2 = float(input(\"Digite a segunda nota: \"))\n",
        "if (nota1 and nota2 >= 0 <= 10):\n",
        "  media = (nota1 + nota2)/2\n",
        "  print(f\"Suas média final foi {media}\")\n",
        "else:\n",
        "  print(\"Notas invalidas\")\n"
      ],
      "metadata": {
        "colab": {
          "base_uri": "https://localhost:8080/"
        },
        "id": "pUtxyh1x69IY",
        "outputId": "1fb71831-5c9d-4d24-ce76-93bb4412f090"
      },
      "execution_count": null,
      "outputs": [
        {
          "output_type": "stream",
          "name": "stdout",
          "text": [
            "Digite a primeiro nota: 8\n",
            "Digite a segunda nota: -1\n",
            "Notas invalidas\n"
          ]
        }
      ]
    },
    {
      "cell_type": "markdown",
      "source": [
        "10) FAÇA UM ALGORITMO QUE CALCULE A MÉDIA PONDERADA DAS NOTAS DE 3 PROVAS. A\n",
        "PRIMEIRA É A SEGUNDA PROVA TEM PESO 1 E A TERCEIRA TEM PESO 2. AO FINAL , MOSTRAR A MÉDIA DO ALUNO E INDICAR SE O ALUNO FOI APROVADO OU REPROVADO. A NOTA PARA APROVAÇÃO DEVE SER IGUAL OU SUPERIOR A 60 PONTOS"
      ],
      "metadata": {
        "id": "XEBMHEID8MIw"
      }
    },
    {
      "cell_type": "code",
      "source": [
        "primeira = float(input(\"Digite a nota da p1: \"))\n",
        "segunda = float(input(\"Agora a nota da p2: \"))\n",
        "terceira = float(input(\"Por ultimo, a p3: \"))\n",
        "mediap = ((1*primeira) + (1*segunda) + (2*terceira))/4\n",
        "\n",
        "if(mediap >= 6 ):\n",
        "  print(f\"sua média foi {mediap}, Vc foi aprovado\")\n",
        "else:\n",
        "  print(f'Sua média foi {mediap}, Tu te fudeu hein guri')"
      ],
      "metadata": {
        "colab": {
          "base_uri": "https://localhost:8080/"
        },
        "id": "FScUHhIr8TUU",
        "outputId": "e0fec0ba-001b-414d-8f67-52e6b853d592"
      },
      "execution_count": null,
      "outputs": [
        {
          "output_type": "stream",
          "name": "stdout",
          "text": [
            "Digite a nota da p1: 9\n",
            "Agora a nota da p2: 3\n",
            "Por ultimo, a p3: 2.7\n",
            "Sua média foi 4.35, Tu te fudeu hein guri\n"
          ]
        }
      ]
    },
    {
      "cell_type": "markdown",
      "source": [
        "11) ESCREVA UM ALGORITMO QUE LEIA DOIS NÚMEROS E EXIBA-OS EM ORDEM CRESCENTE"
      ],
      "metadata": {
        "id": "76yHdQ1oJnzj"
      }
    },
    {
      "cell_type": "code",
      "source": [
        "primo = int(input(\"Entre com o primeiro número: \"))\n",
        "secu = int(input(\"Agora o segundo: \"))\n",
        "if (primo > secu):\n",
        "  print(f\"O maior é {primo} e depois {secu}\")\n",
        "elif (secu > primo):\n",
        "  print(f\"O maior é {secu} e depois {primo}\")\n",
        "else:\n",
        "  print(\"Esses número são iguais, digite dois diferentes\")"
      ],
      "metadata": {
        "colab": {
          "base_uri": "https://localhost:8080/"
        },
        "id": "EqYBZGadJpUN",
        "outputId": "f6311fdd-0736-451d-a150-108114b7d877"
      },
      "execution_count": null,
      "outputs": [
        {
          "output_type": "stream",
          "name": "stdout",
          "text": [
            "Entre com o primeiro número: 9\n",
            "Agora o segundo: 9\n",
            "Esses número são iguais, digite dois diferentes\n"
          ]
        }
      ]
    },
    {
      "cell_type": "markdown",
      "source": [
        " 12) ESCREVA UM ALGORITMO QUE LEIA UM NÚMERO E EXIBA SEU SUCESSOR."
      ],
      "metadata": {
        "id": "JZF5jCgjKhgT"
      }
    },
    {
      "cell_type": "code",
      "source": [
        "nume = int(input(\"Digite um número: \"))\n",
        "print(f\"O seu sucessor é {nume + 1}\")"
      ],
      "metadata": {
        "colab": {
          "base_uri": "https://localhost:8080/"
        },
        "id": "XRG35dvRKk8R",
        "outputId": "4f4b233d-6480-4676-b4e7-1698e6cbb870"
      },
      "execution_count": null,
      "outputs": [
        {
          "output_type": "stream",
          "name": "stdout",
          "text": [
            "Digite um número: 8\n",
            "O seu sucessor é 9\n"
          ]
        }
      ]
    },
    {
      "cell_type": "markdown",
      "source": [
        "13) ELABORE UM ALGORITMO QUE DADA A IDADE DE UM NADADOR CLASSIFICA-O EM UMA DAS SEGUINTES CATEGORIAS: INFANTIL A = 5 - 7 ANOS, INFANTIL B = 8-10 ANOS, JUVENI L A = 11-13 ANOS, JUVENI L B = 14-17 ANOS, ADULTO = MAIORES DE 18 ANOS"
      ],
      "metadata": {
        "id": "K-phqHOQK8Ro"
      }
    },
    {
      "cell_type": "code",
      "source": [
        "idade = int(input(\"Diga-me quantos anos tens: \"))\n",
        "if ((idade >= 5) and (idade <=  7)):\n",
        "  print(\"Entao vc é infantil A\")\n",
        "elif ((idade >= 8) and (idade <=  10)):\n",
        "  print(\"Tu és infantil B\")\n",
        "elif ((idade >= 11) and (idade <= 13)):\n",
        "  print(\"Tu és juvenil A\")\n",
        "elif ((idade >= 14) and (idade <= 17)):\n",
        "  print(\"Tu és juvenil B\")\n",
        "elif ((idade >= 18)):\n",
        "  print(\"Vc é adulto\")\n",
        "else:\n",
        "  print(\"Vc é muito novo pra nadar\")"
      ],
      "metadata": {
        "colab": {
          "base_uri": "https://localhost:8080/"
        },
        "id": "NdaTwU-PLFxh",
        "outputId": "7bd4ca55-d79c-4a6d-ba0c-a64b0ca357d2"
      },
      "execution_count": null,
      "outputs": [
        {
          "output_type": "stream",
          "name": "stdout",
          "text": [
            "Diga-me quantos anos tens: 3\n",
            "Vc é muito novo pra nadar\n"
          ]
        }
      ]
    },
    {
      "cell_type": "markdown",
      "source": [
        "14) FAÇA UM ALGORITMO QUE LEIA OS VALORES A, B, C E IMPRIMA NA TELA SE A SOMA DE A + B É MENOR QUE C."
      ],
      "metadata": {
        "id": "gMsO4iYsNzMN"
      }
    },
    {
      "cell_type": "code",
      "source": [
        "a = int(input(\"Digite o valor de A: \"))\n",
        "b = int(input(\"Agora o valor de B: \"))\n",
        "c = int(input(\"E o valor de C: \"))\n",
        "if (a + b > c):\n",
        "  print(\"A soma de a + b é maior que c\")\n",
        "elif (a + b == c):\n",
        "  print(\"a + b é igual a c\")\n",
        "else:\n",
        "  print(\"Não é maior\")\n"
      ],
      "metadata": {
        "colab": {
          "base_uri": "https://localhost:8080/"
        },
        "id": "2j7MogbWN2wF",
        "outputId": "5f0787ab-b929-4c55-875b-9b75e9564f0f"
      },
      "execution_count": null,
      "outputs": [
        {
          "output_type": "stream",
          "name": "stdout",
          "text": [
            "Digite o valor de A: 1\n",
            "Agora o valor de B: 19\n",
            "E o valor de C: 20\n",
            "a + b é igual a c\n"
          ]
        }
      ]
    },
    {
      "cell_type": "markdown",
      "source": [
        "15) FAÇA UM ALGORITMO QUE LEIA UMA VARIÁVEL E SOME 5 CASO SEJA PAR OU SOME 8 CASO SEJA ÍMPAR, IMPRIMIR O RESULTADO DESTA OPERAÇÃO."
      ],
      "metadata": {
        "id": "8VTDMlvSOwPj"
      }
    },
    {
      "cell_type": "code",
      "source": [
        "variable = int(input(\"Digite um número: \"))\n",
        "if (variable%2 == 0):\n",
        "  print(f\"Seu resulado é {variable + 5}\")\n",
        "else:\n",
        "  print(f\"Seu resultado é {variable + 8}\")"
      ],
      "metadata": {
        "colab": {
          "base_uri": "https://localhost:8080/"
        },
        "id": "jMqxax_JO1yW",
        "outputId": "f1bcd792-1915-468f-d199-27c82d30f217"
      },
      "execution_count": null,
      "outputs": [
        {
          "output_type": "stream",
          "name": "stdout",
          "text": [
            "Digite um número: 1\n",
            "Seu resultado é 9\n"
          ]
        }
      ]
    },
    {
      "cell_type": "markdown",
      "source": [
        "16) FAÇA UM ALGORITMO QUE LEIA UMA VARIÁVEL E DIVIDA POR 10 SE ESTIVER NO INTERVALO ENTRE 0 E 100 CASO ESTEJA FORA, DIVIDA POR 2. IMPRIMA O RESULTADO"
      ],
      "metadata": {
        "id": "31C9fuTXPcha"
      }
    },
    {
      "cell_type": "code",
      "source": [
        "variavel = float(input(\"Digite um número: \"))\n",
        "if (variavel >= 0) and (variavel <= 100):\n",
        "  print(f\"Sua divisão por 10 é {variavel/10}\")\n",
        "else:\n",
        "  print(f\"Sua divisão por 2 é {variavel/2}\")"
      ],
      "metadata": {
        "colab": {
          "base_uri": "https://localhost:8080/"
        },
        "id": "Zj4fzlCNPjc6",
        "outputId": "6841bfbe-b461-4b58-f39a-1439314dc41e"
      },
      "execution_count": null,
      "outputs": [
        {
          "output_type": "stream",
          "name": "stdout",
          "text": [
            "Digite um número: 101\n",
            "Sua divisão por 2 é 50.5\n"
          ]
        }
      ]
    },
    {
      "cell_type": "markdown",
      "source": [
        "17) CRIE UM ALGORI TMO QUE, DADO O NÍVEL DE ALERTA DE RISCO, IMPRIMA SE ELE FOR GRAVE. O NÍVEL DE ALERTA É UM NÚMERO QUE VARIA DE 0 A 10. O NÍVEL É CONSIDERADO GRAVE QUANDO ELE É SUPERIOR A 9"
      ],
      "metadata": {
        "id": "RixGWy8dQPo_"
      }
    },
    {
      "cell_type": "code",
      "source": [
        "risco = int(input(\"Digite um valor entre 0 e 10: \"))\n",
        "if (risco >= 9 and risco <= 10):\n",
        "  print(\"ALERTA GRAVEEEE\")\n",
        "elif (risco >= 0 and risco <= 8):\n",
        "  print(\"TD2 MORADOR\")\n",
        "else:\n",
        "  print(\"NUMERO INVALIDO\")"
      ],
      "metadata": {
        "colab": {
          "base_uri": "https://localhost:8080/"
        },
        "id": "kKm3mh9DQUeF",
        "outputId": "494d7f9f-68f7-4e1c-b0b5-932e34c45a1a"
      },
      "execution_count": null,
      "outputs": [
        {
          "output_type": "stream",
          "name": "stdout",
          "text": [
            "Digite um valor entre 0 e 10: 11\n",
            "NUMERO INVALIDO\n"
          ]
        }
      ]
    },
    {
      "cell_type": "markdown",
      "source": [
        "18) FAÇA UM PROGRAMA QUE LEIA UM NÚMERO E DIGA SE ELE É DIVISÍVEL POR 2 E POR 3. USE ESTRUTURA DE DESVIO CONDICIONAL SIMPLES."
      ],
      "metadata": {
        "id": "nWoLV315SlET"
      }
    },
    {
      "cell_type": "code",
      "source": [
        "numer = int(input(\"Digite um numero: \"))\n",
        "if (numer%2 == 0 and numer%3 == 0):\n",
        "  print(\"É divisível por 2 e 3\")\n",
        "else:\n",
        "  print(\"Não é divisível\")"
      ],
      "metadata": {
        "colab": {
          "base_uri": "https://localhost:8080/"
        },
        "id": "SKFZx5u6SpwW",
        "outputId": "708620ad-d5f6-48da-b468-f55250676604"
      },
      "execution_count": null,
      "outputs": [
        {
          "output_type": "stream",
          "name": "stdout",
          "text": [
            "Digite um numero: 3\n",
            "Não é divisível\n"
          ]
        }
      ]
    },
    {
      "cell_type": "markdown",
      "source": [
        "19) CALCULE A MÉDIA ARI TMÉT ICA DAS 3 NOTAS DE UM ALUNO E MOSTRE, ALÉM DO VALOR DA MÉDIA, UMA MENSAGEM DE \"APROVADO\", CASO A MÉDIA SEJA IGUAL OU SUPERIOR A 6, OU A MENSAGEM \"REPROVADO\", CASO CONTRÁRIO."
      ],
      "metadata": {
        "id": "RwXnLZjWTXvd"
      }
    },
    {
      "cell_type": "code",
      "source": [
        "no1 = float(input(\"Fala a nota da tua p1: \"))\n",
        "no2 = float(input(\"Agora me fala a p2: \"))\n",
        "no3 = float(input(\"E na p3: \"))\n",
        "arit = (no1 + no2 + no3)/3\n",
        "if (arit >= 6):\n",
        "  print(f\"Média {arit}. Aluno aprovado\")\n",
        "else:\n",
        "  print(f\"Média {arit}. Aluno reprovado\")"
      ],
      "metadata": {
        "colab": {
          "base_uri": "https://localhost:8080/"
        },
        "id": "4kvS9q5qTbaR",
        "outputId": "346cbb34-88da-42ac-dfee-ac9a8f39f0ff"
      },
      "execution_count": null,
      "outputs": [
        {
          "output_type": "stream",
          "name": "stdout",
          "text": [
            "Fala a nota da tua p1: 1\n",
            "Agora me fala a p2: 5\n",
            "E na p3: 9\n",
            "Média 5.0. Aluno reprovado\n"
          ]
        }
      ]
    },
    {
      "cell_type": "markdown",
      "source": [
        "20) LEIA A DISTANCIA EM KM E A QUANTIDADE DE LI TROS DE GASOLINA CONSUMIDOS POR UM CARRO EM UM PERCURSO, CALCULE O CONSUMO EM KM/ L E ESCREVA UMA MENSAGEM DE ACORDO COM A TABELA ABAIXO:"
      ],
      "metadata": {
        "id": "QCfT2cCuULhN"
      }
    },
    {
      "cell_type": "code",
      "source": [
        "km = float(input(\"Quantos km vc percorreu: \"))\n",
        "litros = float(input(\"Quanta gasolina vc gastou? \"))\n",
        "consumo = (km/litros)\n",
        "if (consumo < 8):\n",
        "  print(f\"SEU KM/L É {consumo}, VENDE ESSA MERDA\")\n",
        "elif ((consumo >= 8) and (consumo <= 14)):\n",
        "  print(f\"SEU KM/L É {consumo}, TA ECONOMICO\")\n",
        "elif (consumo > 12):\n",
        "  print(f\"SEU KM/L É {consumo}, CARRO SUPER ECONOMICO\")\n",
        "else: \n",
        "  print(f\"Coe papai, ta dando {consumo}, isso n é natural não men\")"
      ],
      "metadata": {
        "colab": {
          "base_uri": "https://localhost:8080/"
        },
        "id": "CdW4Iyx8URb6",
        "outputId": "779fab83-1a60-4ee6-a352-efe69edf31e7"
      },
      "execution_count": null,
      "outputs": [
        {
          "output_type": "stream",
          "name": "stdout",
          "text": [
            "Quantos km vc percorreu: 1\n",
            "Quanta gasolina vc gastou? 2\n",
            "SEU KM/L É 0.5, VENDE ESSA MERDA\n"
          ]
        }
      ]
    }
  ]
}