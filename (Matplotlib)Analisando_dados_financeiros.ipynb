{
  "nbformat": 4,
  "nbformat_minor": 0,
  "metadata": {
    "colab": {
      "name": "(Matplotlib)Analisando dados financeiros.ipynb",
      "provenance": [],
      "authorship_tag": "ABX9TyMvs6cSrL0A1Qrr9uE4eOOw",
      "include_colab_link": true
    },
    "kernelspec": {
      "name": "python3",
      "display_name": "Python 3"
    },
    "language_info": {
      "name": "python"
    }
  },
  "cells": [
    {
      "cell_type": "markdown",
      "metadata": {
        "id": "view-in-github",
        "colab_type": "text"
      },
      "source": [
        "<a href=\"https://colab.research.google.com/github/LucasMirandaVS/Exerc-cios_Python/blob/main/(Matplotlib)Analisando_dados_financeiros.ipynb\" target=\"_parent\"><img src=\"https://colab.research.google.com/assets/colab-badge.svg\" alt=\"Open In Colab\"/></a>"
      ]
    },
    {
      "cell_type": "markdown",
      "source": [
        "Vou aplicar as funções do matplotlib pra visualizar os dados financeiros de empresas a partir das suas cotações na Bovespa.\n"
      ],
      "metadata": {
        "id": "Z2YA2WLJsD1x"
      }
    },
    {
      "cell_type": "code",
      "source": [
        "# Instalando o pacote que mermite puxar os dados do YahooFinanças\n",
        "!pip install -q yfinance"
      ],
      "metadata": {
        "colab": {
          "base_uri": "https://localhost:8080/"
        },
        "id": "YOxnAMvns0gx",
        "outputId": "da66c08e-9df6-4d74-aead-242439215fe7"
      },
      "execution_count": 2,
      "outputs": [
        {
          "output_type": "stream",
          "name": "stdout",
          "text": [
            "\u001b[K     |████████████████████████████████| 6.4 MB 7.4 MB/s \n",
            "\u001b[K     |████████████████████████████████| 62 kB 1.2 MB/s \n",
            "\u001b[31mERROR: pip's dependency resolver does not currently take into account all the packages that are installed. This behaviour is the source of the following dependency conflicts.\n",
            "google-colab 1.0.0 requires requests~=2.23.0, but you have requests 2.28.0 which is incompatible.\n",
            "datascience 0.10.6 requires folium==0.2.1, but you have folium 0.8.3 which is incompatible.\u001b[0m\n",
            "\u001b[?25h"
          ]
        }
      ]
    },
    {
      "cell_type": "code",
      "source": [
        "#Imports\n",
        "import numpy as np\n",
        "import pandas as pd\n",
        "import matplotlib.pyplot as plt\n",
        "import yfinance as yf"
      ],
      "metadata": {
        "id": "14XwR-sgsUkP"
      },
      "execution_count": 3,
      "outputs": []
    },
    {
      "cell_type": "markdown",
      "source": [
        "## Magazine Luiza"
      ],
      "metadata": {
        "id": "H965ZpHAyayc"
      }
    },
    {
      "cell_type": "code",
      "source": [
        "# Primeiro a Magazine Luiza\n",
        "mglu = yf.Ticker('MGLU3.SA').history(period = 'max')"
      ],
      "metadata": {
        "id": "QOWmfXPatD0B"
      },
      "execution_count": 4,
      "outputs": []
    },
    {
      "cell_type": "code",
      "source": [
        "mglu.head()"
      ],
      "metadata": {
        "colab": {
          "base_uri": "https://localhost:8080/",
          "height": 238
        },
        "id": "YbllsH_9taYh",
        "outputId": "588fad06-6d7b-4488-ca41-c7d1035c76c7"
      },
      "execution_count": 5,
      "outputs": [
        {
          "output_type": "execute_result",
          "data": {
            "text/plain": [
              "                Open      High       Low     Close     Volume  Dividends  \\\n",
              "Date                                                                       \n",
              "2011-05-02  0.453319  0.467397  0.453319  0.463173  280003200        0.0   \n",
              "2011-05-03  0.464581  0.469930  0.456134  0.458950   33670400        0.0   \n",
              "2011-05-04  0.459513  0.464018  0.459513  0.464018   39203200        0.0   \n",
              "2011-05-05  0.462047  0.462047  0.459513  0.461202   35097600        0.0   \n",
              "2011-05-06  0.460357  0.461202  0.450503  0.457824   38672000        0.0   \n",
              "\n",
              "            Stock Splits  \n",
              "Date                      \n",
              "2011-05-02           0.0  \n",
              "2011-05-03           0.0  \n",
              "2011-05-04           0.0  \n",
              "2011-05-05           0.0  \n",
              "2011-05-06           0.0  "
            ],
            "text/html": [
              "\n",
              "  <div id=\"df-5dc07c3c-2d1a-420a-a46e-54b7821f5b0e\">\n",
              "    <div class=\"colab-df-container\">\n",
              "      <div>\n",
              "<style scoped>\n",
              "    .dataframe tbody tr th:only-of-type {\n",
              "        vertical-align: middle;\n",
              "    }\n",
              "\n",
              "    .dataframe tbody tr th {\n",
              "        vertical-align: top;\n",
              "    }\n",
              "\n",
              "    .dataframe thead th {\n",
              "        text-align: right;\n",
              "    }\n",
              "</style>\n",
              "<table border=\"1\" class=\"dataframe\">\n",
              "  <thead>\n",
              "    <tr style=\"text-align: right;\">\n",
              "      <th></th>\n",
              "      <th>Open</th>\n",
              "      <th>High</th>\n",
              "      <th>Low</th>\n",
              "      <th>Close</th>\n",
              "      <th>Volume</th>\n",
              "      <th>Dividends</th>\n",
              "      <th>Stock Splits</th>\n",
              "    </tr>\n",
              "    <tr>\n",
              "      <th>Date</th>\n",
              "      <th></th>\n",
              "      <th></th>\n",
              "      <th></th>\n",
              "      <th></th>\n",
              "      <th></th>\n",
              "      <th></th>\n",
              "      <th></th>\n",
              "    </tr>\n",
              "  </thead>\n",
              "  <tbody>\n",
              "    <tr>\n",
              "      <th>2011-05-02</th>\n",
              "      <td>0.453319</td>\n",
              "      <td>0.467397</td>\n",
              "      <td>0.453319</td>\n",
              "      <td>0.463173</td>\n",
              "      <td>280003200</td>\n",
              "      <td>0.0</td>\n",
              "      <td>0.0</td>\n",
              "    </tr>\n",
              "    <tr>\n",
              "      <th>2011-05-03</th>\n",
              "      <td>0.464581</td>\n",
              "      <td>0.469930</td>\n",
              "      <td>0.456134</td>\n",
              "      <td>0.458950</td>\n",
              "      <td>33670400</td>\n",
              "      <td>0.0</td>\n",
              "      <td>0.0</td>\n",
              "    </tr>\n",
              "    <tr>\n",
              "      <th>2011-05-04</th>\n",
              "      <td>0.459513</td>\n",
              "      <td>0.464018</td>\n",
              "      <td>0.459513</td>\n",
              "      <td>0.464018</td>\n",
              "      <td>39203200</td>\n",
              "      <td>0.0</td>\n",
              "      <td>0.0</td>\n",
              "    </tr>\n",
              "    <tr>\n",
              "      <th>2011-05-05</th>\n",
              "      <td>0.462047</td>\n",
              "      <td>0.462047</td>\n",
              "      <td>0.459513</td>\n",
              "      <td>0.461202</td>\n",
              "      <td>35097600</td>\n",
              "      <td>0.0</td>\n",
              "      <td>0.0</td>\n",
              "    </tr>\n",
              "    <tr>\n",
              "      <th>2011-05-06</th>\n",
              "      <td>0.460357</td>\n",
              "      <td>0.461202</td>\n",
              "      <td>0.450503</td>\n",
              "      <td>0.457824</td>\n",
              "      <td>38672000</td>\n",
              "      <td>0.0</td>\n",
              "      <td>0.0</td>\n",
              "    </tr>\n",
              "  </tbody>\n",
              "</table>\n",
              "</div>\n",
              "      <button class=\"colab-df-convert\" onclick=\"convertToInteractive('df-5dc07c3c-2d1a-420a-a46e-54b7821f5b0e')\"\n",
              "              title=\"Convert this dataframe to an interactive table.\"\n",
              "              style=\"display:none;\">\n",
              "        \n",
              "  <svg xmlns=\"http://www.w3.org/2000/svg\" height=\"24px\"viewBox=\"0 0 24 24\"\n",
              "       width=\"24px\">\n",
              "    <path d=\"M0 0h24v24H0V0z\" fill=\"none\"/>\n",
              "    <path d=\"M18.56 5.44l.94 2.06.94-2.06 2.06-.94-2.06-.94-.94-2.06-.94 2.06-2.06.94zm-11 1L8.5 8.5l.94-2.06 2.06-.94-2.06-.94L8.5 2.5l-.94 2.06-2.06.94zm10 10l.94 2.06.94-2.06 2.06-.94-2.06-.94-.94-2.06-.94 2.06-2.06.94z\"/><path d=\"M17.41 7.96l-1.37-1.37c-.4-.4-.92-.59-1.43-.59-.52 0-1.04.2-1.43.59L10.3 9.45l-7.72 7.72c-.78.78-.78 2.05 0 2.83L4 21.41c.39.39.9.59 1.41.59.51 0 1.02-.2 1.41-.59l7.78-7.78 2.81-2.81c.8-.78.8-2.07 0-2.86zM5.41 20L4 18.59l7.72-7.72 1.47 1.35L5.41 20z\"/>\n",
              "  </svg>\n",
              "      </button>\n",
              "      \n",
              "  <style>\n",
              "    .colab-df-container {\n",
              "      display:flex;\n",
              "      flex-wrap:wrap;\n",
              "      gap: 12px;\n",
              "    }\n",
              "\n",
              "    .colab-df-convert {\n",
              "      background-color: #E8F0FE;\n",
              "      border: none;\n",
              "      border-radius: 50%;\n",
              "      cursor: pointer;\n",
              "      display: none;\n",
              "      fill: #1967D2;\n",
              "      height: 32px;\n",
              "      padding: 0 0 0 0;\n",
              "      width: 32px;\n",
              "    }\n",
              "\n",
              "    .colab-df-convert:hover {\n",
              "      background-color: #E2EBFA;\n",
              "      box-shadow: 0px 1px 2px rgba(60, 64, 67, 0.3), 0px 1px 3px 1px rgba(60, 64, 67, 0.15);\n",
              "      fill: #174EA6;\n",
              "    }\n",
              "\n",
              "    [theme=dark] .colab-df-convert {\n",
              "      background-color: #3B4455;\n",
              "      fill: #D2E3FC;\n",
              "    }\n",
              "\n",
              "    [theme=dark] .colab-df-convert:hover {\n",
              "      background-color: #434B5C;\n",
              "      box-shadow: 0px 1px 3px 1px rgba(0, 0, 0, 0.15);\n",
              "      filter: drop-shadow(0px 1px 2px rgba(0, 0, 0, 0.3));\n",
              "      fill: #FFFFFF;\n",
              "    }\n",
              "  </style>\n",
              "\n",
              "      <script>\n",
              "        const buttonEl =\n",
              "          document.querySelector('#df-5dc07c3c-2d1a-420a-a46e-54b7821f5b0e button.colab-df-convert');\n",
              "        buttonEl.style.display =\n",
              "          google.colab.kernel.accessAllowed ? 'block' : 'none';\n",
              "\n",
              "        async function convertToInteractive(key) {\n",
              "          const element = document.querySelector('#df-5dc07c3c-2d1a-420a-a46e-54b7821f5b0e');\n",
              "          const dataTable =\n",
              "            await google.colab.kernel.invokeFunction('convertToInteractive',\n",
              "                                                     [key], {});\n",
              "          if (!dataTable) return;\n",
              "\n",
              "          const docLinkHtml = 'Like what you see? Visit the ' +\n",
              "            '<a target=\"_blank\" href=https://colab.research.google.com/notebooks/data_table.ipynb>data table notebook</a>'\n",
              "            + ' to learn more about interactive tables.';\n",
              "          element.innerHTML = '';\n",
              "          dataTable['output_type'] = 'display_data';\n",
              "          await google.colab.output.renderOutput(dataTable, element);\n",
              "          const docLink = document.createElement('div');\n",
              "          docLink.innerHTML = docLinkHtml;\n",
              "          element.appendChild(docLink);\n",
              "        }\n",
              "      </script>\n",
              "    </div>\n",
              "  </div>\n",
              "  "
            ]
          },
          "metadata": {},
          "execution_count": 5
        }
      ]
    },
    {
      "cell_type": "code",
      "source": [
        "type(mglu)"
      ],
      "metadata": {
        "colab": {
          "base_uri": "https://localhost:8080/"
        },
        "id": "UGE6RIkgtiwB",
        "outputId": "fa0b9799-3463-4611-b6c7-b6b67c64c531"
      },
      "execution_count": 6,
      "outputs": [
        {
          "output_type": "execute_result",
          "data": {
            "text/plain": [
              "pandas.core.frame.DataFrame"
            ]
          },
          "metadata": {},
          "execution_count": 6
        }
      ]
    },
    {
      "cell_type": "code",
      "source": [
        "# Vendo os limites do df\n",
        "min = mglu.index.min()\n",
        "min"
      ],
      "metadata": {
        "colab": {
          "base_uri": "https://localhost:8080/"
        },
        "id": "tfVV33OJuxaR",
        "outputId": "8074aa66-37ad-4c8f-f090-1555dd1a4451"
      },
      "execution_count": 9,
      "outputs": [
        {
          "output_type": "execute_result",
          "data": {
            "text/plain": [
              "Timestamp('2011-05-02 00:00:00')"
            ]
          },
          "metadata": {},
          "execution_count": 9
        }
      ]
    },
    {
      "cell_type": "code",
      "source": [
        "max = mglu.index.max()\n",
        "max"
      ],
      "metadata": {
        "colab": {
          "base_uri": "https://localhost:8080/"
        },
        "id": "4RXyLXdvu9QX",
        "outputId": "c38fe3ae-75a5-4b18-dd12-5ee4290f5137"
      },
      "execution_count": 10,
      "outputs": [
        {
          "output_type": "execute_result",
          "data": {
            "text/plain": [
              "Timestamp('2022-06-22 00:00:00')"
            ]
          },
          "metadata": {},
          "execution_count": 10
        }
      ]
    },
    {
      "cell_type": "code",
      "source": [
        "# Agora o plot\n",
        "# Ajustando o tamanho da figura\n",
        "plt.figure(figsize=(12,4))\n",
        "# Line plot\n",
        "plt.plot(mglu.index, mglu.Close, color = 'purple', lw = 1)\n",
        "# Ajeitando os limites do gráfico\n",
        "plt.xlim([mglu.index.min(), mglu.index.max()])\n",
        "#Labels\n",
        "plt.title(\"Ações MGLU3\", loc = 'left', pad = 5, weight = 'bold', \n",
        "          size = 12)\n",
        "plt.ylabel('Preço de fechamento', size = 8, color = 'red')\n",
        "plt.xlabel(\"Ano\", size = 8, color = 'red')\n",
        "# Gridlines\n",
        "plt.grid(alpha = 0.5, ls = '--')\n",
        "plt.show()"
      ],
      "metadata": {
        "colab": {
          "base_uri": "https://localhost:8080/",
          "height": 293
        },
        "id": "anZdtcVItoag",
        "outputId": "b97d305a-b323-4dfb-ff98-5d5cbff8701e"
      },
      "execution_count": 27,
      "outputs": [
        {
          "output_type": "display_data",
          "data": {
            "text/plain": [
              "<Figure size 864x288 with 1 Axes>"
            ],
            "image/png": "[encoded data removed]"
          },
          "metadata": {
            "needs_background": "light"
          }
        }
      ]
    },
    {
      "cell_type": "markdown",
      "source": [
        "Gráfico de Barras"
      ],
      "metadata": {
        "id": "QV_C-4VwyU2s"
      }
    },
    {
      "cell_type": "code",
      "source": [
        "# Vou fazer um resample pra pegar valores médios anuais\n",
        "mgl = mglu.resample('Y').mean().loc['2017':, 'Close']"
      ],
      "metadata": {
        "id": "Mc6EmeI2yYgT"
      },
      "execution_count": 30,
      "outputs": []
    },
    {
      "cell_type": "code",
      "source": [
        "mgl.head()"
      ],
      "metadata": {
        "colab": {
          "base_uri": "https://localhost:8080/"
        },
        "id": "_4k5-kigyrK1",
        "outputId": "aa8d2b03-629f-479c-cc01-1a8c31fac33a"
      },
      "execution_count": 31,
      "outputs": [
        {
          "output_type": "execute_result",
          "data": {
            "text/plain": [
              "Date\n",
              "2017-12-31     1.300984\n",
              "2018-12-31     3.634960\n",
              "2019-12-31     7.488272\n",
              "2020-12-31    17.920560\n",
              "2021-12-31    18.541389\n",
              "Freq: A-DEC, Name: Close, dtype: float64"
            ]
          },
          "metadata": {},
          "execution_count": 31
        }
      ]
    },
    {
      "cell_type": "code",
      "source": [
        "# Criando o gráfico de barras\n",
        "plt.bar(mgl.index.year, mgl.values)\n",
        "# Limite do Eixo Y\n",
        "plt.ylim(0, mgl.values.max()+10)\n",
        "# Labels\n",
        "plt.title(\"Cotação média anual\", loc = 'left', pad = 10, weight = 'bold')\n",
        "plt.xlabel('Ano', color = 'red')\n",
        "plt.ylabel('Preço', color = 'green')\n",
        "\n",
        "plt.show()"
      ],
      "metadata": {
        "colab": {
          "base_uri": "https://localhost:8080/",
          "height": 299
        },
        "id": "fAjxihEezBRy",
        "outputId": "e10b66b1-2d2a-45b0-91cf-16a4559c1118"
      },
      "execution_count": 34,
      "outputs": [
        {
          "output_type": "display_data",
          "data": {
            "text/plain": [
              "<Figure size 432x288 with 1 Axes>"
            ],
            "image/png": "[encoded data removed]"
          },
          "metadata": {
            "needs_background": "light"
          }
        }
      ]
    },
    {
      "cell_type": "markdown",
      "source": [
        "## Petrobrás"
      ],
      "metadata": {
        "id": "c2Wz1VwW0RfF"
      }
    },
    {
      "cell_type": "code",
      "source": [
        "petr = yf.Ticker('PETR4.SA').history(period = 'max')"
      ],
      "metadata": {
        "id": "1naGTkeJ0UdJ"
      },
      "execution_count": 35,
      "outputs": []
    },
    {
      "cell_type": "code",
      "source": [
        "petr.head()"
      ],
      "metadata": {
        "colab": {
          "base_uri": "https://localhost:8080/",
          "height": 238
        },
        "id": "jqMGwDlh0ff3",
        "outputId": "235691e6-bcc8-470e-cd1a-858e81b3a310"
      },
      "execution_count": 36,
      "outputs": [
        {
          "output_type": "execute_result",
          "data": {
            "text/plain": [
              "                Open      High       Low     Close       Volume  Dividends  \\\n",
              "Date                                                                         \n",
              "2000-01-03  2.627551  2.627551  2.627551  2.627551  35389440000        0.0   \n",
              "2000-01-04  2.482198  2.482198  2.482198  2.482198  28861440000        0.0   \n",
              "2000-01-05  2.457152  2.457152  2.457152  2.457152  43033600000        0.0   \n",
              "2000-01-06  2.448654  2.448654  2.448654  2.448654  34055680000        0.0   \n",
              "2000-01-07  2.459836  2.459836  2.459836  2.459836  20912640000        0.0   \n",
              "\n",
              "            Stock Splits  \n",
              "Date                      \n",
              "2000-01-03           0.0  \n",
              "2000-01-04           0.0  \n",
              "2000-01-05           0.0  \n",
              "2000-01-06           0.0  \n",
              "2000-01-07           0.0  "
            ],
            "text/html": [
              "\n",
              "  <div id=\"df-cc804bc8-0649-42d5-8ced-c62d9cacf591\">\n",
              "    <div class=\"colab-df-container\">\n",
              "      <div>\n",
              "<style scoped>\n",
              "    .dataframe tbody tr th:only-of-type {\n",
              "        vertical-align: middle;\n",
              "    }\n",
              "\n",
              "    .dataframe tbody tr th {\n",
              "        vertical-align: top;\n",
              "    }\n",
              "\n",
              "    .dataframe thead th {\n",
              "        text-align: right;\n",
              "    }\n",
              "</style>\n",
              "<table border=\"1\" class=\"dataframe\">\n",
              "  <thead>\n",
              "    <tr style=\"text-align: right;\">\n",
              "      <th></th>\n",
              "      <th>Open</th>\n",
              "      <th>High</th>\n",
              "      <th>Low</th>\n",
              "      <th>Close</th>\n",
              "      <th>Volume</th>\n",
              "      <th>Dividends</th>\n",
              "      <th>Stock Splits</th>\n",
              "    </tr>\n",
              "    <tr>\n",
              "      <th>Date</th>\n",
              "      <th></th>\n",
              "      <th></th>\n",
              "      <th></th>\n",
              "      <th></th>\n",
              "      <th></th>\n",
              "      <th></th>\n",
              "      <th></th>\n",
              "    </tr>\n",
              "  </thead>\n",
              "  <tbody>\n",
              "    <tr>\n",
              "      <th>2000-01-03</th>\n",
              "      <td>2.627551</td>\n",
              "      <td>2.627551</td>\n",
              "      <td>2.627551</td>\n",
              "      <td>2.627551</td>\n",
              "      <td>35389440000</td>\n",
              "      <td>0.0</td>\n",
              "      <td>0.0</td>\n",
              "    </tr>\n",
              "    <tr>\n",
              "      <th>2000-01-04</th>\n",
              "      <td>2.482198</td>\n",
              "      <td>2.482198</td>\n",
              "      <td>2.482198</td>\n",
              "      <td>2.482198</td>\n",
              "      <td>28861440000</td>\n",
              "      <td>0.0</td>\n",
              "      <td>0.0</td>\n",
              "    </tr>\n",
              "    <tr>\n",
              "      <th>2000-01-05</th>\n",
              "      <td>2.457152</td>\n",
              "      <td>2.457152</td>\n",
              "      <td>2.457152</td>\n",
              "      <td>2.457152</td>\n",
              "      <td>43033600000</td>\n",
              "      <td>0.0</td>\n",
              "      <td>0.0</td>\n",
              "    </tr>\n",
              "    <tr>\n",
              "      <th>2000-01-06</th>\n",
              "      <td>2.448654</td>\n",
              "      <td>2.448654</td>\n",
              "      <td>2.448654</td>\n",
              "      <td>2.448654</td>\n",
              "      <td>34055680000</td>\n",
              "      <td>0.0</td>\n",
              "      <td>0.0</td>\n",
              "    </tr>\n",
              "    <tr>\n",
              "      <th>2000-01-07</th>\n",
              "      <td>2.459836</td>\n",
              "      <td>2.459836</td>\n",
              "      <td>2.459836</td>\n",
              "      <td>2.459836</td>\n",
              "      <td>20912640000</td>\n",
              "      <td>0.0</td>\n",
              "      <td>0.0</td>\n",
              "    </tr>\n",
              "  </tbody>\n",
              "</table>\n",
              "</div>\n",
              "      <button class=\"colab-df-convert\" onclick=\"convertToInteractive('df-cc804bc8-0649-42d5-8ced-c62d9cacf591')\"\n",
              "              title=\"Convert this dataframe to an interactive table.\"\n",
              "              style=\"display:none;\">\n",
              "        \n",
              "  <svg xmlns=\"http://www.w3.org/2000/svg\" height=\"24px\"viewBox=\"0 0 24 24\"\n",
              "       width=\"24px\">\n",
              "    <path d=\"M0 0h24v24H0V0z\" fill=\"none\"/>\n",
              "    <path d=\"M18.56 5.44l.94 2.06.94-2.06 2.06-.94-2.06-.94-.94-2.06-.94 2.06-2.06.94zm-11 1L8.5 8.5l.94-2.06 2.06-.94-2.06-.94L8.5 2.5l-.94 2.06-2.06.94zm10 10l.94 2.06.94-2.06 2.06-.94-2.06-.94-.94-2.06-.94 2.06-2.06.94z\"/><path d=\"M17.41 7.96l-1.37-1.37c-.4-.4-.92-.59-1.43-.59-.52 0-1.04.2-1.43.59L10.3 9.45l-7.72 7.72c-.78.78-.78 2.05 0 2.83L4 21.41c.39.39.9.59 1.41.59.51 0 1.02-.2 1.41-.59l7.78-7.78 2.81-2.81c.8-.78.8-2.07 0-2.86zM5.41 20L4 18.59l7.72-7.72 1.47 1.35L5.41 20z\"/>\n",
              "  </svg>\n",
              "      </button>\n",
              "      \n",
              "  <style>\n",
              "    .colab-df-container {\n",
              "      display:flex;\n",
              "      flex-wrap:wrap;\n",
              "      gap: 12px;\n",
              "    }\n",
              "\n",
              "    .colab-df-convert {\n",
              "      background-color: #E8F0FE;\n",
              "      border: none;\n",
              "      border-radius: 50%;\n",
              "      cursor: pointer;\n",
              "      display: none;\n",
              "      fill: #1967D2;\n",
              "      height: 32px;\n",
              "      padding: 0 0 0 0;\n",
              "      width: 32px;\n",
              "    }\n",
              "\n",
              "    .colab-df-convert:hover {\n",
              "      background-color: #E2EBFA;\n",
              "      box-shadow: 0px 1px 2px rgba(60, 64, 67, 0.3), 0px 1px 3px 1px rgba(60, 64, 67, 0.15);\n",
              "      fill: #174EA6;\n",
              "    }\n",
              "\n",
              "    [theme=dark] .colab-df-convert {\n",
              "      background-color: #3B4455;\n",
              "      fill: #D2E3FC;\n",
              "    }\n",
              "\n",
              "    [theme=dark] .colab-df-convert:hover {\n",
              "      background-color: #434B5C;\n",
              "      box-shadow: 0px 1px 3px 1px rgba(0, 0, 0, 0.15);\n",
              "      filter: drop-shadow(0px 1px 2px rgba(0, 0, 0, 0.3));\n",
              "      fill: #FFFFFF;\n",
              "    }\n",
              "  </style>\n",
              "\n",
              "      <script>\n",
              "        const buttonEl =\n",
              "          document.querySelector('#df-cc804bc8-0649-42d5-8ced-c62d9cacf591 button.colab-df-convert');\n",
              "        buttonEl.style.display =\n",
              "          google.colab.kernel.accessAllowed ? 'block' : 'none';\n",
              "\n",
              "        async function convertToInteractive(key) {\n",
              "          const element = document.querySelector('#df-cc804bc8-0649-42d5-8ced-c62d9cacf591');\n",
              "          const dataTable =\n",
              "            await google.colab.kernel.invokeFunction('convertToInteractive',\n",
              "                                                     [key], {});\n",
              "          if (!dataTable) return;\n",
              "\n",
              "          const docLinkHtml = 'Like what you see? Visit the ' +\n",
              "            '<a target=\"_blank\" href=https://colab.research.google.com/notebooks/data_table.ipynb>data table notebook</a>'\n",
              "            + ' to learn more about interactive tables.';\n",
              "          element.innerHTML = '';\n",
              "          dataTable['output_type'] = 'display_data';\n",
              "          await google.colab.output.renderOutput(dataTable, element);\n",
              "          const docLink = document.createElement('div');\n",
              "          docLink.innerHTML = docLinkHtml;\n",
              "          element.appendChild(docLink);\n",
              "        }\n",
              "      </script>\n",
              "    </div>\n",
              "  </div>\n",
              "  "
            ]
          },
          "metadata": {},
          "execution_count": 36
        }
      ]
    },
    {
      "cell_type": "code",
      "source": [
        "type(petr)"
      ],
      "metadata": {
        "colab": {
          "base_uri": "https://localhost:8080/"
        },
        "id": "GadTg62e0jOB",
        "outputId": "cd80b898-fd0a-4397-9cff-3c6abd1ca0d4"
      },
      "execution_count": 37,
      "outputs": [
        {
          "output_type": "execute_result",
          "data": {
            "text/plain": [
              "pandas.core.frame.DataFrame"
            ]
          },
          "metadata": {},
          "execution_count": 37
        }
      ]
    },
    {
      "cell_type": "code",
      "source": [
        "# Agora o plot\n",
        "# Ajustando o tamanho da figura\n",
        "plt.figure(figsize=(16,5))\n",
        "# Line plot\n",
        "plt.plot(petr.index, petr.Close, color = 'black', lw = 1)\n",
        "# Ajeitando os limites do gráfico\n",
        "plt.xlim([petr.index.min(), petr.index.max()])\n",
        "#Labels\n",
        "plt.title(\"Ações PETR4\", loc = 'right', pad = 10, weight = 'bold', \n",
        "          size = 8, color = 'green')\n",
        "plt.ylabel('Preço de fechamento', size = 8, color = 'gold')\n",
        "plt.xlabel(\"Ano\", size = 8, color = 'green')\n",
        "# Gridlines\n",
        "plt.grid(alpha = 0.8, ls = '--')\n",
        "plt.show()"
      ],
      "metadata": {
        "colab": {
          "base_uri": "https://localhost:8080/",
          "height": 350
        },
        "id": "JCy3sEQ80mwb",
        "outputId": "5a511a57-e379-41a7-fbb9-3ca91d97fecd"
      },
      "execution_count": 40,
      "outputs": [
        {
          "output_type": "display_data",
          "data": {
            "text/plain": [
              "<Figure size 1152x360 with 1 Axes>"
            ],
            "image/png": "[encoded data removed]"
          },
          "metadata": {
            "needs_background": "light"
          }
        }
      ]
    },
    {
      "cell_type": "code",
      "source": [
        "# Agora o gráfico de barras\n",
        "# Vou fazer um resample pra pegar valores médios anuais\n",
        "pet = petr.resample('Y').mean().loc['2010':, 'Close']"
      ],
      "metadata": {
        "id": "1KaXle_w1Wm3"
      },
      "execution_count": 41,
      "outputs": []
    },
    {
      "cell_type": "code",
      "source": [
        "pet.head()"
      ],
      "metadata": {
        "colab": {
          "base_uri": "https://localhost:8080/"
        },
        "id": "JAllooXX1gkG",
        "outputId": "faecbf00-6435-4968-e760-a5991b7fc930"
      },
      "execution_count": 42,
      "outputs": [
        {
          "output_type": "execute_result",
          "data": {
            "text/plain": [
              "Date\n",
              "2010-12-31    15.585384\n",
              "2011-12-31    12.973986\n",
              "2012-12-31    12.066698\n",
              "2013-12-31    10.518725\n",
              "2014-12-31    10.173003\n",
              "Freq: A-DEC, Name: Close, dtype: float64"
            ]
          },
          "metadata": {},
          "execution_count": 42
        }
      ]
    },
    {
      "cell_type": "code",
      "source": [
        "# Criando o gráfico de barras\n",
        "plt.bar(pet.index.year, pet.values)\n",
        "# Limite do Eixo Y\n",
        "plt.ylim(0, pet.values.max()+10)\n",
        "# Labels\n",
        "plt.title(\"Cotação média anual\", loc = 'left', pad = 8, weight = 'bold')\n",
        "plt.xlabel('Ano', color = 'darkred')\n",
        "plt.ylabel('Preço', color = 'olive')\n",
        "\n",
        "plt.show()"
      ],
      "metadata": {
        "colab": {
          "base_uri": "https://localhost:8080/",
          "height": 297
        },
        "id": "VRFFNCnK1lA9",
        "outputId": "163508a4-d994-4d73-86e5-06af1fff5e44"
      },
      "execution_count": 43,
      "outputs": [
        {
          "output_type": "display_data",
          "data": {
            "text/plain": [
              "<Figure size 432x288 with 1 Axes>"
            ],
            "image/png": "[encoded data removed]"
          },
          "metadata": {
            "needs_background": "light"
          }
        }
      ]
    },
    {
      "cell_type": "markdown",
      "source": [
        "## Gerdau"
      ],
      "metadata": {
        "id": "Y1U-belW18hb"
      }
    },
    {
      "cell_type": "code",
      "source": [
        "gerd = yf.Ticker('GGBR4.SA').history(period = 'max')"
      ],
      "metadata": {
        "id": "YAvCDBpt2D_K"
      },
      "execution_count": 44,
      "outputs": []
    },
    {
      "cell_type": "code",
      "source": [
        "gerd.head()"
      ],
      "metadata": {
        "colab": {
          "base_uri": "https://localhost:8080/",
          "height": 238
        },
        "id": "Ubf8tN242Ox4",
        "outputId": "bbad5bb2-1d27-4428-c2c3-2eb4483f2124"
      },
      "execution_count": 45,
      "outputs": [
        {
          "output_type": "execute_result",
          "data": {
            "text/plain": [
              "                  Open        High         Low       Close    Volume  \\\n",
              "Date                                                                   \n",
              "2000-01-03  265.490664  271.010220  264.938708  267.698486   1210000   \n",
              "2000-01-04  264.938888  264.938888  259.419328  261.516754   8990000   \n",
              "2000-01-05  259.419140  270.513451  253.899583  270.458252   9920000   \n",
              "2000-01-06  267.698526  282.601330  267.698526  278.737640  12310000   \n",
              "2000-01-07  281.497473  296.952237  275.977915  291.432678  24570000   \n",
              "\n",
              "            Dividends  Stock Splits  \n",
              "Date                                 \n",
              "2000-01-03        0.0           0.0  \n",
              "2000-01-04        0.0           0.0  \n",
              "2000-01-05        0.0           0.0  \n",
              "2000-01-06        0.0           0.0  \n",
              "2000-01-07        0.0           0.0  "
            ],
            "text/html": [
              "\n",
              "  <div id=\"df-0366026f-cee9-4275-93ba-768130b2dd66\">\n",
              "    <div class=\"colab-df-container\">\n",
              "      <div>\n",
              "<style scoped>\n",
              "    .dataframe tbody tr th:only-of-type {\n",
              "        vertical-align: middle;\n",
              "    }\n",
              "\n",
              "    .dataframe tbody tr th {\n",
              "        vertical-align: top;\n",
              "    }\n",
              "\n",
              "    .dataframe thead th {\n",
              "        text-align: right;\n",
              "    }\n",
              "</style>\n",
              "<table border=\"1\" class=\"dataframe\">\n",
              "  <thead>\n",
              "    <tr style=\"text-align: right;\">\n",
              "      <th></th>\n",
              "      <th>Open</th>\n",
              "      <th>High</th>\n",
              "      <th>Low</th>\n",
              "      <th>Close</th>\n",
              "      <th>Volume</th>\n",
              "      <th>Dividends</th>\n",
              "      <th>Stock Splits</th>\n",
              "    </tr>\n",
              "    <tr>\n",
              "      <th>Date</th>\n",
              "      <th></th>\n",
              "      <th></th>\n",
              "      <th></th>\n",
              "      <th></th>\n",
              "      <th></th>\n",
              "      <th></th>\n",
              "      <th></th>\n",
              "    </tr>\n",
              "  </thead>\n",
              "  <tbody>\n",
              "    <tr>\n",
              "      <th>2000-01-03</th>\n",
              "      <td>265.490664</td>\n",
              "      <td>271.010220</td>\n",
              "      <td>264.938708</td>\n",
              "      <td>267.698486</td>\n",
              "      <td>1210000</td>\n",
              "      <td>0.0</td>\n",
              "      <td>0.0</td>\n",
              "    </tr>\n",
              "    <tr>\n",
              "      <th>2000-01-04</th>\n",
              "      <td>264.938888</td>\n",
              "      <td>264.938888</td>\n",
              "      <td>259.419328</td>\n",
              "      <td>261.516754</td>\n",
              "      <td>8990000</td>\n",
              "      <td>0.0</td>\n",
              "      <td>0.0</td>\n",
              "    </tr>\n",
              "    <tr>\n",
              "      <th>2000-01-05</th>\n",
              "      <td>259.419140</td>\n",
              "      <td>270.513451</td>\n",
              "      <td>253.899583</td>\n",
              "      <td>270.458252</td>\n",
              "      <td>9920000</td>\n",
              "      <td>0.0</td>\n",
              "      <td>0.0</td>\n",
              "    </tr>\n",
              "    <tr>\n",
              "      <th>2000-01-06</th>\n",
              "      <td>267.698526</td>\n",
              "      <td>282.601330</td>\n",
              "      <td>267.698526</td>\n",
              "      <td>278.737640</td>\n",
              "      <td>12310000</td>\n",
              "      <td>0.0</td>\n",
              "      <td>0.0</td>\n",
              "    </tr>\n",
              "    <tr>\n",
              "      <th>2000-01-07</th>\n",
              "      <td>281.497473</td>\n",
              "      <td>296.952237</td>\n",
              "      <td>275.977915</td>\n",
              "      <td>291.432678</td>\n",
              "      <td>24570000</td>\n",
              "      <td>0.0</td>\n",
              "      <td>0.0</td>\n",
              "    </tr>\n",
              "  </tbody>\n",
              "</table>\n",
              "</div>\n",
              "      <button class=\"colab-df-convert\" onclick=\"convertToInteractive('df-0366026f-cee9-4275-93ba-768130b2dd66')\"\n",
              "              title=\"Convert this dataframe to an interactive table.\"\n",
              "              style=\"display:none;\">\n",
              "        \n",
              "  <svg xmlns=\"http://www.w3.org/2000/svg\" height=\"24px\"viewBox=\"0 0 24 24\"\n",
              "       width=\"24px\">\n",
              "    <path d=\"M0 0h24v24H0V0z\" fill=\"none\"/>\n",
              "    <path d=\"M18.56 5.44l.94 2.06.94-2.06 2.06-.94-2.06-.94-.94-2.06-.94 2.06-2.06.94zm-11 1L8.5 8.5l.94-2.06 2.06-.94-2.06-.94L8.5 2.5l-.94 2.06-2.06.94zm10 10l.94 2.06.94-2.06 2.06-.94-2.06-.94-.94-2.06-.94 2.06-2.06.94z\"/><path d=\"M17.41 7.96l-1.37-1.37c-.4-.4-.92-.59-1.43-.59-.52 0-1.04.2-1.43.59L10.3 9.45l-7.72 7.72c-.78.78-.78 2.05 0 2.83L4 21.41c.39.39.9.59 1.41.59.51 0 1.02-.2 1.41-.59l7.78-7.78 2.81-2.81c.8-.78.8-2.07 0-2.86zM5.41 20L4 18.59l7.72-7.72 1.47 1.35L5.41 20z\"/>\n",
              "  </svg>\n",
              "      </button>\n",
              "      \n",
              "  <style>\n",
              "    .colab-df-container {\n",
              "      display:flex;\n",
              "      flex-wrap:wrap;\n",
              "      gap: 12px;\n",
              "    }\n",
              "\n",
              "    .colab-df-convert {\n",
              "      background-color: #E8F0FE;\n",
              "      border: none;\n",
              "      border-radius: 50%;\n",
              "      cursor: pointer;\n",
              "      display: none;\n",
              "      fill: #1967D2;\n",
              "      height: 32px;\n",
              "      padding: 0 0 0 0;\n",
              "      width: 32px;\n",
              "    }\n",
              "\n",
              "    .colab-df-convert:hover {\n",
              "      background-color: #E2EBFA;\n",
              "      box-shadow: 0px 1px 2px rgba(60, 64, 67, 0.3), 0px 1px 3px 1px rgba(60, 64, 67, 0.15);\n",
              "      fill: #174EA6;\n",
              "    }\n",
              "\n",
              "    [theme=dark] .colab-df-convert {\n",
              "      background-color: #3B4455;\n",
              "      fill: #D2E3FC;\n",
              "    }\n",
              "\n",
              "    [theme=dark] .colab-df-convert:hover {\n",
              "      background-color: #434B5C;\n",
              "      box-shadow: 0px 1px 3px 1px rgba(0, 0, 0, 0.15);\n",
              "      filter: drop-shadow(0px 1px 2px rgba(0, 0, 0, 0.3));\n",
              "      fill: #FFFFFF;\n",
              "    }\n",
              "  </style>\n",
              "\n",
              "      <script>\n",
              "        const buttonEl =\n",
              "          document.querySelector('#df-0366026f-cee9-4275-93ba-768130b2dd66 button.colab-df-convert');\n",
              "        buttonEl.style.display =\n",
              "          google.colab.kernel.accessAllowed ? 'block' : 'none';\n",
              "\n",
              "        async function convertToInteractive(key) {\n",
              "          const element = document.querySelector('#df-0366026f-cee9-4275-93ba-768130b2dd66');\n",
              "          const dataTable =\n",
              "            await google.colab.kernel.invokeFunction('convertToInteractive',\n",
              "                                                     [key], {});\n",
              "          if (!dataTable) return;\n",
              "\n",
              "          const docLinkHtml = 'Like what you see? Visit the ' +\n",
              "            '<a target=\"_blank\" href=https://colab.research.google.com/notebooks/data_table.ipynb>data table notebook</a>'\n",
              "            + ' to learn more about interactive tables.';\n",
              "          element.innerHTML = '';\n",
              "          dataTable['output_type'] = 'display_data';\n",
              "          await google.colab.output.renderOutput(dataTable, element);\n",
              "          const docLink = document.createElement('div');\n",
              "          docLink.innerHTML = docLinkHtml;\n",
              "          element.appendChild(docLink);\n",
              "        }\n",
              "      </script>\n",
              "    </div>\n",
              "  </div>\n",
              "  "
            ]
          },
          "metadata": {},
          "execution_count": 45
        }
      ]
    },
    {
      "cell_type": "code",
      "source": [
        "gerd.tail()"
      ],
      "metadata": {
        "colab": {
          "base_uri": "https://localhost:8080/",
          "height": 238
        },
        "id": "M2pDs2p-2qd5",
        "outputId": "e5df6a3a-b29b-4e24-f5e8-115b5814b170"
      },
      "execution_count": 47,
      "outputs": [
        {
          "output_type": "execute_result",
          "data": {
            "text/plain": [
              "                 Open       High        Low      Close    Volume  Dividends  \\\n",
              "Date                                                                          \n",
              "2022-06-15  25.719999  26.129999  25.230000  25.360001  17001800        0.0   \n",
              "2022-06-17  24.610001  24.690001  23.209999  23.360001  38318800        0.0   \n",
              "2022-06-20  23.120001  23.530001  22.309999  23.400000  18058700        0.0   \n",
              "2022-06-21  23.680000  24.049999  23.490000  23.860001  18776100        0.0   \n",
              "2022-06-22  23.290001  23.290001  22.400000  22.889999  17203400        0.0   \n",
              "\n",
              "            Stock Splits  \n",
              "Date                      \n",
              "2022-06-15           0.0  \n",
              "2022-06-17           0.0  \n",
              "2022-06-20           0.0  \n",
              "2022-06-21           0.0  \n",
              "2022-06-22           0.0  "
            ],
            "text/html": [
              "\n",
              "  <div id=\"df-1e130fb8-2a56-4369-82e7-ae05dfdefb7a\">\n",
              "    <div class=\"colab-df-container\">\n",
              "      <div>\n",
              "<style scoped>\n",
              "    .dataframe tbody tr th:only-of-type {\n",
              "        vertical-align: middle;\n",
              "    }\n",
              "\n",
              "    .dataframe tbody tr th {\n",
              "        vertical-align: top;\n",
              "    }\n",
              "\n",
              "    .dataframe thead th {\n",
              "        text-align: right;\n",
              "    }\n",
              "</style>\n",
              "<table border=\"1\" class=\"dataframe\">\n",
              "  <thead>\n",
              "    <tr style=\"text-align: right;\">\n",
              "      <th></th>\n",
              "      <th>Open</th>\n",
              "      <th>High</th>\n",
              "      <th>Low</th>\n",
              "      <th>Close</th>\n",
              "      <th>Volume</th>\n",
              "      <th>Dividends</th>\n",
              "      <th>Stock Splits</th>\n",
              "    </tr>\n",
              "    <tr>\n",
              "      <th>Date</th>\n",
              "      <th></th>\n",
              "      <th></th>\n",
              "      <th></th>\n",
              "      <th></th>\n",
              "      <th></th>\n",
              "      <th></th>\n",
              "      <th></th>\n",
              "    </tr>\n",
              "  </thead>\n",
              "  <tbody>\n",
              "    <tr>\n",
              "      <th>2022-06-15</th>\n",
              "      <td>25.719999</td>\n",
              "      <td>26.129999</td>\n",
              "      <td>25.230000</td>\n",
              "      <td>25.360001</td>\n",
              "      <td>17001800</td>\n",
              "      <td>0.0</td>\n",
              "      <td>0.0</td>\n",
              "    </tr>\n",
              "    <tr>\n",
              "      <th>2022-06-17</th>\n",
              "      <td>24.610001</td>\n",
              "      <td>24.690001</td>\n",
              "      <td>23.209999</td>\n",
              "      <td>23.360001</td>\n",
              "      <td>38318800</td>\n",
              "      <td>0.0</td>\n",
              "      <td>0.0</td>\n",
              "    </tr>\n",
              "    <tr>\n",
              "      <th>2022-06-20</th>\n",
              "      <td>23.120001</td>\n",
              "      <td>23.530001</td>\n",
              "      <td>22.309999</td>\n",
              "      <td>23.400000</td>\n",
              "      <td>18058700</td>\n",
              "      <td>0.0</td>\n",
              "      <td>0.0</td>\n",
              "    </tr>\n",
              "    <tr>\n",
              "      <th>2022-06-21</th>\n",
              "      <td>23.680000</td>\n",
              "      <td>24.049999</td>\n",
              "      <td>23.490000</td>\n",
              "      <td>23.860001</td>\n",
              "      <td>18776100</td>\n",
              "      <td>0.0</td>\n",
              "      <td>0.0</td>\n",
              "    </tr>\n",
              "    <tr>\n",
              "      <th>2022-06-22</th>\n",
              "      <td>23.290001</td>\n",
              "      <td>23.290001</td>\n",
              "      <td>22.400000</td>\n",
              "      <td>22.889999</td>\n",
              "      <td>17203400</td>\n",
              "      <td>0.0</td>\n",
              "      <td>0.0</td>\n",
              "    </tr>\n",
              "  </tbody>\n",
              "</table>\n",
              "</div>\n",
              "      <button class=\"colab-df-convert\" onclick=\"convertToInteractive('df-1e130fb8-2a56-4369-82e7-ae05dfdefb7a')\"\n",
              "              title=\"Convert this dataframe to an interactive table.\"\n",
              "              style=\"display:none;\">\n",
              "        \n",
              "  <svg xmlns=\"http://www.w3.org/2000/svg\" height=\"24px\"viewBox=\"0 0 24 24\"\n",
              "       width=\"24px\">\n",
              "    <path d=\"M0 0h24v24H0V0z\" fill=\"none\"/>\n",
              "    <path d=\"M18.56 5.44l.94 2.06.94-2.06 2.06-.94-2.06-.94-.94-2.06-.94 2.06-2.06.94zm-11 1L8.5 8.5l.94-2.06 2.06-.94-2.06-.94L8.5 2.5l-.94 2.06-2.06.94zm10 10l.94 2.06.94-2.06 2.06-.94-2.06-.94-.94-2.06-.94 2.06-2.06.94z\"/><path d=\"M17.41 7.96l-1.37-1.37c-.4-.4-.92-.59-1.43-.59-.52 0-1.04.2-1.43.59L10.3 9.45l-7.72 7.72c-.78.78-.78 2.05 0 2.83L4 21.41c.39.39.9.59 1.41.59.51 0 1.02-.2 1.41-.59l7.78-7.78 2.81-2.81c.8-.78.8-2.07 0-2.86zM5.41 20L4 18.59l7.72-7.72 1.47 1.35L5.41 20z\"/>\n",
              "  </svg>\n",
              "      </button>\n",
              "      \n",
              "  <style>\n",
              "    .colab-df-container {\n",
              "      display:flex;\n",
              "      flex-wrap:wrap;\n",
              "      gap: 12px;\n",
              "    }\n",
              "\n",
              "    .colab-df-convert {\n",
              "      background-color: #E8F0FE;\n",
              "      border: none;\n",
              "      border-radius: 50%;\n",
              "      cursor: pointer;\n",
              "      display: none;\n",
              "      fill: #1967D2;\n",
              "      height: 32px;\n",
              "      padding: 0 0 0 0;\n",
              "      width: 32px;\n",
              "    }\n",
              "\n",
              "    .colab-df-convert:hover {\n",
              "      background-color: #E2EBFA;\n",
              "      box-shadow: 0px 1px 2px rgba(60, 64, 67, 0.3), 0px 1px 3px 1px rgba(60, 64, 67, 0.15);\n",
              "      fill: #174EA6;\n",
              "    }\n",
              "\n",
              "    [theme=dark] .colab-df-convert {\n",
              "      background-color: #3B4455;\n",
              "      fill: #D2E3FC;\n",
              "    }\n",
              "\n",
              "    [theme=dark] .colab-df-convert:hover {\n",
              "      background-color: #434B5C;\n",
              "      box-shadow: 0px 1px 3px 1px rgba(0, 0, 0, 0.15);\n",
              "      filter: drop-shadow(0px 1px 2px rgba(0, 0, 0, 0.3));\n",
              "      fill: #FFFFFF;\n",
              "    }\n",
              "  </style>\n",
              "\n",
              "      <script>\n",
              "        const buttonEl =\n",
              "          document.querySelector('#df-1e130fb8-2a56-4369-82e7-ae05dfdefb7a button.colab-df-convert');\n",
              "        buttonEl.style.display =\n",
              "          google.colab.kernel.accessAllowed ? 'block' : 'none';\n",
              "\n",
              "        async function convertToInteractive(key) {\n",
              "          const element = document.querySelector('#df-1e130fb8-2a56-4369-82e7-ae05dfdefb7a');\n",
              "          const dataTable =\n",
              "            await google.colab.kernel.invokeFunction('convertToInteractive',\n",
              "                                                     [key], {});\n",
              "          if (!dataTable) return;\n",
              "\n",
              "          const docLinkHtml = 'Like what you see? Visit the ' +\n",
              "            '<a target=\"_blank\" href=https://colab.research.google.com/notebooks/data_table.ipynb>data table notebook</a>'\n",
              "            + ' to learn more about interactive tables.';\n",
              "          element.innerHTML = '';\n",
              "          dataTable['output_type'] = 'display_data';\n",
              "          await google.colab.output.renderOutput(dataTable, element);\n",
              "          const docLink = document.createElement('div');\n",
              "          docLink.innerHTML = docLinkHtml;\n",
              "          element.appendChild(docLink);\n",
              "        }\n",
              "      </script>\n",
              "    </div>\n",
              "  </div>\n",
              "  "
            ]
          },
          "metadata": {},
          "execution_count": 47
        }
      ]
    },
    {
      "cell_type": "code",
      "source": [
        "# Agora o plot\n",
        "# Ajustando o tamanho da figura\n",
        "plt.figure(figsize=(16,5))\n",
        "# Line plot\n",
        "plt.plot(gerd.index, gerd.Close, color = 'black', lw = 1)\n",
        "# Ajeitando os limites do gráfico\n",
        "plt.xlim([gerd.index.min(), gerd.index.max()])\n",
        "#Labels\n",
        "plt.title(\"Ações GGBR4\", loc = 'left', pad = 5, weight = 'bold', \n",
        "          size = 8, color = 'darkblue')\n",
        "plt.ylabel('Preço de fechamento', size = 10, color = 'gray')\n",
        "plt.xlabel(\"Ano\", size = 10, color = 'blue')\n",
        "# Gridlines\n",
        "plt.grid(alpha = 1, ls = '--')\n",
        "plt.show()"
      ],
      "metadata": {
        "colab": {
          "base_uri": "https://localhost:8080/",
          "height": 346
        },
        "id": "wyuv6rwZ2RXU",
        "outputId": "6e915836-900b-42d4-be17-15e9a7cdfb10"
      },
      "execution_count": 46,
      "outputs": [
        {
          "output_type": "display_data",
          "data": {
            "text/plain": [
              "<Figure size 1152x360 with 1 Axes>"
            ],
            "image/png": "[encoded data removed]"
          },
          "metadata": {
            "needs_background": "light"
          }
        }
      ]
    },
    {
      "cell_type": "markdown",
      "source": [
        "Gerdau hoje vale 1/10 do que valia quando abriu capital!!!!"
      ],
      "metadata": {
        "id": "MBlnWM672xID"
      }
    },
    {
      "cell_type": "code",
      "source": [
        "# Agora o gráfico de barras\n",
        "# Vou fazer um resample pra pegar valores médios anuais\n",
        "ger = gerd.resample('Y').mean().loc['2000':, 'Close']"
      ],
      "metadata": {
        "id": "-9cyozBe21zY"
      },
      "execution_count": 48,
      "outputs": []
    },
    {
      "cell_type": "code",
      "source": [
        "ger.head()"
      ],
      "metadata": {
        "colab": {
          "base_uri": "https://localhost:8080/"
        },
        "id": "CQiUF3JT3BTD",
        "outputId": "eb54bc16-316e-4e07-cdff-a770d7a43e44"
      },
      "execution_count": 49,
      "outputs": [
        {
          "output_type": "execute_result",
          "data": {
            "text/plain": [
              "Date\n",
              "2000-12-31    93.546843\n",
              "2001-12-31     1.123125\n",
              "2002-12-31     1.815797\n",
              "2003-12-31     2.311823\n",
              "2004-12-31     5.009493\n",
              "Freq: A-DEC, Name: Close, dtype: float64"
            ]
          },
          "metadata": {},
          "execution_count": 49
        }
      ]
    },
    {
      "cell_type": "code",
      "source": [
        "# Criando o gráfico de barras\n",
        "plt.bar(ger.index.year, ger.values)\n",
        "# Limite do Eixo Y\n",
        "plt.ylim(0, ger.values.max()+10)\n",
        "# Labels\n",
        "plt.title(\"Cotação média anual\", loc = 'left', pad = 8, weight = 'bold')\n",
        "plt.xlabel('Ano', color = 'darkblue')\n",
        "plt.ylabel('Preço', color = 'olive')\n",
        "\n",
        "plt.show()"
      ],
      "metadata": {
        "colab": {
          "base_uri": "https://localhost:8080/",
          "height": 297
        },
        "id": "0XK46wok3EEc",
        "outputId": "24f0dc3a-9696-4ab5-b946-19e512dbaf1c"
      },
      "execution_count": 50,
      "outputs": [
        {
          "output_type": "display_data",
          "data": {
            "text/plain": [
              "<Figure size 432x288 with 1 Axes>"
            ],
            "image/png": "[encoded data removed]"
          },
          "metadata": {
            "needs_background": "light"
          }
        }
      ]
    }
  ]
}