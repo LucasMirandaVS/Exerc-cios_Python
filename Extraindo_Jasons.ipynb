{
  "nbformat": 4,
  "nbformat_minor": 0,
  "metadata": {
    "colab": {
      "provenance": [],
      "authorship_tag": "ABX9TyM/u1JOBRNr2wLHBVg0JsDP",
      "include_colab_link": true
    },
    "kernelspec": {
      "name": "python3",
      "display_name": "Python 3"
    },
    "language_info": {
      "name": "python"
    }
  },
  "cells": [
    {
      "cell_type": "markdown",
      "metadata": {
        "id": "view-in-github",
        "colab_type": "text"
      },
      "source": [
        "<a href=\"https://colab.research.google.com/github/LucasMirandaVS/estudos_python/blob/main/Extraindo_Jasons.ipynb\" target=\"_parent\"><img src=\"https://colab.research.google.com/assets/colab-badge.svg\" alt=\"Open In Colab\"/></a>"
      ]
    },
    {
      "cell_type": "code",
      "execution_count": 2,
      "metadata": {
        "colab": {
          "base_uri": "https://localhost:8080/"
        },
        "id": "LfvXV3qp7zId",
        "outputId": "7ea46ba7-7ca5-48a4-8d8d-9f0d10809129"
      },
      "outputs": [
        {
          "output_type": "stream",
          "name": "stdout",
          "text": [
            "O arquivo BR_category_id.json foi convertido para BR_category_id.csv com sucesso!\n",
            "O arquivo CA_category_id.json foi convertido para CA_category_id.csv com sucesso!\n",
            "O arquivo GB_category_id.json foi convertido para GB_category_id.csv com sucesso!\n",
            "O arquivo US_category_id.json foi convertido para US_category_id.csv com sucesso!\n"
          ]
        }
      ],
      "source": [
        "import json\n",
        "import csv\n",
        "\n",
        "def json_to_csv(json_files):\n",
        "    for json_file in json_files:\n",
        "        # Define o nome do arquivo CSV de saída com base no nome do arquivo JSON\n",
        "        output_csv = json_file.replace('.json', '.csv')\n",
        "\n",
        "        # Abre o arquivo JSON para leitura\n",
        "        with open(json_file, 'r', encoding='utf-8') as f:\n",
        "            json_data = json.load(f)\n",
        "\n",
        "        # Abre o arquivo CSV para escrita\n",
        "        with open(output_csv, mode='w', newline='', encoding='utf-8') as csv_file:\n",
        "            # Inicializa o cabeçalho do CSV com as chaves do JSON\n",
        "            header = json_data.keys()\n",
        "            csv_writer = csv.DictWriter(csv_file, fieldnames=header)\n",
        "            csv_writer.writeheader()\n",
        "\n",
        "            # Escreve os dados JSON no arquivo CSV\n",
        "            csv_writer.writerow(json_data)\n",
        "\n",
        "        print(f'O arquivo {json_file} foi convertido para {output_csv} com sucesso!')\n",
        "\n",
        "# Lista dos arquivos JSON\n",
        "json_files = ['BR_category_id.json', 'CA_category_id.json', 'GB_category_id.json', 'US_category_id.json']\n",
        "\n",
        "# Chama a função para converter cada JSON para seu respectivo CSV\n",
        "json_to_csv(json_files)\n",
        "\n"
      ]
    }
  ]
}