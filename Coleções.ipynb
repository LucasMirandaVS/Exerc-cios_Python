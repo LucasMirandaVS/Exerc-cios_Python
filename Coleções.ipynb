{
  "nbformat": 4,
  "nbformat_minor": 0,
  "metadata": {
    "colab": {
      "name": "Coleções.ipynb",
      "provenance": [],
      "collapsed_sections": []
    },
    "kernelspec": {
      "name": "python3",
      "display_name": "Python 3"
    },
    "language_info": {
      "name": "python"
    }
  },
  "cells": [
    {
      "cell_type": "markdown",
      "source": [
        "1) ESCREVA UM PROGRAMA PARA SOMAR TODOS OS ITENS EM UMA LISTA."
      ],
      "metadata": {
        "id": "BHEk5CPbxT5O"
      }
    },
    {
      "cell_type": "code",
      "execution_count": null,
      "metadata": {
        "colab": {
          "base_uri": "https://localhost:8080/"
        },
        "id": "BkzFmTFwxEF9",
        "outputId": "5453d786-f46e-4aee-f31a-573eaef1067a"
      },
      "outputs": [
        {
          "output_type": "stream",
          "name": "stdout",
          "text": [
            "A soma é 28\n"
          ]
        }
      ],
      "source": [
        "lit1 = [1,2,3,4,5,6,7]\n",
        "soma = 0\n",
        "for i in lit1:\n",
        "  soma += i\n",
        "print(f\"A soma é {soma}\")"
      ]
    },
    {
      "cell_type": "markdown",
      "source": [
        "2) ESCREVA UM PROGRAMA PARA MULTIPLICAR TODOS OS ITENS DE UMA LISTA"
      ],
      "metadata": {
        "id": "NJReDFSnzGbj"
      }
    },
    {
      "cell_type": "code",
      "source": [
        "mul = 1\n",
        "lit2 = [1,2,3,4,5,6,7,8,9]\n",
        "for i in lit2:\n",
        "  mul *= i\n",
        "print(f\"A multiplicação é {mul}\")"
      ],
      "metadata": {
        "colab": {
          "base_uri": "https://localhost:8080/"
        },
        "id": "UmYaWf6izMZF",
        "outputId": "66bc4e02-84b5-46af-d2cc-bfeb089515b7"
      },
      "execution_count": null,
      "outputs": [
        {
          "output_type": "stream",
          "name": "stdout",
          "text": [
            "A multiplicação é 362880\n"
          ]
        }
      ]
    },
    {
      "cell_type": "markdown",
      "source": [
        "3) ESCREVA UM PROGRAMA PARA OBTER O MAIOR NÚMERO DE UMA LISTA"
      ],
      "metadata": {
        "id": "VuAXEFY_z3Jm"
      }
    },
    {
      "cell_type": "code",
      "source": [
        "print(lit2)\n",
        "maior = max(lit2)\n",
        "print(f\"O maior valor da lista é {maior}\")"
      ],
      "metadata": {
        "colab": {
          "base_uri": "https://localhost:8080/"
        },
        "id": "bKD_ZJYHz8A5",
        "outputId": "c4e74471-332a-474d-d175-eab2919c12c8"
      },
      "execution_count": null,
      "outputs": [
        {
          "output_type": "stream",
          "name": "stdout",
          "text": [
            "[1, 2, 3, 4, 5, 6, 7, 8, 9]\n",
            "O maior valor da lista é 9\n"
          ]
        }
      ]
    },
    {
      "cell_type": "markdown",
      "source": [
        "4) ESCREVA UM PROGRAMA PARA OBTER O MENOR NÚMERO DE UMA LISTA."
      ],
      "metadata": {
        "id": "AER6I30u0j48"
      }
    },
    {
      "cell_type": "code",
      "source": [
        "mini = min(lit2)\n",
        "print(f\"O menor valor é {mini}\")"
      ],
      "metadata": {
        "colab": {
          "base_uri": "https://localhost:8080/"
        },
        "id": "pLNQ6s8T0nIZ",
        "outputId": "0363309e-e6f1-49e1-d236-e0bdc842d92c"
      },
      "execution_count": null,
      "outputs": [
        {
          "output_type": "stream",
          "name": "stdout",
          "text": [
            "O menor valor é 1\n"
          ]
        }
      ]
    },
    {
      "cell_type": "markdown",
      "source": [
        "5) ESCREVA UM PROGRAMA PARA REMOVER DUPLICATAS DE UMA LISTA"
      ],
      "metadata": {
        "id": "P0pX7feB0uuM"
      }
    },
    {
      "cell_type": "code",
      "source": [
        "lista = [1,2,3,1,2,3,4,5,6,7]\n",
        "conju = set(lista)\n",
        "nova = list(conju)\n",
        "print(nova)\n",
        "type(nova)"
      ],
      "metadata": {
        "colab": {
          "base_uri": "https://localhost:8080/"
        },
        "id": "pkIHN2rB0yc7",
        "outputId": "20e6134f-a65e-420c-9417-5aadb8bcbfd4"
      },
      "execution_count": null,
      "outputs": [
        {
          "output_type": "stream",
          "name": "stdout",
          "text": [
            "[1, 2, 3, 4, 5, 6, 7]\n"
          ]
        },
        {
          "output_type": "execute_result",
          "data": {
            "text/plain": [
              "list"
            ]
          },
          "metadata": {},
          "execution_count": 8
        }
      ]
    },
    {
      "cell_type": "markdown",
      "source": [
        "6) ESCREVA UM PROGRAMA PARA COPIAR UMA LISTA PARA OUTRA"
      ],
      "metadata": {
        "id": "k0CoIDNy2aUb"
      }
    },
    {
      "cell_type": "code",
      "source": [
        "aniv = [\"Lucas\", \"Carlos,\", \"Dylan\", \"Adam\"]\n",
        "print(aniv)\n",
        "copia = aniv.copy()\n",
        "print(copia)"
      ],
      "metadata": {
        "colab": {
          "base_uri": "https://localhost:8080/"
        },
        "id": "AGCUiovY2mHd",
        "outputId": "5635635c-cd0b-4e8c-ac12-8285cbfc1776"
      },
      "execution_count": null,
      "outputs": [
        {
          "output_type": "stream",
          "name": "stdout",
          "text": [
            "['Lucas', 'Carlos,', 'Dylan', 'Adam']\n",
            "['Lucas', 'Carlos,', 'Dylan', 'Adam']\n"
          ]
        }
      ]
    },
    {
      "cell_type": "markdown",
      "source": [
        "7) ESCREVA UM PROGRAMA QUE RECEBA DUAS LISTAS E RETORNE TRUE SE ELAS TIVEREM PELO MENOS UM ELEMENTO EM COMUM."
      ],
      "metadata": {
        "id": "wEsKGUzb2mkq"
      }
    },
    {
      "cell_type": "code",
      "source": [
        "l1 = [1,2,3]\n",
        "l2 = [1,3,4]\n",
        "con = set(l1)\n",
        "inter = con.intersection(l2)\n",
        "if (con.intersection(l2)):\n",
        "  print(\"True\")\n",
        "print(inter)"
      ],
      "metadata": {
        "colab": {
          "base_uri": "https://localhost:8080/"
        },
        "id": "pG17YEnG2y6Z",
        "outputId": "44dda3cb-81ea-42ac-9997-2cc2b231fee5"
      },
      "execution_count": null,
      "outputs": [
        {
          "output_type": "stream",
          "name": "stdout",
          "text": [
            "True\n",
            "{1, 3}\n"
          ]
        }
      ]
    },
    {
      "cell_type": "markdown",
      "source": [
        "8) ESCREVA UM PROGRAMA PARA CRIAR UMA TUPLA."
      ],
      "metadata": {
        "id": "XDbGXi3758dh"
      }
    },
    {
      "cell_type": "code",
      "source": [
        "tupla  = (1,2,3)\n",
        "type(tupla)"
      ],
      "metadata": {
        "colab": {
          "base_uri": "https://localhost:8080/"
        },
        "id": "x3qpyL2J59XA",
        "outputId": "4ed8da6d-6c6f-4af1-ae4b-a44b57961932"
      },
      "execution_count": null,
      "outputs": [
        {
          "output_type": "execute_result",
          "data": {
            "text/plain": [
              "tuple"
            ]
          },
          "metadata": {},
          "execution_count": 15
        }
      ]
    },
    {
      "cell_type": "markdown",
      "source": [
        "9) ESCREVA UM PROGRAMA PARA CRIAR UMA TUPLA COM DIFERENTES TIPOS DE DADOS."
      ],
      "metadata": {
        "id": "1NZ8DXBR5-G7"
      }
    },
    {
      "cell_type": "code",
      "source": [
        "tup =(1,\"Lucas\", \"Carlos,\", \"Dylan\", \"Adam\", 5.6)\n",
        "type(tup)"
      ],
      "metadata": {
        "colab": {
          "base_uri": "https://localhost:8080/"
        },
        "id": "vBTNBMrA6Bto",
        "outputId": "0c57ec0c-42e7-4fde-fcf8-dd7f8f236a14"
      },
      "execution_count": null,
      "outputs": [
        {
          "output_type": "execute_result",
          "data": {
            "text/plain": [
              "tuple"
            ]
          },
          "metadata": {},
          "execution_count": 16
        }
      ]
    },
    {
      "cell_type": "markdown",
      "source": [
        "10) ESCREVA UM PROGRAMA PARA CRIAR UMA TUPLA COM NÚMEROS E IMPRIMIR UM ITEM."
      ],
      "metadata": {
        "id": "rc3YYxmR6CTw"
      }
    },
    {
      "cell_type": "code",
      "source": [
        "mas = (1,23,45,678,910,11,12,1314)\n",
        "print(mas[2])"
      ],
      "metadata": {
        "colab": {
          "base_uri": "https://localhost:8080/"
        },
        "id": "PTvz9Y1f6GD-",
        "outputId": "efa39aab-6394-4007-a2d8-14bd631a0e38"
      },
      "execution_count": null,
      "outputs": [
        {
          "output_type": "stream",
          "name": "stdout",
          "text": [
            "45\n"
          ]
        }
      ]
    },
    {
      "cell_type": "markdown",
      "source": [
        "11) ESCREVA UM PROGRAMA PARA ADICIONAR UM ITEM EM UMA TUPLA"
      ],
      "metadata": {
        "id": "vm-u7ZXz86TG"
      }
    },
    {
      "cell_type": "code",
      "source": [
        "tup2 = (88, \"A letra L\")\n",
        "tup = tup + tup2\n",
        "print(tup)"
      ],
      "metadata": {
        "colab": {
          "base_uri": "https://localhost:8080/"
        },
        "id": "EsINQFyW88fV",
        "outputId": "4b92fe3c-4d76-4a85-eba2-b915a043dac2"
      },
      "execution_count": null,
      "outputs": [
        {
          "output_type": "stream",
          "name": "stdout",
          "text": [
            "(1, 'Lucas', 'Carlos,', 'Dylan', 'Adam', 5.6, 88, 'A letra L')\n"
          ]
        }
      ]
    },
    {
      "cell_type": "markdown",
      "source": [
        "12) ESCREVA UM PROGRAMA PARA OBTER O 4º ELEMENTO E O ÚLTIMO DE UMA TUPLA"
      ],
      "metadata": {
        "id": "ydpd1h1_89Pr"
      }
    },
    {
      "cell_type": "code",
      "source": [
        "nova = (99,\"oieee\", [99,22,33], True, \"Lista\", False, 1)\n",
        "print(nova[4])\n",
        "print(nova[5])"
      ],
      "metadata": {
        "colab": {
          "base_uri": "https://localhost:8080/"
        },
        "id": "XOfocfHy9Ahe",
        "outputId": "6a260c3c-da76-486e-a8d2-8a09e79d637b"
      },
      "execution_count": null,
      "outputs": [
        {
          "output_type": "stream",
          "name": "stdout",
          "text": [
            "Lista\n",
            "False\n"
          ]
        }
      ]
    },
    {
      "cell_type": "markdown",
      "source": [
        "13) ESCREVA UM PROGRAMA PARA ENCONTRAR OS ITENS REPETIDOS DE UMA TUPLA"
      ],
      "metadata": {
        "id": "65rFx6ib9BEJ"
      }
    },
    {
      "cell_type": "code",
      "source": [
        "og = (8,1,1,2,2,3,4,5,6,7)\n",
        "type(og)\n",
        "og_set = set(og)\n",
        "if (len(og) != len(og_set)):\n",
        "  print(\"Existem elementos repetidos\")\n",
        "else:\n",
        "    print(\"Ta mec\")"
      ],
      "metadata": {
        "colab": {
          "base_uri": "https://localhost:8080/"
        },
        "id": "qFrtGhtH9ELG",
        "outputId": "b5d69604-e0b6-4f56-cfc7-4a49fe308fcd"
      },
      "execution_count": null,
      "outputs": [
        {
          "output_type": "stream",
          "name": "stdout",
          "text": [
            "Existem elementos repetidos\n"
          ]
        }
      ]
    },
    {
      "cell_type": "markdown",
      "source": [
        "14) ESCREVA UM PROGRAMA PARA CONVERTER UMA LISTA EM UMA TUPLA.\n"
      ],
      "metadata": {
        "id": "4JIaz1DY9EjK"
      }
    },
    {
      "cell_type": "code",
      "source": [
        "lista = [1,2,3,4,5,6]\n",
        "type(lista)\n",
        "tulpa = tuple(lista)\n",
        "type(tulpa)"
      ],
      "metadata": {
        "colab": {
          "base_uri": "https://localhost:8080/"
        },
        "id": "i9bK41Gy9Hac",
        "outputId": "657b8119-d7f1-451a-8c11-44e72a3fc1eb"
      },
      "execution_count": null,
      "outputs": [
        {
          "output_type": "execute_result",
          "data": {
            "text/plain": [
              "tuple"
            ]
          },
          "metadata": {},
          "execution_count": 27
        }
      ]
    },
    {
      "cell_type": "markdown",
      "source": [
        "15) ESCREVA UM PROGRAMA PARA ADICIONAR UMA CHAVE A UM DICIONÁRIO.\n"
      ],
      "metadata": {
        "id": "d2no-6Ki9H57"
      }
    },
    {
      "cell_type": "code",
      "source": [
        "dicio = {\"RJ\" : 21, \"MG\": 31}\n",
        "dicio.update({\"RS\" : 51})\n",
        "print(dicio)"
      ],
      "metadata": {
        "colab": {
          "base_uri": "https://localhost:8080/"
        },
        "id": "bfI9bi969KC8",
        "outputId": "35723aac-6f98-4b8e-884e-4278e8610efb"
      },
      "execution_count": null,
      "outputs": [
        {
          "output_type": "stream",
          "name": "stdout",
          "text": [
            "{'RJ': 21, 'MG': 31, 'RS': 51}\n"
          ]
        }
      ]
    },
    {
      "cell_type": "markdown",
      "source": [
        "16) CRIE DOIS DICIONÁRIOS DIFERENTES E CONCATENE PARA CRIAR UM NOVO."
      ],
      "metadata": {
        "id": "rl7EE0ry9KyQ"
      }
    },
    {
      "cell_type": "code",
      "source": [
        "dicio2 = {\"PE\" : 71, \"SP\": 11}\n",
        "dicio.update(dicio2)\n",
        "print(dicio)"
      ],
      "metadata": {
        "colab": {
          "base_uri": "https://localhost:8080/"
        },
        "id": "gNgRqmL99NWz",
        "outputId": "8f6329c8-6b9f-4e09-d27a-8655437756e3"
      },
      "execution_count": null,
      "outputs": [
        {
          "output_type": "stream",
          "name": "stdout",
          "text": [
            "{'RJ': 21, 'MG': 31, 'RS': 51, 'PE': 71, 'SP': 11}\n"
          ]
        }
      ]
    },
    {
      "cell_type": "markdown",
      "source": [
        "17) ESCREVA UM PROGRAMA PARA VERIFICAR SE UMA DETERMINADA CHAVE JÁ EXISTE EM UM DICIONÁRIO."
      ],
      "metadata": {
        "id": "7S_wX0eb9N8U"
      }
    },
    {
      "cell_type": "code",
      "source": [
        "dicio3 = {1:10, 2:20, 3:30, 4:40}\n",
        "eita = int(input(\"Digite um valor: \"))\n",
        "if eita in dicio3:\n",
        "  print(\"Ta no dicionário\")\n",
        "else:\n",
        "  print(\"Não ta no dicionário\")"
      ],
      "metadata": {
        "colab": {
          "base_uri": "https://localhost:8080/"
        },
        "id": "3hOgLnup9RPP",
        "outputId": "c0c24711-38a0-41bb-b97c-ea32dedce30c"
      },
      "execution_count": null,
      "outputs": [
        {
          "output_type": "stream",
          "name": "stdout",
          "text": [
            "Digite um valor: 5\n",
            "Não ta no dicionário\n"
          ]
        }
      ]
    },
    {
      "cell_type": "markdown",
      "source": [
        "18) ESCREVA UM PROGRAMA PARA ITERAR SOBRE DICIONÁRIOS USANDO LOOPS FOR."
      ],
      "metadata": {
        "id": "EgYNCE7Y9Rn4"
      }
    },
    {
      "cell_type": "code",
      "source": [
        "dicio4 = {2:22, 3:33, 4:44, \"time\" : \"Vasco\"}\n",
        "for k in dicio4:\n",
        "  print(k)\n",
        "for k in dicio4:\n",
        "  print(f\"{k} : {dicio4[k]}\")"
      ],
      "metadata": {
        "colab": {
          "base_uri": "https://localhost:8080/"
        },
        "id": "I6PNpUds9T37",
        "outputId": "d198dde8-5885-4535-9d04-1e0a723cf7a3"
      },
      "execution_count": null,
      "outputs": [
        {
          "output_type": "stream",
          "name": "stdout",
          "text": [
            "2\n",
            "3\n",
            "4\n",
            "time\n",
            "2 : 22\n",
            "3 : 33\n",
            "4 : 44\n",
            "time : Vasco\n"
          ]
        }
      ]
    },
    {
      "cell_type": "markdown",
      "source": [
        ""
      ],
      "metadata": {
        "id": "VFrgn1GW9Ufq"
      }
    },
    {
      "cell_type": "markdown",
      "source": [
        "19) ESCREVA UM PROGRAMA PARA MULTIPLICAR TODOS OS ITENS EM UM DICIONÁRIO."
      ],
      "metadata": {
        "id": "79n8EFQA9Uz_"
      }
    },
    {
      "cell_type": "code",
      "source": [
        "mul =1\n",
        "dicio5 = {3:33, 4: 44, 5:77, \"b\": 4}\n",
        "for i in dicio5:\n",
        "  print(i)\n",
        "  mul *= dicio5[i]\n",
        "print(mul)"
      ],
      "metadata": {
        "colab": {
          "base_uri": "https://localhost:8080/"
        },
        "id": "W69fI8ZL9YR1",
        "outputId": "f267f984-702e-4206-c099-f3f6ef2ba515"
      },
      "execution_count": null,
      "outputs": [
        {
          "output_type": "stream",
          "name": "stdout",
          "text": [
            "3\n",
            "4\n",
            "5\n",
            "b\n",
            "447216\n"
          ]
        }
      ]
    },
    {
      "cell_type": "markdown",
      "source": [
        "20) ESCREVA UM PROGRAMA PARA REMOVER UMA CHAVE DE UM DICIONÁRIO"
      ],
      "metadata": {
        "id": "pMX1jAFT9Yyi"
      }
    },
    {
      "cell_type": "code",
      "source": [
        "dicio6 = {\"RJ\": \"Teresópils\", \"SP\" : \"Trembembé\", \"CE\" : \"Crato\"}\n",
        "for i in dicio6:\n",
        "  print(i)\n"
      ],
      "metadata": {
        "colab": {
          "base_uri": "https://localhost:8080/"
        },
        "id": "9OPoFf-m9bed",
        "outputId": "fc41069a-f0ba-4d32-f2b9-bcf7552195da"
      },
      "execution_count": null,
      "outputs": [
        {
          "output_type": "stream",
          "name": "stdout",
          "text": [
            "RJ\n",
            "SP\n",
            "CE\n"
          ]
        }
      ]
    },
    {
      "cell_type": "code",
      "source": [
        "dicio6.pop(\"RJ\", None)\n",
        "print(dicio6)"
      ],
      "metadata": {
        "colab": {
          "base_uri": "https://localhost:8080/"
        },
        "id": "viBME06WFF3O",
        "outputId": "457e9dc4-cb34-419b-c4f9-1ede77799bce"
      },
      "execution_count": null,
      "outputs": [
        {
          "output_type": "stream",
          "name": "stdout",
          "text": [
            "{'SP': 'Trembembé', 'CE': 'Crato'}\n"
          ]
        }
      ]
    },
    {
      "cell_type": "code",
      "source": [
        "del dicio6[\"SP\"]\n",
        "print(dicio6)"
      ],
      "metadata": {
        "colab": {
          "base_uri": "https://localhost:8080/"
        },
        "id": "I5o4UjgKFPWG",
        "outputId": "22be1b5f-dd47-4f83-d2f7-59fbd7ee58cd"
      },
      "execution_count": null,
      "outputs": [
        {
          "output_type": "stream",
          "name": "stdout",
          "text": [
            "{'CE': 'Crato'}\n"
          ]
        }
      ]
    }
  ]
}