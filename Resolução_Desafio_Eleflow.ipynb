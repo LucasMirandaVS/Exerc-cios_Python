{
  "nbformat": 4,
  "nbformat_minor": 0,
  "metadata": {
    "colab": {
      "provenance": [],
      "authorship_tag": "ABX9TyOr7u4/8vyEL7rAc6aydse0",
      "include_colab_link": true
    },
    "kernelspec": {
      "name": "python3",
      "display_name": "Python 3"
    },
    "language_info": {
      "name": "python"
    }
  },
  "cells": [
    {
      "cell_type": "markdown",
      "metadata": {
        "id": "view-in-github",
        "colab_type": "text"
      },
      "source": [
        "<a href=\"https://colab.research.google.com/github/LucasMirandaVS/estudos_python/blob/main/Resolu%C3%A7%C3%A3o_Desafio_Eleflow.ipynb\" target=\"_parent\"><img src=\"https://colab.research.google.com/assets/colab-badge.svg\" alt=\"Open In Colab\"/></a>"
      ]
    },
    {
      "cell_type": "markdown",
      "source": [
        "#Configurando o ambiente"
      ],
      "metadata": {
        "id": "xGJgWmNg4lIs"
      }
    },
    {
      "cell_type": "code",
      "execution_count": 1,
      "metadata": {
        "id": "Xk-_hcrd2DZQ"
      },
      "outputs": [],
      "source": [
        "import pandas as pd\n",
        "import sqlite3"
      ]
    },
    {
      "cell_type": "markdown",
      "source": [
        "#Definindo os dados e o banco SQLite\n"
      ],
      "metadata": {
        "id": "DElb7bN844Ql"
      }
    },
    {
      "cell_type": "markdown",
      "source": [
        "Para facilitar a análise, todos os arquivos disponibilizados para esta parte do desafio foram colocados em uma única planilha Excel chamada *Dados Desafio Eleflow*."
      ],
      "metadata": {
        "id": "9_sibdwWoRN7"
      }
    },
    {
      "cell_type": "code",
      "source": [
        "# Função para carregar as abas do arquivo Excel para SQLite\n",
        "def load_data_from_excel(file_path):\n",
        "    # Carregar cada aba como um DataFrame\n",
        "    board_games_df = pd.read_excel(file_path, sheet_name='Board Games Principal')\n",
        "    designer_df = pd.read_excel(file_path, sheet_name='Designer_category')\n",
        "    rating_df = pd.read_excel(file_path, sheet_name='Rating')\n",
        "\n",
        "    # Conectar ao SQLite\n",
        "    conn = sqlite3.connect('dados_desafio_eleflow.db')\n",
        "\n",
        "    # Salvar os DataFrames no SQLite\n",
        "    board_games_df.to_sql('Board_Games_Principal', conn, if_exists='replace', index=False)\n",
        "    designer_df.to_sql('Designer_category', conn, if_exists='replace', index=False)\n",
        "    rating_df.to_sql('Rating', conn, if_exists='replace', index=False)\n",
        "\n",
        "    print(\"Dados carregados no banco de dados SQLite com sucesso.\")\n",
        "\n",
        "    return conn  # Retorna a conexão para uso nas consultas SQL\n",
        "\n"
      ],
      "metadata": {
        "id": "aNCdyjiB4_7M"
      },
      "execution_count": 2,
      "outputs": []
    },
    {
      "cell_type": "code",
      "source": [
        "# Carregar os dados do Excel para o SQLite\n",
        "conn = load_data_from_excel('/content/Dados Desafio Eleflow.xlsx')"
      ],
      "metadata": {
        "colab": {
          "base_uri": "https://localhost:8080/"
        },
        "id": "yz1NhdUe5xTi",
        "outputId": "f2f4e482-306e-4227-91b4-8fa00b40d2f7"
      },
      "execution_count": 3,
      "outputs": [
        {
          "output_type": "stream",
          "name": "stdout",
          "text": [
            "Dados carregados no banco de dados SQLite com sucesso.\n"
          ]
        }
      ]
    },
    {
      "cell_type": "code",
      "source": [
        "# Função para executar queries e mostrar resultados\n",
        "def execute_query(query, conn):\n",
        "    df = pd.read_sql_query(query, conn)\n",
        "    return df"
      ],
      "metadata": {
        "id": "TpkpKO8O6rWx"
      },
      "execution_count": 4,
      "outputs": []
    },
    {
      "cell_type": "markdown",
      "source": [
        "# Respondendo as perguntas"
      ],
      "metadata": {
        "id": "fmo-2JR36aAR"
      }
    },
    {
      "cell_type": "markdown",
      "source": [
        " 1- Qual designer de jogos possui a maior média de avaliação dentre todos os seus jogos publicados?"
      ],
      "metadata": {
        "id": "OcJn9p8h7RZC"
      }
    },
    {
      "cell_type": "code",
      "source": [
        "query1 = '''\n",
        "WITH designer_avg AS (\n",
        "    SELECT d.designer, AVG(r.avg_rating) AS avg_designer_rating\n",
        "    FROM Designer_category d\n",
        "    JOIN Rating r ON d.game_id = r.game_id\n",
        "    GROUP BY d.designer\n",
        ")\n",
        "SELECT designer, MAX(avg_designer_rating) AS highest_avg_rating\n",
        "FROM designer_avg;\n",
        "'''\n",
        "resultado1 = execute_query(query1, conn)\n",
        "print(\"Resultado da Query 1:\")\n",
        "print(resultado1)"
      ],
      "metadata": {
        "colab": {
          "base_uri": "https://localhost:8080/"
        },
        "id": "gzTDKLGR6erR",
        "outputId": "b57344f6-3db8-4a97-8869-40f0b409e31b"
      },
      "execution_count": 5,
      "outputs": [
        {
          "output_type": "stream",
          "name": "stdout",
          "text": [
            "Resultado da Query 1:\n",
            "                  designer  highest_avg_rating\n",
            "0  Sean Äaberg, Eric Radey            897594.0\n"
          ]
        }
      ]
    },
    {
      "cell_type": "markdown",
      "source": [
        "2 - Quais os 5 jogos com durabilidade de até 120 min pior avaliados?"
      ],
      "metadata": {
        "id": "nb89aO9q7Nai"
      }
    },
    {
      "cell_type": "code",
      "source": [
        "query2 = '''\n",
        "SELECT b.names, r.avg_rating\n",
        "FROM Board_Games_Principal b\n",
        "JOIN Rating r ON b.game_id = r.game_id\n",
        "WHERE b.max_time <= 120\n",
        "ORDER BY r.avg_rating ASC\n",
        "LIMIT 5;\n",
        "'''\n",
        "resultado2 = execute_query(query2, conn)\n",
        "print(\"Resultado da Query 2:\")\n",
        "print(resultado2)"
      ],
      "metadata": {
        "colab": {
          "base_uri": "https://localhost:8080/"
        },
        "id": "mCGm-7jG7M1K",
        "outputId": "9a893d6d-a998-4c12-ab09-10b9431ceae1"
      },
      "execution_count": 6,
      "outputs": [
        {
          "output_type": "stream",
          "name": "stdout",
          "text": [
            "Resultado da Query 2:\n",
            "                             names  avg_rating\n",
            "0  Target Arnhem: Across 6 Bridges          65\n",
            "1             Texas Glory: 1835-36          71\n",
            "2                       Formule Dé          72\n",
            "3                         Cauldron          72\n",
            "4                              GEM         633\n"
          ]
        }
      ]
    },
    {
      "cell_type": "markdown",
      "source": [
        "3 - Um cliente pretende comprar os 5 jogos melhor avaliados que atendam às seguintes características: seja da categoria ficção científica (“Science Fiction”), o máximo de jogadores seja 6 e possua a mecânica de controle de área (“Area control”) . Quais jogos o cliente deve por no carrinho?"
      ],
      "metadata": {
        "id": "sv5Myl2F7azT"
      }
    },
    {
      "cell_type": "code",
      "source": [
        "query3 = '''\n",
        "SELECT b.names, r.avg_rating\n",
        "FROM Board_Games_Principal b\n",
        "JOIN Rating r ON b.game_id = r.game_id\n",
        "JOIN Designer_category d ON b.game_id = d.game_id\n",
        "WHERE (d.category LIKE '%Science Fiction%' OR d.category LIKE '%Science Fiction,%')\n",
        "AND b.max_players <= 6\n",
        "AND (b.mechanic LIKE '%Area Control%' OR b.mechanic LIKE '%Area Control,%')\n",
        "ORDER BY r.avg_rating DESC\n",
        "LIMIT 5\n",
        "\n",
        "'''\n",
        "\n",
        "# Executando a query e mostrando os resultados\n",
        "resultado3 = execute_query(query3, conn)\n",
        "print(\"Resultado da Query 3:\")\n",
        "print(resultado3)\n"
      ],
      "metadata": {
        "colab": {
          "base_uri": "https://localhost:8080/"
        },
        "id": "cUBMlLrj7zkL",
        "outputId": "60775334-93b0-426e-b94c-c8eb35039328"
      },
      "execution_count": 21,
      "outputs": [
        {
          "output_type": "stream",
          "name": "stdout",
          "text": [
            "Resultado da Query 3:\n",
            "                               names  avg_rating\n",
            "0  Twilight Imperium: Fourth Edition      890337\n",
            "1               Star Wars: Rebellion      847439\n",
            "2                             Scythe      829158\n",
            "3                           Renegade      827806\n",
            "4          Malifaux (second edition)      826055\n"
          ]
        }
      ]
    },
    {
      "cell_type": "code",
      "source": [
        "# Fechando a conexão com o banco de dados após o uso\n",
        "conn.close()"
      ],
      "metadata": {
        "id": "fkJEYxebB1ay"
      },
      "execution_count": 22,
      "outputs": []
    }
  ]
}