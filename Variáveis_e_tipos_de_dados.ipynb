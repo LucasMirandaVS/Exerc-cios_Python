{
  "nbformat": 4,
  "nbformat_minor": 0,
  "metadata": {
    "colab": {
      "name": "Variáveis e tipos de dados.ipynb",
      "provenance": [],
      "collapsed_sections": []
    },
    "kernelspec": {
      "name": "python3",
      "display_name": "Python 3"
    },
    "language_info": {
      "name": "python"
    }
  },
  "cells": [
    {
      "cell_type": "markdown",
      "source": [
        "Exercício 1: Um programa que lê um número inteiro e imprime:"
      ],
      "metadata": {
        "id": "omU312fmpOUv"
      }
    },
    {
      "cell_type": "code",
      "source": [
        "ler_numero = int(input(\"Digite um número inteiro: \"))\n",
        "print(f\"O valor do inteiro é: {ler_numero}\")"
      ],
      "metadata": {
        "colab": {
          "base_uri": "https://localhost:8080/"
        },
        "id": "0AVHQmcprAZG",
        "outputId": "157d8111-dfbc-4189-f29b-5db49aac965e"
      },
      "execution_count": null,
      "outputs": [
        {
          "output_type": "stream",
          "name": "stdout",
          "text": [
            "Digite um número inteiro: 9\n",
            "O valor do inteiro é: 9\n"
          ]
        }
      ]
    },
    {
      "cell_type": "code",
      "source": [
        "print(f\"O tipo do meu número é: {type(ler_numero)}\")"
      ],
      "metadata": {
        "colab": {
          "base_uri": "https://localhost:8080/"
        },
        "id": "CisD2qADr40W",
        "outputId": "dbdf23dd-eb3c-4e59-d415-09d444e9b3db"
      },
      "execution_count": null,
      "outputs": [
        {
          "output_type": "stream",
          "name": "stdout",
          "text": [
            "O tipo do meu número é: <class 'int'>\n"
          ]
        }
      ]
    },
    {
      "cell_type": "markdown",
      "source": [
        "Exercício 2: Faça um programa que leia um número real e imprima"
      ],
      "metadata": {
        "id": "9oQa41lQsm3P"
      }
    },
    {
      "cell_type": "code",
      "source": [
        "num_real = float(input(\"Digite um número real: \"))\n",
        "print(f\"O valor real é {num_real}\")\n",
        "print(f\"O tipo do meu número é: {type(num_real)}\")"
      ],
      "metadata": {
        "colab": {
          "base_uri": "https://localhost:8080/"
        },
        "id": "pz4losSDssMU",
        "outputId": "b5272b03-7028-40c1-df80-4ae0006c6ccc"
      },
      "execution_count": null,
      "outputs": [
        {
          "output_type": "stream",
          "name": "stdout",
          "text": [
            "Digite um número real: 2\n",
            "O valor real é 2.0\n",
            "O tipo do meu número é: <class 'float'>\n"
          ]
        }
      ]
    },
    {
      "cell_type": "markdown",
      "source": [
        "Exercício 3: Um programa que pede 3 número inteiros e imprime a soma deles"
      ],
      "metadata": {
        "id": "OTOustn7tqUf"
      }
    },
    {
      "cell_type": "code",
      "source": [
        "primeiro_valor = int(input(\"Digite o primeiro valor: \"))\n",
        "segundo_valor = int(input(\"Agora o segundo valor: \"))\n",
        "terceiro_valor = int(input(\"por último, o terceiro: \"))\n",
        "soma = primeiro_valor + segundo_valor + terceiro_valor\n",
        "print(f\"A soma dos valores inteiros é: {soma}\")\n",
        "print(f\"O tipo do inteiro é: {type(soma)}\")"
      ],
      "metadata": {
        "colab": {
          "base_uri": "https://localhost:8080/"
        },
        "id": "h13a5CDKtxcc",
        "outputId": "dd0d6d99-4e80-4abd-a0fc-9407ab58a790"
      },
      "execution_count": null,
      "outputs": [
        {
          "output_type": "stream",
          "name": "stdout",
          "text": [
            "Digite o primeiro valor: 128\n",
            "Agora o segundo valor: 256\n",
            "por último, o terceiro: 512\n",
            "A soma dos valores inteiros é: 896\n",
            "O tipo do inteiro é: <class 'int'>\n"
          ]
        }
      ]
    },
    {
      "cell_type": "markdown",
      "source": [
        "Exercício 4: Um programa que vc digita um número real e imprime o quadrado desse número"
      ],
      "metadata": {
        "id": "z8t3rGoYwKPa"
      }
    },
    {
      "cell_type": "code",
      "source": [
        "valor = float(input(\"Digite um número inteiro: \"))\n",
        "quadrado = valor*valor\n",
        "print(f\"O quadrado do valor que vc digitou é: {quadrado}\")\n",
        "print(f\"O tipo do quadrdo do número que vc colocou é: {type(quadrado)}\")"
      ],
      "metadata": {
        "colab": {
          "base_uri": "https://localhost:8080/"
        },
        "id": "Ao1YwgxYwpwr",
        "outputId": "c995955d-5efd-4a93-b696-130773dafafc"
      },
      "execution_count": null,
      "outputs": [
        {
          "output_type": "stream",
          "name": "stdout",
          "text": [
            "Digite um número inteiro: 3.14\n",
            "O quadrado do valor que vc digitou é: 9.8596\n",
            "O tipo do quadrdo do número que vc colocou é: <class 'float'>\n"
          ]
        }
      ]
    },
    {
      "cell_type": "markdown",
      "source": [
        "Exercício 5: Um programa que vc digita um número real e ele imprime o quinto desse número"
      ],
      "metadata": {
        "id": "62iQfjY5xjd4"
      }
    },
    {
      "cell_type": "code",
      "source": [
        "value = float(input(\"Pensa um número: \"))\n",
        "ni= value/5\n",
        "print(f\"O quinto desse número é: {ni}, e o tipo desse número ao quinto é {type(ni)}\")\n"
      ],
      "metadata": {
        "colab": {
          "base_uri": "https://localhost:8080/"
        },
        "id": "DEyv1_QVx_Pr",
        "outputId": "736967e4-2681-4520-89e0-439680f8fe1a"
      },
      "execution_count": null,
      "outputs": [
        {
          "output_type": "stream",
          "name": "stdout",
          "text": [
            "Pensa um número: 100\n",
            "O quinto desse número é: 20.0, e o tipo desse número ao quinto é <class 'float'>\n"
          ]
        }
      ]
    },
    {
      "cell_type": "markdown",
      "source": [
        "Exercício 6: Um programa que le uma termperatura em graus celsius e imprime em fahrenheit"
      ],
      "metadata": {
        "id": "0xamqq04ydt9"
      }
    },
    {
      "cell_type": "code",
      "source": [
        "love = float(input(\"No seu país esta: \"))\n",
        "ne = love*(9.0/5.0) + 32\n",
        "print(f\"No seu país etá fazendo {love} graus celsis, e no padrão fahrenheit seriam {ne} graus fahrenheit\")\n",
        "print(f\"Os tipos dessa brincadeira são {type(ne)}\")"
      ],
      "metadata": {
        "colab": {
          "base_uri": "https://localhost:8080/"
        },
        "id": "fmcsXlVvz3iR",
        "outputId": "30d4f648-5e97-4016-eb2b-a313172ad81d"
      },
      "execution_count": null,
      "outputs": [
        {
          "output_type": "stream",
          "name": "stdout",
          "text": [
            "No seu país esta: 23.2\n",
            "No seu país etá fazendo 23.2 graus celsis, e no padrão fahrenheit seriam 73.75999999999999 graus fahrenheit\n",
            "Os tipos dessa brincadeira são <class 'float'>\n"
          ]
        }
      ]
    },
    {
      "cell_type": "markdown",
      "source": [
        "Exercício 7: LEIA UMA TEMPERATURA EM GRAUS KELVIN E APRESENTE-A CONVERTIDA EM GRAUS CELSIUS. A FÓRMULA DE CONVERSÃO É: C = K − 273.15, SENDO C A TEMPERATURA EM CELSIUS E K A TEMPERATURA EM KELVIN.\n"
      ],
      "metadata": {
        "id": "tLHETvdS0wX2"
      }
    },
    {
      "cell_type": "code",
      "source": [
        "k = float(input(\"A termperatura em Kelvin é: \"))\n",
        "celsius = k - 273.15\n",
        "print(f\"A termperatura em kelvin é {k}, e em celsius seria {celsius}, o tipo dessa porra é {type(celsius)}\")"
      ],
      "metadata": {
        "colab": {
          "base_uri": "https://localhost:8080/"
        },
        "id": "h-TQe0NH08KJ",
        "outputId": "667d6986-0548-434a-da25-37d01ca808d8"
      },
      "execution_count": null,
      "outputs": [
        {
          "output_type": "stream",
          "name": "stdout",
          "text": [
            "A termperatura em Kelvin é: 273\n",
            "A termperatura em kelvin é 273.0, e em celsius seria -0.14999999999997726, o tipo dessa porra é <class 'float'>\n"
          ]
        }
      ]
    },
    {
      "cell_type": "markdown",
      "source": [
        "8) LEIA UM ÂNGULO EM GRAUS E APRESENTE-O CONVERTIDO EM RADIANOS. A FÓRMULA DE\n",
        "CONVERSÃO É R = G ∗ PI / 180, SENDO G O ANGULO EM GRAUS E R EM RADIANOS E PI = 3.14."
      ],
      "metadata": {
        "id": "hNnIXpWS2OvD"
      }
    },
    {
      "cell_type": "code",
      "source": [
        "oi = float(input(\" O angulo que vc tem é: \"))\n",
        "pi = 3.14\n",
        "conv =  oi * pi / 180\n",
        "print(f\"O equivalente em Radiano é: {conv}\")"
      ],
      "metadata": {
        "colab": {
          "base_uri": "https://localhost:8080/"
        },
        "id": "YM0CXgE72eB5",
        "outputId": "10b3ce49-076d-4f47-d0da-9788a7817d4c"
      },
      "execution_count": null,
      "outputs": [
        {
          "output_type": "stream",
          "name": "stdout",
          "text": [
            " O angulo que vc tem é: 90\n",
            "O equivalente em Radiano é: 1.57\n"
          ]
        }
      ]
    },
    {
      "cell_type": "markdown",
      "source": [
        "9) LEIA UM VALOR DE COMPRIMENTO EM POLEGADAS E APRESENTE-O CONVERTIDO EM\n",
        "CENTÍMETROS. A FÓRMULA DE CONVERSÃO É: C = P ∗ 2, 54, SENDO C O COMPRIMENTO EM\n",
        "CENTÍMETROS E P O COMPRIMENTO EM POLEGADAS\n",
        ":"
      ],
      "metadata": {
        "id": "Z1W0cKtE25sx"
      }
    },
    {
      "cell_type": "code",
      "source": [
        "polegada = float(input(\"O valor que vc tem em polegadas é: \"))\n",
        "coco = polegada * 2.54\n",
        "print(f\"O seu valor em centímetros é: {coco}\")"
      ],
      "metadata": {
        "colab": {
          "base_uri": "https://localhost:8080/"
        },
        "id": "9lvrh6TK2958",
        "outputId": "2ffa6774-1423-4bdf-b2a8-0aaec48ecd0a"
      },
      "execution_count": null,
      "outputs": [
        {
          "output_type": "stream",
          "name": "stdout",
          "text": [
            "O valor que vc tem em polegadas é: 8\n",
            "O seu valor em centímetros é: 20.32\n"
          ]
        }
      ]
    },
    {
      "cell_type": "markdown",
      "source": [
        "10) FAÇA A LEITURA DE TRÊS VALORES E APRESENTE COMO RESULTADO A SOMA DOS\n",
        "QUADRADOS DOS TRÊS VALORES LIDOS."
      ],
      "metadata": {
        "id": "isW-Klh03icx"
      }
    },
    {
      "cell_type": "code",
      "source": [
        "valor1 = int(input(\"O primeiro valor é: \"))\n",
        "valor2 = int(input(\"O segundo: \"))\n",
        "valor3 = int(input(\"Por último, o terceiro: \"))\n",
        "opera = valor1*valor1 + valor2*valor2 + valor3*valor3\n",
        "print(f\"A soma dos seus quadrados será {opera}\")"
      ],
      "metadata": {
        "colab": {
          "base_uri": "https://localhost:8080/"
        },
        "id": "urAAp3Pc3nlV",
        "outputId": "3427c90f-818a-4957-fea6-fd1f04829f63"
      },
      "execution_count": null,
      "outputs": [
        {
          "output_type": "stream",
          "name": "stdout",
          "text": [
            "O primeiro valor é: 3\n",
            "O segundo: 4\n",
            "Por último, o terceiro: 5\n",
            "A soma dos seus quadrados será 50\n"
          ]
        }
      ]
    },
    {
      "cell_type": "markdown",
      "source": [
        "11) PEÇA AO USUÁRIO QUATRO NOTAS, CALCULE A MEDIA ARITMÉTICA E IMPRIMA O RESULTADO."
      ],
      "metadata": {
        "id": "-QvYwo-C4lsj"
      }
    },
    {
      "cell_type": "code",
      "source": [
        "nota1 = float(input(\"Na primeira prova, vc tirou: \"))\n",
        "nota2 = float(input(\"Na segunda, tirou: \"))\n",
        "nota3 = float(input(\"Na teceira: \"))\n",
        "nota4 = float(input(\"E na quarta: \"))\n",
        "alg = (nota1 + nota2 + nota3 + nota4)/4\n",
        "print(f\"A média das suas notas foi {alg}\") "
      ],
      "metadata": {
        "colab": {
          "base_uri": "https://localhost:8080/"
        },
        "id": "ucNiB5ki4p2J",
        "outputId": "13b8d5f0-ac66-4d80-eb42-f8265a3da688"
      },
      "execution_count": null,
      "outputs": [
        {
          "output_type": "stream",
          "name": "stdout",
          "text": [
            "Na primeira prova, vc tirou: 7.5\n",
            "Na segunda, tirou: 8\n",
            "Na teceira: 6.3\n",
            "E na quarta: 5\n",
            "A média das suas notas foi 6.7\n"
          ]
        }
      ]
    },
    {
      "cell_type": "markdown",
      "source": [
        "12) LEIA UM NÚMERO INTEIRO E IMPRIMA O SEU ANTECESSOR E O SEU SUCESSOR"
      ],
      "metadata": {
        "id": "26rFQ41l5ir4"
      }
    },
    {
      "cell_type": "code",
      "source": [
        "hal = int(input(\"O número que vc quer: \"))\n",
        "ant = hal - 1\n",
        "suc = hal + 1\n",
        "print(f\"O sucessor do número que vc digitou é {ant} e o sucessor é {suc}\")"
      ],
      "metadata": {
        "colab": {
          "base_uri": "https://localhost:8080/"
        },
        "id": "SoMqyubM5mol",
        "outputId": "434826b2-aedb-454a-9438-225105c09e20"
      },
      "execution_count": null,
      "outputs": [
        {
          "output_type": "stream",
          "name": "stdout",
          "text": [
            "O número que vc quer: 9\n",
            "O sucessor do número que vc digitou é 8 e o sucessor é 10\n"
          ]
        }
      ]
    },
    {
      "cell_type": "markdown",
      "source": [
        "13) LEIA UM NÚMERO INTEIRO E IMPRIMA A SOMA DO SUCESSOR DE SEU TRIPLO COM O\n",
        "ANTECESSOR DE SEU DOBRO\n"
      ],
      "metadata": {
        "id": "9Kp4d8xG6AoS"
      }
    },
    {
      "cell_type": "code",
      "source": [
        "luc = int(input(\"Gia-me um número: \"))\n",
        "cul = (luc*3) + 1\n",
        "ucl = (luc*2) - 1\n",
        "soma = cul + ucl\n",
        "print(f\"A soma do sucessor do triplo com o antecessro de seu dobro é {soma}\")"
      ],
      "metadata": {
        "colab": {
          "base_uri": "https://localhost:8080/"
        },
        "id": "hrLPdXcU6DVS",
        "outputId": "ae7632b7-7bfb-4c75-9c7d-f1d99960c8d8"
      },
      "execution_count": null,
      "outputs": [
        {
          "output_type": "stream",
          "name": "stdout",
          "text": [
            "Gia-me um número: 1\n",
            "A soma do sucessor do triplo com o antecessro de seu dobro é 5\n"
          ]
        }
      ]
    },
    {
      "cell_type": "markdown",
      "source": [
        "14) LEIA O TAMANHO DO LADO DE UM QUADRADO E IMPRIMA COMO RESUL TADO A SUA ÁREA.\n"
      ],
      "metadata": {
        "id": "XDqsdZTr6v0t"
      }
    },
    {
      "cell_type": "code",
      "source": [
        "lado = int(input(\"O tamanho do lado do quadrado é: \"))\n",
        "area = lado*lado\n",
        "print(f\"Sua área é de {area}\")"
      ],
      "metadata": {
        "colab": {
          "base_uri": "https://localhost:8080/"
        },
        "id": "PyxxltO963ut",
        "outputId": "7e9c6c6d-7cee-4e75-a163-d7528155fbd7"
      },
      "execution_count": null,
      "outputs": [
        {
          "output_type": "stream",
          "name": "stdout",
          "text": [
            "O tamanho do lado do quadrado é: 4\n",
            "Sua área é de 16\n"
          ]
        }
      ]
    },
    {
      "cell_type": "markdown",
      "source": [
        "15) FAÇA UM PROGRAMA QUE LEIA O VALOR DE UM PRODUTO E IMPRIMA O VALOR COM\n",
        "DESCONTO, TENDO EM VISTA QUE O DESCONTO FOI DE 12%"
      ],
      "metadata": {
        "id": "6axT2YoO7Qky"
      }
    },
    {
      "cell_type": "code",
      "source": [
        "pord = float(input(\"O produto custa: \"))\n",
        "desconto = pord - pord*0.12\n",
        "print(f\"Com desconto, o preço é R${desconto}\")"
      ],
      "metadata": {
        "colab": {
          "base_uri": "https://localhost:8080/"
        },
        "id": "eLgotRXY7SfG",
        "outputId": "30786e33-b77d-4255-8316-a6f1064f2612"
      },
      "execution_count": null,
      "outputs": [
        {
          "output_type": "stream",
          "name": "stdout",
          "text": [
            "O produto custa: 100\n",
            "Com desconto, o preço é R$88.0\n"
          ]
        }
      ]
    },
    {
      "cell_type": "markdown",
      "source": [
        "16) LEIA O SALÁRIO DE UM FUNCIONÁRIO. CALCULE E IMPRIMA O VALOR DO NOVO SALÁRIO,\n",
        "SABENDO QUE ELE RECEBEU UM AUMENTO DE 25%."
      ],
      "metadata": {
        "id": "GYm5ePok8EKM"
      }
    },
    {
      "cell_type": "code",
      "source": [
        "sal = float(input(\"Diga o seu salário: \"))\n",
        "novo_sal = sal + sal*0.25\n",
        "print(f\"Com o aumento, tu vai ganhar {novo_sal}\")"
      ],
      "metadata": {
        "colab": {
          "base_uri": "https://localhost:8080/"
        },
        "id": "SBXnJoWe8HGq",
        "outputId": "c1720ba1-05ee-48f6-b8d0-732ee65770ee"
      },
      "execution_count": null,
      "outputs": [
        {
          "output_type": "stream",
          "name": "stdout",
          "text": [
            "Diga o seu salário: 3000\n",
            "Com o aumento, tu vai ganhar 3750.0\n"
          ]
        }
      ]
    },
    {
      "cell_type": "markdown",
      "source": [
        "17) FAÇA UM PROGRAMA QUE LEIA O VALOR DA HORA DE TRABALHO (EM REAIS) E NÉMERO DE\n",
        "HORAS TRABALHADAS NO MÊS. IMPRIMA O VALOR A SER PAGO AO FUNCIONÁRIO, ADICIONANDO\n",
        "10% SOBRE O VALOR CALCULADO."
      ],
      "metadata": {
        "id": "By0mWNpy8XXP"
      }
    },
    {
      "cell_type": "code",
      "source": [
        "horas = float(input(\"Quanto vc ganha por hora? \"))\n",
        "trab = float(input(\"E quantas horas vc trabalha? \"))\n",
        "valor = (horas * trab) \n",
        "valoradc = valor + valor*0.10\n",
        "print(f\"Vc deveria estar ganhando {valoradc}\")"
      ],
      "metadata": {
        "colab": {
          "base_uri": "https://localhost:8080/"
        },
        "id": "DoUBFVOF8cw8",
        "outputId": "1d7901c6-7563-43d6-a0de-bf16bf584683"
      },
      "execution_count": null,
      "outputs": [
        {
          "output_type": "stream",
          "name": "stdout",
          "text": [
            "Quanto vc ganha por hora? 10\n",
            "E quantas horas vc trabalha? 10\n",
            "Vc deveria estar ganhando 110.0\n"
          ]
        }
      ]
    },
    {
      "cell_type": "markdown",
      "source": [
        "18) IMPLEMENTE UM PROGRAMA QUE CALCULE O ANO DE NASCIMENTO DE UMA PESSOA A\n",
        "PART IR DE SUA IDADE E DO ANO ATUAL ."
      ],
      "metadata": {
        "id": "kKNutUDn9m3_"
      }
    },
    {
      "cell_type": "code",
      "source": [
        "idade = int(input(\"Quantos anos vc tem? \"))\n",
        "nasc = 2022 - idade\n",
        "print(f\"Então vc nasceu em {nasc}\")"
      ],
      "metadata": {
        "colab": {
          "base_uri": "https://localhost:8080/"
        },
        "id": "Hy7yj2hX9pSR",
        "outputId": "6439672f-e36f-47f3-d3fc-9b1f915c269a"
      },
      "execution_count": null,
      "outputs": [
        {
          "output_type": "stream",
          "name": "stdout",
          "text": [
            "Quantos anos vc tem? 27\n",
            "Então vc nasceu em 1995\n"
          ]
        }
      ]
    },
    {
      "cell_type": "markdown",
      "source": [
        ""
      ],
      "metadata": {
        "id": "WxAFg3v3-M6r"
      }
    },
    {
      "cell_type": "markdown",
      "source": [
        "19) ESCREVA UM PROGRAMA QUE LEIA AS COORDENADAS X E Y DE PONTOS NO R2 E CALCULE\n",
        "SUA DISTÂNCIA DA ORIGEM (0, 0)."
      ],
      "metadata": {
        "id": "9qh5gb_g-NDv"
      }
    },
    {
      "cell_type": "code",
      "source": [
        "import math\n",
        "coordx = int(input(\"O valor do eixo x: \"))\n",
        "coordy = int(input(\"o valor do eixo y: \"))\n",
        "quadx = coordx * coordx\n",
        "quady = coordy * coordy\n",
        "soma = quadx + quady\n",
        "quadr = math.sqrt(soma)\n",
        "print(f\"A distancia é: {quadr}\")"
      ],
      "metadata": {
        "colab": {
          "base_uri": "https://localhost:8080/"
        },
        "id": "5M3cGGAV-O6_",
        "outputId": "b9c792e4-8778-48d0-ddcf-dafe0379632a"
      },
      "execution_count": null,
      "outputs": [
        {
          "output_type": "stream",
          "name": "stdout",
          "text": [
            "O valor do eixo x: 7\n",
            "o valor do eixo y: 9\n",
            "A distancia é: 11.40175425099138\n"
          ]
        }
      ]
    },
    {
      "cell_type": "markdown",
      "source": [
        "20) RECEBA O SALARIO-BASE DE UM FUNCIONÁRIO. CALCULE E IMPRIMA O SALÃRIO A RECEBER, SABENDO-SE QUE ESSE FUNCIOÁRIO TEM UMA GRATIFICAÇÃO DE 5% SOBRE O SALÁRIO-BASE. ALÉM DISSO, ELE PAGA 7% DE IMPOSTO SOBRE O SALÁRIO-BASE"
      ],
      "metadata": {
        "id": "zezcxBEe_qo_"
      }
    },
    {
      "cell_type": "code",
      "source": [
        "base = float(input(\"Quanto tu ganha? \"))\n",
        "bonus = base*0.05\n",
        "imposto = base*0.07\n",
        "salreal = base + bonus - imposto\n",
        "print(f\"Então tu deve tirar uns R${salreal} líquidos né\")"
      ],
      "metadata": {
        "colab": {
          "base_uri": "https://localhost:8080/"
        },
        "id": "tEz2mhkc_vN5",
        "outputId": "b96ae86c-d9c5-4d62-b108-7e695948c401"
      },
      "execution_count": null,
      "outputs": [
        {
          "output_type": "stream",
          "name": "stdout",
          "text": [
            "Quanto tu ganha? 4000\n",
            "Então tu deve tirar uns R$3920.0 líquidos né\n"
          ]
        }
      ]
    }
  ]
}