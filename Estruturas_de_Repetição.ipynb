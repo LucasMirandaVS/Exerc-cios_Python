{
  "nbformat": 4,
  "nbformat_minor": 0,
  "metadata": {
    "colab": {
      "name": "Estruturas de Repetição.ipynb",
      "provenance": [],
      "collapsed_sections": []
    },
    "kernelspec": {
      "name": "python3",
      "display_name": "Python 3"
    },
    "language_info": {
      "name": "python"
    }
  },
  "cells": [
    {
      "cell_type": "markdown",
      "source": [
        "1) LEIA UM NÚMERO INTEIRO E IMPRIMA ATÉ O VALOR 0."
      ],
      "metadata": {
        "id": "YllmzUVN9Dr6"
      }
    },
    {
      "cell_type": "code",
      "source": [
        "num = int(input(\"Diga-me um número: \"))\n",
        "while num > 0:\n",
        "  num = num - 1\n",
        "  print(num)\n",
        "print(\"Chegamos no zeroooo\")"
      ],
      "metadata": {
        "colab": {
          "base_uri": "https://localhost:8080/"
        },
        "id": "Iaypb0BSDhrs",
        "outputId": "011aaaed-635f-4418-a8df-bb7f9777a2da"
      },
      "execution_count": null,
      "outputs": [
        {
          "output_type": "stream",
          "name": "stdout",
          "text": [
            "Diga-me um número: 5\n",
            "4\n",
            "3\n",
            "2\n",
            "1\n",
            "0\n",
            "Chegamos no zeroooo\n"
          ]
        }
      ]
    },
    {
      "cell_type": "markdown",
      "source": [
        "2) FAÇA UM PROGRAMA QUE IMPRIME A QUANTIDADE DE NÚMEROS PARES DE 10 ATÉ 20,\n",
        "INCLUINDO-OS."
      ],
      "metadata": {
        "id": "FWI4Uub1EF97"
      }
    },
    {
      "cell_type": "code",
      "source": [
        "inicial = 10\n",
        "final = 20\n",
        "while (inicial <= final):\n",
        "  print(inicial)\n",
        "  if(inicial%2 == 0 ):\n",
        "    print(inicial)\n",
        "  inicial = inicial + 1\n",
        "print(\"Acabou!\")"
      ],
      "metadata": {
        "colab": {
          "base_uri": "https://localhost:8080/"
        },
        "id": "4tmcCDO8EFRp",
        "outputId": "bf32e974-a05b-411e-df0c-dc0a0034d4ab"
      },
      "execution_count": null,
      "outputs": [
        {
          "output_type": "stream",
          "name": "stdout",
          "text": [
            "10\n",
            "10\n",
            "11\n",
            "12\n",
            "12\n",
            "13\n",
            "14\n",
            "14\n",
            "15\n",
            "16\n",
            "16\n",
            "17\n",
            "18\n",
            "18\n",
            "19\n",
            "20\n",
            "20\n",
            "Acabou!\n"
          ]
        }
      ]
    },
    {
      "cell_type": "markdown",
      "source": [
        "3) FAÇA UM PROGRAMA PARA CONTAR A QUANTIDADE DE NÚMEROS PARES ENTRE DOIS\n",
        "NÚMEROS QUAISQUER?\n"
      ],
      "metadata": {
        "id": "m1rbPc2fJ0rE"
      }
    },
    {
      "cell_type": "code",
      "source": [
        "ini = int(input(\"Diga-me um número inicial: \"))\n",
        "fin = int(input(\"Agora me fala um valor final: \"))\n",
        "while (ini <= fin):\n",
        "  if(ini %2 == 0 ):\n",
        "    print(ini)\n",
        "  ini = ini + 1\n",
        "print(\"Acabou!\")"
      ],
      "metadata": {
        "colab": {
          "base_uri": "https://localhost:8080/"
        },
        "id": "aqZfPePVJ4dX",
        "outputId": "b71ec96a-eeaa-4005-f0af-9d78e1dc4ca2"
      },
      "execution_count": null,
      "outputs": [
        {
          "output_type": "stream",
          "name": "stdout",
          "text": [
            "Diga-me um número inicial: 9\n",
            "Agora me fala um valor final: 14\n",
            "10\n",
            "12\n",
            "14\n",
            "Acabou!\n"
          ]
        }
      ]
    },
    {
      "cell_type": "markdown",
      "source": [
        "4) FAÇA UM PROGRAMA QUE IMPRIME A SOMA DE TODOS OS NÚMEROS PARES ENTRE DOIS\n",
        "NÚMEROS QUAISQUER, INCLUINDO-OS."
      ],
      "metadata": {
        "id": "RqxuvGhBMfyM"
      }
    },
    {
      "cell_type": "code",
      "source": [
        "primeiro = int(input(\"Digite o pimeiro número: \"))\n",
        "ultimo = int(input(\"Agora digite o segundo: \"))\n",
        "sum = 0\n",
        "for i in range(primeiro, ultimo + 1, 1):\n",
        "  if (i %2 == 0):\n",
        "    print(i)\n",
        "    sum += i\n",
        "print(f\"A soma dos números pares no intervalo é {sum}\")"
      ],
      "metadata": {
        "colab": {
          "base_uri": "https://localhost:8080/"
        },
        "id": "dDtNInaBMkeQ",
        "outputId": "a916e539-1a1e-4b57-ecab-8219991f93e8"
      },
      "execution_count": null,
      "outputs": [
        {
          "output_type": "stream",
          "name": "stdout",
          "text": [
            "Digite o pimeiro número: 3\n",
            "Agora digite o segundo: 10\n",
            "4\n",
            "6\n",
            "8\n",
            "10\n",
            "A soma dos números pares no intervalo é 28\n"
          ]
        }
      ]
    },
    {
      "cell_type": "markdown",
      "source": [
        "5) FAÇA UM PROGRAMA QUE CALCULE O FATORIAL DE UM NÚMERO."
      ],
      "metadata": {
        "id": "52lFjDapO9VH"
      }
    },
    {
      "cell_type": "code",
      "source": [
        "ent = int(input(\"Digite um número inteiro e positivo: \"))\n",
        "i = 1 \n",
        "controle = 1\n",
        "while ( i <= ent):\n",
        "  controle = controle * i\n",
        "  i = i + 1\n",
        "print(f\"O fatorial do número {ent} é {controle}\")\n"
      ],
      "metadata": {
        "colab": {
          "base_uri": "https://localhost:8080/"
        },
        "id": "4pZgmvojO_07",
        "outputId": "e75c3512-d0ac-40d5-aece-9c833f6c7600"
      },
      "execution_count": null,
      "outputs": [
        {
          "output_type": "stream",
          "name": "stdout",
          "text": [
            "Digite um número inteiro e positivo: 5\n",
            "O fatorial do número 5 é 120\n"
          ]
        }
      ]
    },
    {
      "cell_type": "markdown",
      "source": [
        "6) FAÇA UM PROGRAMA QUE DETERMINE O MOSTRE OS CINCO PRIMEIROS MÚLTIPLOS DE 3,\n",
        "CONSIDERANDO NÚMEROS MAIORES QUE 0"
      ],
      "metadata": {
        "id": "TslOGSLaRoTY"
      }
    },
    {
      "cell_type": "code",
      "source": [
        "mult = int(input(\"Me fala um numero que vc quer os primeiros 5 multiplos de 3: \"))\n",
        "for i in range(1, 6):\n",
        "  print(i * mult)"
      ],
      "metadata": {
        "colab": {
          "base_uri": "https://localhost:8080/"
        },
        "id": "xnlMW-WKRs6i",
        "outputId": "79176335-d7f4-455a-9070-d7a2df33f540"
      },
      "execution_count": null,
      "outputs": [
        {
          "output_type": "stream",
          "name": "stdout",
          "text": [
            "Me fala um numero que vc quer os primeiros 5 multiplos de 3: 2\n",
            "2\n",
            "4\n",
            "6\n",
            "8\n",
            "10\n"
          ]
        }
      ]
    },
    {
      "cell_type": "markdown",
      "source": [
        "7) FAÇA UM ALGORITMO UTILIZANDO O COMANDO WHILE QUE MOSTRA UMA CONTAGEM\n",
        "REGRESSIVA NA TELA, INICIANDO EM 10 E TERMINANDO EM 0. MOSTRAR UMA MENSAGEM “ FIM!” APÓS A CONTAGEM.\n",
        "\n",
        "\n"
      ],
      "metadata": {
        "id": "zw6gUakeTMf0"
      }
    },
    {
      "cell_type": "code",
      "source": [
        "i = 10\n",
        "while ( i >= 0):\n",
        "  print(i)\n",
        "  i = i - 1\n",
        "print(\"FIM!\")"
      ],
      "metadata": {
        "colab": {
          "base_uri": "https://localhost:8080/"
        },
        "id": "BYOMO4dKTYEY",
        "outputId": "c5395fa5-118a-4ddd-d5fc-e2c02fb1e4d0"
      },
      "execution_count": null,
      "outputs": [
        {
          "output_type": "stream",
          "name": "stdout",
          "text": [
            "10\n",
            "9\n",
            "8\n",
            "7\n",
            "6\n",
            "5\n",
            "4\n",
            "3\n",
            "2\n",
            "1\n",
            "0\n",
            "FIM!\n"
          ]
        }
      ]
    },
    {
      "cell_type": "markdown",
      "source": [
        "8) FAÇA UM PROGRAMA QUE PEÇA AO USUÁRIO PARA DIGITAR 10 VALORES E SOME-OS"
      ],
      "metadata": {
        "id": "8Fmpe3UYURuu"
      }
    },
    {
      "cell_type": "code",
      "source": [
        "soma = 0\n",
        "for i in range(10):\n",
        "  val_1ent = int(input(\"Digite um valor inteiro: \"))\n",
        "  soma = soma + val_ent\n",
        "print(f\" A soma é {soma}\")"
      ],
      "metadata": {
        "colab": {
          "base_uri": "https://localhost:8080/"
        },
        "id": "rVwpNM6cUVWt",
        "outputId": "731aaa50-75ee-4c03-e318-a16687cd5a46"
      },
      "execution_count": null,
      "outputs": [
        {
          "output_type": "stream",
          "name": "stdout",
          "text": [
            "Digite um valor inteiro: 1\n",
            "Digite um valor inteiro: 1\n",
            "Digite um valor inteiro: 1\n",
            "Digite um valor inteiro: 1\n",
            "Digite um valor inteiro: 1\n",
            "Digite um valor inteiro: 1\n",
            "Digite um valor inteiro: 1\n",
            "Digite um valor inteiro: 1\n",
            "Digite um valor inteiro: 1\n",
            "Digite um valor inteiro: 1\n",
            " A soma é 10\n"
          ]
        }
      ]
    },
    {
      "cell_type": "markdown",
      "source": [
        "9) FAÇA UM PROGRAMA QUE LEIA 10 INTEIROS E IMPRIMA SUA MÉDIA"
      ],
      "metadata": {
        "id": "8HkpN030Whfo"
      }
    },
    {
      "cell_type": "code",
      "source": [
        "soma = 0\n",
        "for i in range(10):\n",
        "  entra = int(input(\"Digite um valor inteiro: \"))\n",
        "  soma += entra\n",
        "media = soma/10\n",
        "print(f\"A média é {media}\")"
      ],
      "metadata": {
        "colab": {
          "base_uri": "https://localhost:8080/"
        },
        "id": "brFRYYLEWicf",
        "outputId": "e266ca7c-3f1e-4a81-fbe0-1b2af0cb923e"
      },
      "execution_count": null,
      "outputs": [
        {
          "output_type": "stream",
          "name": "stdout",
          "text": [
            "Digite um valor inteiro: 1\n",
            "Digite um valor inteiro: 2\n",
            "Digite um valor inteiro: 3\n",
            "Digite um valor inteiro: 4\n",
            "Digite um valor inteiro: 5\n",
            "Digite um valor inteiro: 6\n",
            "Digite um valor inteiro: 7\n",
            "Digite um valor inteiro: 8\n",
            "Digite um valor inteiro: 9\n",
            "Digite um valor inteiro: 10\n",
            "A média é 5.5\n"
          ]
        }
      ]
    },
    {
      "cell_type": "markdown",
      "source": [
        "10) FAÇA UM PROGRAMA QUE LEIA 10 INTEIROS POSITIVOS, IGNORANDO NAO POSITIVOS, E IMPRIMA SUA MÉDIA."
      ],
      "metadata": {
        "id": "FnUpIQ8yX_Z6"
      }
    },
    {
      "cell_type": "code",
      "source": [
        "soma = 1\n",
        "conta = 0\n",
        "for i in range(10):\n",
        "  entrada = int(input(\"Digite o valor:\"))\n",
        "  if (entrada > 0):\n",
        "    soma = soma + entrada\n",
        "    conta += 1\n",
        "media = soma/conta\n",
        "print(f\"A média dos números é {media}\")"
      ],
      "metadata": {
        "colab": {
          "base_uri": "https://localhost:8080/"
        },
        "id": "YsO4FaW8YGUU",
        "outputId": "c496b6b0-e98b-4b61-93b5-00b050f3fbe5"
      },
      "execution_count": null,
      "outputs": [
        {
          "output_type": "stream",
          "name": "stdout",
          "text": [
            "Digite o valor:1\n",
            "Digite o valor:-1\n",
            "Digite o valor:-2\n",
            "Digite o valor:3\n",
            "Digite o valor:-4\n",
            "Digite o valor:0\n",
            "Digite o valor:-3\n",
            "Digite o valor:2\n",
            "Digite o valor:-9\n",
            "Digite o valor:-8\n",
            "A média dos números é 2.3333333333333335\n"
          ]
        }
      ]
    },
    {
      "cell_type": "markdown",
      "source": [
        "11) FAÇA UM PROGRAMA QUE LEIA UM NUMERO INTEIRO N E DEPOIS IMPRIMA OS N PRIMEIROS NUMEROS NATURAIS ÍMPARES."
      ],
      "metadata": {
        "id": "lMR90ehjdZE6"
      }
    },
    {
      "cell_type": "code",
      "source": [
        "i = 0\n",
        "num_n = int(input(\"Digite um inteiro: \"))\n",
        "while ( i <= num_n):\n",
        "  if (i % 2 != 0):\n",
        "    print(i)\n",
        "  i = i + 1"
      ],
      "metadata": {
        "colab": {
          "base_uri": "https://localhost:8080/"
        },
        "id": "B5u08t05dbOl",
        "outputId": "4f30a8ae-42e3-44f3-e4ca-43b9f562ac90"
      },
      "execution_count": null,
      "outputs": [
        {
          "output_type": "stream",
          "name": "stdout",
          "text": [
            "Digite um inteiro: 15\n",
            "1\n",
            "3\n",
            "5\n",
            "7\n",
            "9\n",
            "11\n",
            "13\n",
            "15\n"
          ]
        }
      ]
    },
    {
      "cell_type": "markdown",
      "source": [
        "12) FAÇA UM PROGRAMA QUE CALCULE E MOSTRE A SOMA DOS 50 PRIMEIROS NUMEROS PARES."
      ],
      "metadata": {
        "id": "2mNYIMyKoDIS"
      }
    },
    {
      "cell_type": "code",
      "source": [
        "contador = 0\n",
        "soma = 0\n",
        "for i in range(100):\n",
        "  if ( i % 2 != 0):\n",
        "    print(i)\n",
        "    contador = contador + 1\n",
        "    soma = soma + i\n",
        "print(f\"O contador é: {contador}\")\n",
        "print(f\"A soma é: {soma}\")\n"
      ],
      "metadata": {
        "colab": {
          "base_uri": "https://localhost:8080/"
        },
        "id": "Hx2LjE7YoFqX",
        "outputId": "21d0ccfd-e26f-4646-ecba-69dbd614856c"
      },
      "execution_count": null,
      "outputs": [
        {
          "output_type": "stream",
          "name": "stdout",
          "text": [
            "1\n",
            "3\n",
            "5\n",
            "7\n",
            "9\n",
            "11\n",
            "13\n",
            "15\n",
            "17\n",
            "19\n",
            "21\n",
            "23\n",
            "25\n",
            "27\n",
            "29\n",
            "31\n",
            "33\n",
            "35\n",
            "37\n",
            "39\n",
            "41\n",
            "43\n",
            "45\n",
            "47\n",
            "49\n",
            "51\n",
            "53\n",
            "55\n",
            "57\n",
            "59\n",
            "61\n",
            "63\n",
            "65\n",
            "67\n",
            "69\n",
            "71\n",
            "73\n",
            "75\n",
            "77\n",
            "79\n",
            "81\n",
            "83\n",
            "85\n",
            "87\n",
            "89\n",
            "91\n",
            "93\n",
            "95\n",
            "97\n",
            "99\n",
            "O contador é: 50\n",
            "A soma é: 2500\n"
          ]
        }
      ]
    },
    {
      "cell_type": "markdown",
      "source": [
        "13) IMPRIMA OS PRIMEIROS 10 NÚMEROS NATURAIS USANDO O LOOP WHILE."
      ],
      "metadata": {
        "id": "hKf2ztGBpUk9"
      }
    },
    {
      "cell_type": "code",
      "source": [
        "i =0\n",
        "while ( i <= 10):\n",
        "    print(i)\n",
        "    i = i + 1"
      ],
      "metadata": {
        "colab": {
          "base_uri": "https://localhost:8080/"
        },
        "id": "D14r0AfipXHf",
        "outputId": "405cc8be-29a8-4297-f76b-effe4aaf2a2a"
      },
      "execution_count": null,
      "outputs": [
        {
          "output_type": "stream",
          "name": "stdout",
          "text": [
            "0\n",
            "1\n",
            "2\n",
            "3\n",
            "4\n",
            "5\n",
            "6\n",
            "7\n",
            "8\n",
            "9\n",
            "10\n"
          ]
        }
      ]
    },
    {
      "cell_type": "markdown",
      "source": [
        "14) IMPRIMIR TABUADA DE UM DETERMINADO NÚMERO"
      ],
      "metadata": {
        "id": "aWAikqe7qEIi"
      }
    },
    {
      "cell_type": "code",
      "source": [
        "num = int(input(\"Digite um número natural: \"))\n",
        "i = 0\n",
        "while (i <= 10):\n",
        "  print(f\"{num} * {i} = {num * i}\")\n",
        "  i = i + 1\n"
      ],
      "metadata": {
        "colab": {
          "base_uri": "https://localhost:8080/"
        },
        "id": "LIG0lfswqFEo",
        "outputId": "45613014-5dbc-464a-b051-1cdb7ff82115"
      },
      "execution_count": null,
      "outputs": [
        {
          "output_type": "stream",
          "name": "stdout",
          "text": [
            "Digite um número natural: 8\n",
            "8 * 0 = 0\n",
            "8 * 1 = 8\n",
            "8 * 2 = 16\n",
            "8 * 3 = 24\n",
            "8 * 4 = 32\n",
            "8 * 5 = 40\n",
            "8 * 6 = 48\n",
            "8 * 7 = 56\n",
            "8 * 8 = 64\n",
            "8 * 9 = 72\n",
            "8 * 10 = 80\n"
          ]
        }
      ]
    },
    {
      "cell_type": "markdown",
      "source": [
        "15) EXIBIR NÚMEROS DE -10 A -1 USANDO O LOOP FOR"
      ],
      "metadata": {
        "id": "UdWSW5WYq6_R"
      }
    },
    {
      "cell_type": "code",
      "source": [
        "for i in range (-10, 0, 1):\n",
        "  print(i)"
      ],
      "metadata": {
        "colab": {
          "base_uri": "https://localhost:8080/"
        },
        "id": "O06Viwh7q_vr",
        "outputId": "96321587-0363-4981-b735-9b9afd43333d"
      },
      "execution_count": null,
      "outputs": [
        {
          "output_type": "stream",
          "name": "stdout",
          "text": [
            "-10\n",
            "-9\n",
            "-8\n",
            "-7\n",
            "-6\n",
            "-5\n",
            "-4\n",
            "-3\n",
            "-2\n",
            "-1\n"
          ]
        }
      ]
    },
    {
      "cell_type": "markdown",
      "source": [
        "16) LEIA UM NÚMERO INTEIRO E MOSTRE O CUBO ATÉ ESSE NÚMERO."
      ],
      "metadata": {
        "id": "GaYdpeN-sEyG"
      }
    },
    {
      "cell_type": "code",
      "source": [
        "eiro = int(input(\"Diga-me um número: \"))\n",
        "i = 0\n",
        "while (i <= eiro):\n",
        "  print(i*i*i)\n",
        "  i = i + 1\n"
      ],
      "metadata": {
        "colab": {
          "base_uri": "https://localhost:8080/"
        },
        "id": "Envfwl7gsJmh",
        "outputId": "ecdb8c0f-7137-462b-f4c1-fcb8c83daa81"
      },
      "execution_count": null,
      "outputs": [
        {
          "output_type": "stream",
          "name": "stdout",
          "text": [
            "Diga-me um número: 9\n",
            "0\n",
            "1\n",
            "8\n",
            "27\n",
            "64\n",
            "125\n",
            "216\n",
            "343\n",
            "512\n",
            "729\n"
          ]
        }
      ]
    },
    {
      "cell_type": "markdown",
      "source": [
        "17) FAÇA UM PROGRAMA QUE LEIA UM NÚMERO INTEIRO POSITIVO N E IMPRIMA TODOS OS\n",
        "NÚMEROS NATURAIS DE 0 ATÉ N EM ORDEM DECRESCENTE"
      ],
      "metadata": {
        "id": "9ZIwYbx2toEO"
      }
    },
    {
      "cell_type": "code",
      "source": [
        "inte = int(input(\"Diga um número: \"))\n",
        "for i in range(inte, 0, -1):\n",
        "  print(i)"
      ],
      "metadata": {
        "colab": {
          "base_uri": "https://localhost:8080/"
        },
        "id": "vxx3Duhstr0t",
        "outputId": "239c7204-2957-4981-c605-8052cf7ac982"
      },
      "execution_count": null,
      "outputs": [
        {
          "output_type": "stream",
          "name": "stdout",
          "text": [
            "Diga um número: 8\n",
            "8\n",
            "7\n",
            "6\n",
            "5\n",
            "4\n",
            "3\n",
            "2\n",
            "1\n"
          ]
        }
      ]
    },
    {
      "cell_type": "markdown",
      "source": [
        "18) FAÇA UM PROGRAMA QUE LEIA UM NUMERO INTEIRO POSITIVO N E IMPRIMA TODOS OS\n",
        "NÚMEROS NATURAIS DE 0 ATÉ N EM ORDEM CRESCENTE.\n"
      ],
      "metadata": {
        "id": "5fI7o4GGuYpl"
      }
    },
    {
      "cell_type": "code",
      "source": [
        "natura = int(input(\"Entre com um número natural: \"))\n",
        "for i in range(0, natura +1, 1):\n",
        "  print(i)"
      ],
      "metadata": {
        "colab": {
          "base_uri": "https://localhost:8080/"
        },
        "id": "wsIU_B_luZo5",
        "outputId": "91cfefed-d536-4004-98bd-54e9d5d10a35"
      },
      "execution_count": null,
      "outputs": [
        {
          "output_type": "stream",
          "name": "stdout",
          "text": [
            "Entre com um número natural: 18\n",
            "0\n",
            "1\n",
            "2\n",
            "3\n",
            "4\n",
            "5\n",
            "6\n",
            "7\n",
            "8\n",
            "9\n",
            "10\n",
            "11\n",
            "12\n",
            "13\n",
            "14\n",
            "15\n",
            "16\n",
            "17\n",
            "18\n"
          ]
        }
      ]
    },
    {
      "cell_type": "markdown",
      "source": [
        "19) LEIA UM NÚMERO INTEIRO, E CONTE O NÚMERO TOTAL DE DÍGITOS. EX: 3 (1 DÍGITO), 10 (2 DÍGITOS), 233 (3 DÍGITOS), ETC."
      ],
      "metadata": {
        "id": "47CYa1I5u9vy"
      }
    },
    {
      "cell_type": "code",
      "source": [
        "val = int(input(\"Digite um número: \"))\n",
        "contador = 0\n",
        "while ( val > 0 ):\n",
        "  val = val // 10\n",
        "  contador = contador + 1\n",
        "  print(val)\n",
        "print(f\"O valor é {contador}\")\n"
      ],
      "metadata": {
        "colab": {
          "base_uri": "https://localhost:8080/"
        },
        "id": "JTi5a4nsu9FL",
        "outputId": "5d27b022-da39-4c07-f6f0-686fc4f542fd"
      },
      "execution_count": null,
      "outputs": [
        {
          "output_type": "stream",
          "name": "stdout",
          "text": [
            "Digite um número: 9999\n",
            "999\n",
            "99\n",
            "9\n",
            "0\n",
            "O valor é 4\n"
          ]
        }
      ]
    },
    {
      "cell_type": "markdown",
      "source": [
        "20) 4) FAÇA UM PROGRAMA QUE IMPRIME A SOMA DE TODOS OS NÚMEROS ÍMPARES ENTRE\n",
        "DOIS NÚMEROS QUAISQUER, INCLUINDO-OS."
      ],
      "metadata": {
        "id": "A8t_HDntv9no"
      }
    },
    {
      "cell_type": "code",
      "source": [
        "primeiro = int(input(\"Digite o pimeiro número: \"))\n",
        "ultimo = int(input(\"Agora digite o segundo: \"))\n",
        "sum = 0\n",
        "for i in range(primeiro, ultimo + 1, 1):\n",
        "  if (i %2 == 1):\n",
        "    print(i)\n",
        "    sum += i\n",
        "print(f\"A soma dos números ímpares no intervalo é {sum}\")"
      ],
      "metadata": {
        "colab": {
          "base_uri": "https://localhost:8080/"
        },
        "id": "AdaKnH93wAhP",
        "outputId": "0dc01932-3aa0-46ae-e32b-1d8167dc0bba"
      },
      "execution_count": null,
      "outputs": [
        {
          "output_type": "stream",
          "name": "stdout",
          "text": [
            "Digite o pimeiro número: 11\n",
            "Agora digite o segundo: 30\n",
            "11\n",
            "13\n",
            "15\n",
            "17\n",
            "19\n",
            "21\n",
            "23\n",
            "25\n",
            "27\n",
            "29\n",
            "A soma dos números ímpares no intervalo é 200\n"
          ]
        }
      ]
    }
  ]
}